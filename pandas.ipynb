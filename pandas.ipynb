{
 "cells": [
  {
   "cell_type": "markdown",
   "id": "df031775",
   "metadata": {},
   "source": [
    "# **Handbook: Using Pandas in Python**\n",
    "---"
   ]
  },
  {
   "cell_type": "markdown",
   "id": "b086013f",
   "metadata": {},
   "source": [
    "## **Part 1: Introduction to Pandas**\n",
    "\n",
    "### **1. Getting Started with Pandas**\n",
    "\n",
    "Pandas is a versatile and powerful Python library for data manipulation and analysis. In this section, we'll cover the basics of getting started with Pandas.\n",
    "\n",
    "#### **1.1. Installation and Setup**\n",
    "\n",
    "Before you can start using Pandas, you need to install it. Open your terminal or command prompt and run the following command:\n",
    "\n",
    "```bash\n",
    "pip install pandas\n",
    "```"
   ]
  },
  {
   "cell_type": "markdown",
   "id": "cccf7dd2",
   "metadata": {},
   "source": [
    "Once Pandas is installed, you can import it into your Python scripts or Jupyter Notebooks using the following import statement:"
   ]
  },
  {
   "cell_type": "code",
   "execution_count": 1,
   "id": "c7e3e5bc",
   "metadata": {},
   "outputs": [],
   "source": [
    "import pandas as pd\n",
    "\n",
    "# display used to display more that one pandas df/series \n",
    "# per code cell\n",
    "from IPython.display import display\n"
   ]
  },
  {
   "cell_type": "markdown",
   "id": "2b8ace31",
   "metadata": {},
   "source": [
    "#### **1.2. Creating Series and DataFrames**\n",
    "\n",
    "Pandas introduces two fundamental data structures: Series and DataFrame."
   ]
  },
  {
   "cell_type": "markdown",
   "id": "0478d493",
   "metadata": {},
   "source": [
    "##### **1.2.1. Series:** \n",
    "\n",
    "A Series is a one-dimensional labeled array that can hold various data types."
   ]
  },
  {
   "cell_type": "code",
   "execution_count": 19,
   "id": "1ccc1512",
   "metadata": {},
   "outputs": [
    {
     "name": "stdout",
     "output_type": "stream",
     "text": [
      "0    10\n",
      "1    20\n",
      "2    30\n",
      "3    40\n",
      "4    50\n",
      "Name: MySeries, dtype: int64\n"
     ]
    }
   ],
   "source": [
    "import pandas as pd\n",
    "\n",
    "data = [10, 20, 30, 40, 50]\n",
    "s = pd.Series(data, name=\"MySeries\")\n",
    "\n",
    "print(s)"
   ]
  },
  {
   "cell_type": "markdown",
   "id": "a4aeb16a",
   "metadata": {},
   "source": [
    "##### **1.2.2. DataFrame:** \n",
    "\n",
    "A DataFrame is a two-dimensional labeled data structure, similar to a table in a database."
   ]
  },
  {
   "cell_type": "code",
   "execution_count": 17,
   "id": "cd6c90b2",
   "metadata": {},
   "outputs": [
    {
     "data": {
      "text/html": [
       "<div>\n",
       "<style scoped>\n",
       "    .dataframe tbody tr th:only-of-type {\n",
       "        vertical-align: middle;\n",
       "    }\n",
       "\n",
       "    .dataframe tbody tr th {\n",
       "        vertical-align: top;\n",
       "    }\n",
       "\n",
       "    .dataframe thead th {\n",
       "        text-align: right;\n",
       "    }\n",
       "</style>\n",
       "<table border=\"1\" class=\"dataframe\">\n",
       "  <thead>\n",
       "    <tr style=\"text-align: right;\">\n",
       "      <th></th>\n",
       "      <th>Name</th>\n",
       "      <th>Age</th>\n",
       "    </tr>\n",
       "  </thead>\n",
       "  <tbody>\n",
       "    <tr>\n",
       "      <th>0</th>\n",
       "      <td>Alice</td>\n",
       "      <td>25</td>\n",
       "    </tr>\n",
       "    <tr>\n",
       "      <th>1</th>\n",
       "      <td>Bob</td>\n",
       "      <td>30</td>\n",
       "    </tr>\n",
       "    <tr>\n",
       "      <th>2</th>\n",
       "      <td>Charlie</td>\n",
       "      <td>22</td>\n",
       "    </tr>\n",
       "  </tbody>\n",
       "</table>\n",
       "</div>"
      ],
      "text/plain": [
       "      Name  Age\n",
       "0    Alice   25\n",
       "1      Bob   30\n",
       "2  Charlie   22"
      ]
     },
     "execution_count": 17,
     "metadata": {},
     "output_type": "execute_result"
    }
   ],
   "source": [
    "import pandas as pd\n",
    "\n",
    "data = {'Name': ['Alice', 'Bob', 'Charlie'],\n",
    "        'Age': [25, 30, 22]}\n",
    "\n",
    "df = pd.DataFrame(data)\n",
    "\n",
    "df"
   ]
  },
  {
   "cell_type": "markdown",
   "id": "c338823c",
   "metadata": {},
   "source": [
    "#### **1.3. Basic Operations**\n",
    "\n",
    "Pandas provides several useful functions for exploring and summarizing your data.\n",
    "\n",
    "##### **1.3.1. head() and tail():** \n",
    "\n",
    "Display the first or last few rows of a DataFrame."
   ]
  },
  {
   "cell_type": "code",
   "execution_count": 16,
   "id": "eb6b838a",
   "metadata": {},
   "outputs": [
    {
     "name": "stdout",
     "output_type": "stream",
     "text": [
      "    Name  Age\n",
      "0  Alice   25\n",
      "1    Bob   30\n",
      "      Name  Age\n",
      "1      Bob   30\n",
      "2  Charlie   22\n"
     ]
    }
   ],
   "source": [
    "import pandas as pd\n",
    "\n",
    "# Create a DataFrame\n",
    "data = {'Name': ['Alice', 'Bob', 'Charlie'],\n",
    "        'Age': [25, 30, 22]}\n",
    "df = pd.DataFrame(data)\n",
    "\n",
    "# Display the first two rows\n",
    "print(df.head(2))\n",
    "\n",
    "# Display the last two rows\n",
    "print(df.tail(2))"
   ]
  },
  {
   "cell_type": "markdown",
   "id": "f568bc9c",
   "metadata": {},
   "source": [
    "To display more than one tables in a nicer format from one code cell you can using the following:"
   ]
  },
  {
   "cell_type": "code",
   "execution_count": 15,
   "id": "dc87e2d9",
   "metadata": {},
   "outputs": [
    {
     "data": {
      "text/markdown": [
       "**First Two Rows:**"
      ],
      "text/plain": [
       "<IPython.core.display.Markdown object>"
      ]
     },
     "metadata": {},
     "output_type": "display_data"
    },
    {
     "data": {
      "text/html": [
       "<div>\n",
       "<style scoped>\n",
       "    .dataframe tbody tr th:only-of-type {\n",
       "        vertical-align: middle;\n",
       "    }\n",
       "\n",
       "    .dataframe tbody tr th {\n",
       "        vertical-align: top;\n",
       "    }\n",
       "\n",
       "    .dataframe thead th {\n",
       "        text-align: right;\n",
       "    }\n",
       "</style>\n",
       "<table border=\"1\" class=\"dataframe\">\n",
       "  <thead>\n",
       "    <tr style=\"text-align: right;\">\n",
       "      <th></th>\n",
       "      <th>Name</th>\n",
       "      <th>Age</th>\n",
       "    </tr>\n",
       "  </thead>\n",
       "  <tbody>\n",
       "    <tr>\n",
       "      <th>0</th>\n",
       "      <td>Alice</td>\n",
       "      <td>25</td>\n",
       "    </tr>\n",
       "    <tr>\n",
       "      <th>1</th>\n",
       "      <td>Bob</td>\n",
       "      <td>30</td>\n",
       "    </tr>\n",
       "  </tbody>\n",
       "</table>\n",
       "</div>"
      ],
      "text/plain": [
       "    Name  Age\n",
       "0  Alice   25\n",
       "1    Bob   30"
      ]
     },
     "metadata": {},
     "output_type": "display_data"
    },
    {
     "data": {
      "text/markdown": [
       "**Last Two Rows:**"
      ],
      "text/plain": [
       "<IPython.core.display.Markdown object>"
      ]
     },
     "metadata": {},
     "output_type": "display_data"
    },
    {
     "data": {
      "text/html": [
       "<div>\n",
       "<style scoped>\n",
       "    .dataframe tbody tr th:only-of-type {\n",
       "        vertical-align: middle;\n",
       "    }\n",
       "\n",
       "    .dataframe tbody tr th {\n",
       "        vertical-align: top;\n",
       "    }\n",
       "\n",
       "    .dataframe thead th {\n",
       "        text-align: right;\n",
       "    }\n",
       "</style>\n",
       "<table border=\"1\" class=\"dataframe\">\n",
       "  <thead>\n",
       "    <tr style=\"text-align: right;\">\n",
       "      <th></th>\n",
       "      <th>Name</th>\n",
       "      <th>Age</th>\n",
       "    </tr>\n",
       "  </thead>\n",
       "  <tbody>\n",
       "    <tr>\n",
       "      <th>1</th>\n",
       "      <td>Bob</td>\n",
       "      <td>30</td>\n",
       "    </tr>\n",
       "    <tr>\n",
       "      <th>2</th>\n",
       "      <td>Charlie</td>\n",
       "      <td>22</td>\n",
       "    </tr>\n",
       "  </tbody>\n",
       "</table>\n",
       "</div>"
      ],
      "text/plain": [
       "      Name  Age\n",
       "1      Bob   30\n",
       "2  Charlie   22"
      ]
     },
     "metadata": {},
     "output_type": "display_data"
    }
   ],
   "source": [
    "from IPython.display import Markdown, display\n",
    "\n",
    "# Create a Markdown table for the first two rows\n",
    "display(Markdown(\"**First Two Rows:**\"))\n",
    "display(df.head(2))\n",
    "\n",
    "# Create a Markdown table for the last two rows\n",
    "display(Markdown(\"**Last Two Rows:**\"))\n",
    "display(df.tail(2))"
   ]
  },
  {
   "cell_type": "markdown",
   "id": "d7f26615",
   "metadata": {},
   "source": [
    "##### **1.3.2. describe():** \n",
    "\n",
    "Generate summary statistics of numeric columns."
   ]
  },
  {
   "cell_type": "code",
   "execution_count": 21,
   "id": "d170089a",
   "metadata": {},
   "outputs": [
    {
     "data": {
      "text/html": [
       "<div>\n",
       "<style scoped>\n",
       "    .dataframe tbody tr th:only-of-type {\n",
       "        vertical-align: middle;\n",
       "    }\n",
       "\n",
       "    .dataframe tbody tr th {\n",
       "        vertical-align: top;\n",
       "    }\n",
       "\n",
       "    .dataframe thead th {\n",
       "        text-align: right;\n",
       "    }\n",
       "</style>\n",
       "<table border=\"1\" class=\"dataframe\">\n",
       "  <thead>\n",
       "    <tr style=\"text-align: right;\">\n",
       "      <th></th>\n",
       "      <th>Age</th>\n",
       "    </tr>\n",
       "  </thead>\n",
       "  <tbody>\n",
       "    <tr>\n",
       "      <th>count</th>\n",
       "      <td>5.000000</td>\n",
       "    </tr>\n",
       "    <tr>\n",
       "      <th>mean</th>\n",
       "      <td>28.000000</td>\n",
       "    </tr>\n",
       "    <tr>\n",
       "      <th>std</th>\n",
       "      <td>4.949747</td>\n",
       "    </tr>\n",
       "    <tr>\n",
       "      <th>min</th>\n",
       "      <td>22.000000</td>\n",
       "    </tr>\n",
       "    <tr>\n",
       "      <th>25%</th>\n",
       "      <td>25.000000</td>\n",
       "    </tr>\n",
       "    <tr>\n",
       "      <th>50%</th>\n",
       "      <td>28.000000</td>\n",
       "    </tr>\n",
       "    <tr>\n",
       "      <th>75%</th>\n",
       "      <td>30.000000</td>\n",
       "    </tr>\n",
       "    <tr>\n",
       "      <th>max</th>\n",
       "      <td>35.000000</td>\n",
       "    </tr>\n",
       "  </tbody>\n",
       "</table>\n",
       "</div>"
      ],
      "text/plain": [
       "             Age\n",
       "count   5.000000\n",
       "mean   28.000000\n",
       "std     4.949747\n",
       "min    22.000000\n",
       "25%    25.000000\n",
       "50%    28.000000\n",
       "75%    30.000000\n",
       "max    35.000000"
      ]
     },
     "execution_count": 21,
     "metadata": {},
     "output_type": "execute_result"
    }
   ],
   "source": [
    "import pandas as pd\n",
    "\n",
    "# Create a DataFrame\n",
    "data = {'Age': [25, 30, 22, 35, 28]}\n",
    "df = pd.DataFrame(data)\n",
    "\n",
    "# Display summary statistics\n",
    "df.describe()"
   ]
  },
  {
   "cell_type": "markdown",
   "id": "cb4ce2f2",
   "metadata": {},
   "source": [
    "##### **1.3.3. info():** \n",
    "\n",
    "Display information about the DataFrame, including data types and non-null values."
   ]
  },
  {
   "cell_type": "code",
   "execution_count": 22,
   "id": "1413f8c7",
   "metadata": {},
   "outputs": [
    {
     "name": "stdout",
     "output_type": "stream",
     "text": [
      "<class 'pandas.core.frame.DataFrame'>\n",
      "RangeIndex: 3 entries, 0 to 2\n",
      "Data columns (total 2 columns):\n",
      " #   Column  Non-Null Count  Dtype \n",
      "---  ------  --------------  ----- \n",
      " 0   Name    3 non-null      object\n",
      " 1   Age     3 non-null      int64 \n",
      "dtypes: int64(1), object(1)\n",
      "memory usage: 180.0+ bytes\n"
     ]
    }
   ],
   "source": [
    "import pandas as pd\n",
    "\n",
    "# Create a DataFrame\n",
    "data = {'Name': ['Alice', 'Bob', 'Charlie'],\n",
    "        'Age': [25, 30, 22]}\n",
    "df = pd.DataFrame(data)\n",
    "\n",
    "# Display DataFrame information\n",
    "df.info()"
   ]
  },
  {
   "cell_type": "markdown",
   "id": "bc1fc5e2",
   "metadata": {},
   "source": [
    "### **2. Indexing and Selecting Data**\n",
    "\n",
    "Indexing and selecting data are fundamental operations when working with Pandas. In this section, we'll explore different methods for accessing and manipulating data within Series and DataFrames.\n",
    "\n",
    "#### **2.1. Indexing Methods (loc, iloc)**\n",
    "\n",
    "Pandas provides two primary methods for indexing and selecting data: `loc` and `iloc`.\n",
    "\n",
    "##### **2.1.1. loc:**  \n",
    "Select data by label."
   ]
  },
  {
   "cell_type": "code",
   "execution_count": 32,
   "id": "8356d6c0",
   "metadata": {},
   "outputs": [
    {
     "data": {
      "text/markdown": [
       "Select a row by label"
      ],
      "text/plain": [
       "<IPython.core.display.Markdown object>"
      ]
     },
     "metadata": {},
     "output_type": "display_data"
    },
    {
     "data": {
      "text/plain": [
       "Name    Alice\n",
       "Age        25\n",
       "Name: row1, dtype: object"
      ]
     },
     "metadata": {},
     "output_type": "display_data"
    },
    {
     "data": {
      "text/plain": [
       "30"
      ]
     },
     "metadata": {},
     "output_type": "display_data"
    },
    {
     "data": {
      "text/html": [
       "<div>\n",
       "<style scoped>\n",
       "    .dataframe tbody tr th:only-of-type {\n",
       "        vertical-align: middle;\n",
       "    }\n",
       "\n",
       "    .dataframe tbody tr th {\n",
       "        vertical-align: top;\n",
       "    }\n",
       "\n",
       "    .dataframe thead th {\n",
       "        text-align: right;\n",
       "    }\n",
       "</style>\n",
       "<table border=\"1\" class=\"dataframe\">\n",
       "  <thead>\n",
       "    <tr style=\"text-align: right;\">\n",
       "      <th></th>\n",
       "      <th>Name</th>\n",
       "      <th>Age</th>\n",
       "    </tr>\n",
       "  </thead>\n",
       "  <tbody>\n",
       "    <tr>\n",
       "      <th>row1</th>\n",
       "      <td>Alice</td>\n",
       "      <td>25</td>\n",
       "    </tr>\n",
       "    <tr>\n",
       "      <th>row3</th>\n",
       "      <td>Charlie</td>\n",
       "      <td>22</td>\n",
       "    </tr>\n",
       "  </tbody>\n",
       "</table>\n",
       "</div>"
      ],
      "text/plain": [
       "         Name  Age\n",
       "row1    Alice   25\n",
       "row3  Charlie   22"
      ]
     },
     "metadata": {},
     "output_type": "display_data"
    }
   ],
   "source": [
    "import pandas as pd\n",
    "from IPython.display import display\n",
    "\n",
    "# Create a DataFrame\n",
    "data = {'Name': ['Alice', 'Bob', 'Charlie'],\n",
    "        'Age': [25, 30, 22]}\n",
    "df = pd.DataFrame(data, index=['row1', 'row2', 'row3'])\n",
    "\n",
    "# Select a row by label\n",
    "display(df.loc['row1'])\n",
    "\n",
    "# Select a single cell by label\n",
    "display(df.loc['row2', 'Age'])\n",
    "\n",
    "# Select multiple rows and columns by label\n",
    "display(df.loc[['row1', 'row3'], ['Name', 'Age']])"
   ]
  },
  {
   "cell_type": "markdown",
   "id": "adac3652",
   "metadata": {},
   "source": [
    "##### **2.1.2. iloc:** \n",
    "Select data by integer position."
   ]
  },
  {
   "cell_type": "code",
   "execution_count": 33,
   "id": "0b53887a",
   "metadata": {},
   "outputs": [
    {
     "data": {
      "text/plain": [
       "Name    Bob\n",
       "Age      30\n",
       "Name: 1, dtype: object"
      ]
     },
     "metadata": {},
     "output_type": "display_data"
    },
    {
     "data": {
      "text/plain": [
       "25"
      ]
     },
     "metadata": {},
     "output_type": "display_data"
    },
    {
     "data": {
      "text/html": [
       "<div>\n",
       "<style scoped>\n",
       "    .dataframe tbody tr th:only-of-type {\n",
       "        vertical-align: middle;\n",
       "    }\n",
       "\n",
       "    .dataframe tbody tr th {\n",
       "        vertical-align: top;\n",
       "    }\n",
       "\n",
       "    .dataframe thead th {\n",
       "        text-align: right;\n",
       "    }\n",
       "</style>\n",
       "<table border=\"1\" class=\"dataframe\">\n",
       "  <thead>\n",
       "    <tr style=\"text-align: right;\">\n",
       "      <th></th>\n",
       "      <th>Name</th>\n",
       "      <th>Age</th>\n",
       "    </tr>\n",
       "  </thead>\n",
       "  <tbody>\n",
       "    <tr>\n",
       "      <th>0</th>\n",
       "      <td>Alice</td>\n",
       "      <td>25</td>\n",
       "    </tr>\n",
       "    <tr>\n",
       "      <th>2</th>\n",
       "      <td>Charlie</td>\n",
       "      <td>22</td>\n",
       "    </tr>\n",
       "  </tbody>\n",
       "</table>\n",
       "</div>"
      ],
      "text/plain": [
       "      Name  Age\n",
       "0    Alice   25\n",
       "2  Charlie   22"
      ]
     },
     "metadata": {},
     "output_type": "display_data"
    }
   ],
   "source": [
    "import pandas as pd\n",
    "from IPython.display import display\n",
    "\n",
    "# Create a DataFrame\n",
    "data = {'Name': ['Alice', 'Bob', 'Charlie'],\n",
    "        'Age': [25, 30, 22]}\n",
    "df = pd.DataFrame(data)\n",
    "\n",
    "# Select the second row by integer position\n",
    "display(df.iloc[1])\n",
    "\n",
    "# Select a single cell by integer position\n",
    "display(df.iloc[0, 1])\n",
    "\n",
    "# Select multiple rows and columns by integer position\n",
    "display(df.iloc[[0, 2], [0, 1]])"
   ]
  },
  {
   "cell_type": "markdown",
   "id": "3b372e2f",
   "metadata": {},
   "source": [
    "#### **2.2. Conditional Selection**\n",
    "\n",
    "You can use conditional statements to filter data based on specific conditions."
   ]
  },
  {
   "cell_type": "code",
   "execution_count": 35,
   "id": "b8caf150",
   "metadata": {},
   "outputs": [
    {
     "data": {
      "text/html": [
       "<div>\n",
       "<style scoped>\n",
       "    .dataframe tbody tr th:only-of-type {\n",
       "        vertical-align: middle;\n",
       "    }\n",
       "\n",
       "    .dataframe tbody tr th {\n",
       "        vertical-align: top;\n",
       "    }\n",
       "\n",
       "    .dataframe thead th {\n",
       "        text-align: right;\n",
       "    }\n",
       "</style>\n",
       "<table border=\"1\" class=\"dataframe\">\n",
       "  <thead>\n",
       "    <tr style=\"text-align: right;\">\n",
       "      <th></th>\n",
       "      <th>Name</th>\n",
       "      <th>Age</th>\n",
       "    </tr>\n",
       "  </thead>\n",
       "  <tbody>\n",
       "    <tr>\n",
       "      <th>1</th>\n",
       "      <td>Bob</td>\n",
       "      <td>30</td>\n",
       "    </tr>\n",
       "  </tbody>\n",
       "</table>\n",
       "</div>"
      ],
      "text/plain": [
       "  Name  Age\n",
       "1  Bob   30"
      ]
     },
     "execution_count": 35,
     "metadata": {},
     "output_type": "execute_result"
    }
   ],
   "source": [
    "import pandas as pd\n",
    "\n",
    "# Create a DataFrame\n",
    "data = {'Name': ['Alice', 'Bob', 'Charlie'],\n",
    "        'Age': [25, 30, 22]}\n",
    "df = pd.DataFrame(data)\n",
    "\n",
    "# Select rows where Age is greater than 25\n",
    "selected_rows = df[df['Age'] > 25]\n",
    "\n",
    "selected_rows"
   ]
  },
  {
   "cell_type": "markdown",
   "id": "fb4370d4",
   "metadata": {},
   "source": [
    "#### **2.3. Boolean Series and DataFrame Filtering**\n",
    "\n",
    "Boolean Series and DataFrames are powerful tools for conditional filtering and selection."
   ]
  },
  {
   "cell_type": "code",
   "execution_count": 36,
   "id": "b64bee32",
   "metadata": {},
   "outputs": [
    {
     "data": {
      "text/html": [
       "<div>\n",
       "<style scoped>\n",
       "    .dataframe tbody tr th:only-of-type {\n",
       "        vertical-align: middle;\n",
       "    }\n",
       "\n",
       "    .dataframe tbody tr th {\n",
       "        vertical-align: top;\n",
       "    }\n",
       "\n",
       "    .dataframe thead th {\n",
       "        text-align: right;\n",
       "    }\n",
       "</style>\n",
       "<table border=\"1\" class=\"dataframe\">\n",
       "  <thead>\n",
       "    <tr style=\"text-align: right;\">\n",
       "      <th></th>\n",
       "      <th>Name</th>\n",
       "      <th>Age</th>\n",
       "    </tr>\n",
       "  </thead>\n",
       "  <tbody>\n",
       "    <tr>\n",
       "      <th>1</th>\n",
       "      <td>Bob</td>\n",
       "      <td>30</td>\n",
       "    </tr>\n",
       "  </tbody>\n",
       "</table>\n",
       "</div>"
      ],
      "text/plain": [
       "  Name  Age\n",
       "1  Bob   30"
      ]
     },
     "execution_count": 36,
     "metadata": {},
     "output_type": "execute_result"
    }
   ],
   "source": [
    "import pandas as pd\n",
    "\n",
    "# Create a DataFrame\n",
    "data = {'Name': ['Alice', 'Bob', 'Charlie'],\n",
    "        'Age': [25, 30, 22]}\n",
    "df = pd.DataFrame(data)\n",
    "\n",
    "# Create a boolean Series based on a condition\n",
    "age_above_25 = df['Age'] > 25\n",
    "\n",
    "# Use the boolean Series to filter the DataFrame\n",
    "filtered_df = df[age_above_25]\n",
    "\n",
    "filtered_df"
   ]
  },
  {
   "cell_type": "markdown",
   "id": "6f21aabc",
   "metadata": {},
   "source": [
    "You can also combine multiple conditions using logical operators (`&` for AND, `|` for OR)."
   ]
  },
  {
   "cell_type": "code",
   "execution_count": 37,
   "id": "00209849",
   "metadata": {},
   "outputs": [
    {
     "data": {
      "text/html": [
       "<div>\n",
       "<style scoped>\n",
       "    .dataframe tbody tr th:only-of-type {\n",
       "        vertical-align: middle;\n",
       "    }\n",
       "\n",
       "    .dataframe tbody tr th {\n",
       "        vertical-align: top;\n",
       "    }\n",
       "\n",
       "    .dataframe thead th {\n",
       "        text-align: right;\n",
       "    }\n",
       "</style>\n",
       "<table border=\"1\" class=\"dataframe\">\n",
       "  <thead>\n",
       "    <tr style=\"text-align: right;\">\n",
       "      <th></th>\n",
       "      <th>Name</th>\n",
       "      <th>Age</th>\n",
       "    </tr>\n",
       "  </thead>\n",
       "  <tbody>\n",
       "    <tr>\n",
       "      <th>1</th>\n",
       "      <td>Bob</td>\n",
       "      <td>30</td>\n",
       "    </tr>\n",
       "  </tbody>\n",
       "</table>\n",
       "</div>"
      ],
      "text/plain": [
       "  Name  Age\n",
       "1  Bob   30"
      ]
     },
     "execution_count": 37,
     "metadata": {},
     "output_type": "execute_result"
    }
   ],
   "source": [
    "# Create a boolean Series based on multiple conditions\n",
    "complex_condition = (df['Age'] > 25) & (df['Name'] != 'Charlie')\n",
    "\n",
    "# Use the complex boolean Series to filter the DataFrame\n",
    "filtered_df = df[complex_condition]\n",
    "\n",
    "filtered_df"
   ]
  },
  {
   "cell_type": "markdown",
   "id": "c591cec2",
   "metadata": {},
   "source": [
    "#### **2.4. Setting and Resetting Index**\n",
    "\n",
    "You can set and reset the index of a DataFrame to change how data is organized."
   ]
  },
  {
   "cell_type": "code",
   "execution_count": 38,
   "id": "414402d7",
   "metadata": {},
   "outputs": [
    {
     "name": "stdout",
     "output_type": "stream",
     "text": [
      "         Age\n",
      "Name        \n",
      "Alice     25\n",
      "Bob       30\n",
      "Charlie   22\n"
     ]
    },
    {
     "data": {
      "text/html": [
       "<div>\n",
       "<style scoped>\n",
       "    .dataframe tbody tr th:only-of-type {\n",
       "        vertical-align: middle;\n",
       "    }\n",
       "\n",
       "    .dataframe tbody tr th {\n",
       "        vertical-align: top;\n",
       "    }\n",
       "\n",
       "    .dataframe thead th {\n",
       "        text-align: right;\n",
       "    }\n",
       "</style>\n",
       "<table border=\"1\" class=\"dataframe\">\n",
       "  <thead>\n",
       "    <tr style=\"text-align: right;\">\n",
       "      <th></th>\n",
       "      <th>Name</th>\n",
       "      <th>Age</th>\n",
       "    </tr>\n",
       "  </thead>\n",
       "  <tbody>\n",
       "    <tr>\n",
       "      <th>0</th>\n",
       "      <td>Alice</td>\n",
       "      <td>25</td>\n",
       "    </tr>\n",
       "    <tr>\n",
       "      <th>1</th>\n",
       "      <td>Bob</td>\n",
       "      <td>30</td>\n",
       "    </tr>\n",
       "    <tr>\n",
       "      <th>2</th>\n",
       "      <td>Charlie</td>\n",
       "      <td>22</td>\n",
       "    </tr>\n",
       "  </tbody>\n",
       "</table>\n",
       "</div>"
      ],
      "text/plain": [
       "      Name  Age\n",
       "0    Alice   25\n",
       "1      Bob   30\n",
       "2  Charlie   22"
      ]
     },
     "execution_count": 38,
     "metadata": {},
     "output_type": "execute_result"
    }
   ],
   "source": [
    "import pandas as pd\n",
    "\n",
    "# Create a DataFrame\n",
    "data = {'Name': ['Alice', 'Bob', 'Charlie'],\n",
    "        'Age': [25, 30, 22]}\n",
    "df = pd.DataFrame(data)\n",
    "\n",
    "# Set 'Name' column as index\n",
    "df.set_index('Name', inplace=True)\n",
    "\n",
    "print(df)\n",
    "\n",
    "# Reset index\n",
    "df.reset_index(inplace=True)\n",
    "\n",
    "df"
   ]
  },
  {
   "cell_type": "markdown",
   "id": "45ed2fa5",
   "metadata": {},
   "source": [
    "---\n",
    "\n",
    "This completes the \"Indexing and Selecting Data\" section. In the next section, we'll delve into various techniques for data cleaning and preprocessing.\n",
    "\n",
    "\n",
    "---"
   ]
  },
  {
   "cell_type": "markdown",
   "id": "2371a93c",
   "metadata": {},
   "source": [
    "## **Part 2: Data Handling and Cleaning**\n",
    "\n",
    "### 3. **Data Cleaning and Preprocessing**\n",
    "\n",
    "Data cleaning and preprocessing are essential steps before performing analysis. In this section, we'll cover various techniques to ensure your data is accurate, consistent, and ready for analysis.\n",
    "\n",
    "#### 3.1. **Handling Duplicate Data**\n",
    "\n",
    "Duplicate data can distort your analysis and lead to incorrect conclusions. Pandas provides methods to detect and handle duplicate records."
   ]
  },
  {
   "cell_type": "code",
   "execution_count": 41,
   "id": "c131d34d",
   "metadata": {},
   "outputs": [
    {
     "data": {
      "text/markdown": [
       "**Raw Dataframe**"
      ],
      "text/plain": [
       "<IPython.core.display.Markdown object>"
      ]
     },
     "metadata": {},
     "output_type": "display_data"
    },
    {
     "data": {
      "text/html": [
       "<div>\n",
       "<style scoped>\n",
       "    .dataframe tbody tr th:only-of-type {\n",
       "        vertical-align: middle;\n",
       "    }\n",
       "\n",
       "    .dataframe tbody tr th {\n",
       "        vertical-align: top;\n",
       "    }\n",
       "\n",
       "    .dataframe thead th {\n",
       "        text-align: right;\n",
       "    }\n",
       "</style>\n",
       "<table border=\"1\" class=\"dataframe\">\n",
       "  <thead>\n",
       "    <tr style=\"text-align: right;\">\n",
       "      <th></th>\n",
       "      <th>Name</th>\n",
       "      <th>Age</th>\n",
       "    </tr>\n",
       "  </thead>\n",
       "  <tbody>\n",
       "    <tr>\n",
       "      <th>0</th>\n",
       "      <td>Alice</td>\n",
       "      <td>25</td>\n",
       "    </tr>\n",
       "    <tr>\n",
       "      <th>1</th>\n",
       "      <td>Bob</td>\n",
       "      <td>30</td>\n",
       "    </tr>\n",
       "    <tr>\n",
       "      <th>2</th>\n",
       "      <td>Alice</td>\n",
       "      <td>25</td>\n",
       "    </tr>\n",
       "    <tr>\n",
       "      <th>3</th>\n",
       "      <td>Charlie</td>\n",
       "      <td>22</td>\n",
       "    </tr>\n",
       "    <tr>\n",
       "      <th>4</th>\n",
       "      <td>Bob</td>\n",
       "      <td>28</td>\n",
       "    </tr>\n",
       "  </tbody>\n",
       "</table>\n",
       "</div>"
      ],
      "text/plain": [
       "      Name  Age\n",
       "0    Alice   25\n",
       "1      Bob   30\n",
       "2    Alice   25\n",
       "3  Charlie   22\n",
       "4      Bob   28"
      ]
     },
     "metadata": {},
     "output_type": "display_data"
    },
    {
     "data": {
      "text/markdown": [
       "**Duplicates**"
      ],
      "text/plain": [
       "<IPython.core.display.Markdown object>"
      ]
     },
     "metadata": {},
     "output_type": "display_data"
    },
    {
     "data": {
      "text/plain": [
       "0    False\n",
       "1    False\n",
       "2     True\n",
       "3    False\n",
       "4    False\n",
       "dtype: bool"
      ]
     },
     "metadata": {},
     "output_type": "display_data"
    },
    {
     "data": {
      "text/markdown": [
       "**Cleaned Dataframe**"
      ],
      "text/plain": [
       "<IPython.core.display.Markdown object>"
      ]
     },
     "metadata": {},
     "output_type": "display_data"
    },
    {
     "data": {
      "text/html": [
       "<div>\n",
       "<style scoped>\n",
       "    .dataframe tbody tr th:only-of-type {\n",
       "        vertical-align: middle;\n",
       "    }\n",
       "\n",
       "    .dataframe tbody tr th {\n",
       "        vertical-align: top;\n",
       "    }\n",
       "\n",
       "    .dataframe thead th {\n",
       "        text-align: right;\n",
       "    }\n",
       "</style>\n",
       "<table border=\"1\" class=\"dataframe\">\n",
       "  <thead>\n",
       "    <tr style=\"text-align: right;\">\n",
       "      <th></th>\n",
       "      <th>Name</th>\n",
       "      <th>Age</th>\n",
       "    </tr>\n",
       "  </thead>\n",
       "  <tbody>\n",
       "    <tr>\n",
       "      <th>0</th>\n",
       "      <td>Alice</td>\n",
       "      <td>25</td>\n",
       "    </tr>\n",
       "    <tr>\n",
       "      <th>1</th>\n",
       "      <td>Bob</td>\n",
       "      <td>30</td>\n",
       "    </tr>\n",
       "    <tr>\n",
       "      <th>3</th>\n",
       "      <td>Charlie</td>\n",
       "      <td>22</td>\n",
       "    </tr>\n",
       "    <tr>\n",
       "      <th>4</th>\n",
       "      <td>Bob</td>\n",
       "      <td>28</td>\n",
       "    </tr>\n",
       "  </tbody>\n",
       "</table>\n",
       "</div>"
      ],
      "text/plain": [
       "      Name  Age\n",
       "0    Alice   25\n",
       "1      Bob   30\n",
       "3  Charlie   22\n",
       "4      Bob   28"
      ]
     },
     "metadata": {},
     "output_type": "display_data"
    }
   ],
   "source": [
    "import pandas as pd\n",
    "from IPython.display import display, Markdown\n",
    "\n",
    "# Create a DataFrame with duplicate rows\n",
    "data = {'Name': ['Alice', 'Bob', 'Alice', 'Charlie', 'Bob'],\n",
    "        'Age': [25, 30, 25, 22, 28]}\n",
    "df = pd.DataFrame(data)\n",
    "\n",
    "display(Markdown('**Raw Dataframe**'))\n",
    "display(df)\n",
    "\n",
    "# Detect duplicate rows\n",
    "duplicates = df.duplicated()\n",
    "display(Markdown('**Duplicates**'))\n",
    "display(duplicates)\n",
    "\n",
    "# Drop duplicate rows\n",
    "df_cleaned = df.drop_duplicates()\n",
    "display(Markdown('**Cleaned Dataframe**'))\n",
    "display(df_cleaned)"
   ]
  },
  {
   "cell_type": "markdown",
   "id": "c4aa148c",
   "metadata": {},
   "source": [
    "#### **3.2. Outlier Detection and Removal**\n",
    "\n",
    "Outliers can skew your analysis and affect model performance. Pandas allows you to identify and handle outliers.\n",
    "Note that there are better ways of doing this will using `from scipy.stats import zscore`"
   ]
  },
  {
   "cell_type": "code",
   "execution_count": 45,
   "id": "8e4e631a",
   "metadata": {},
   "outputs": [
    {
     "data": {
      "text/html": [
       "<div>\n",
       "<style scoped>\n",
       "    .dataframe tbody tr th:only-of-type {\n",
       "        vertical-align: middle;\n",
       "    }\n",
       "\n",
       "    .dataframe tbody tr th {\n",
       "        vertical-align: top;\n",
       "    }\n",
       "\n",
       "    .dataframe thead th {\n",
       "        text-align: right;\n",
       "    }\n",
       "</style>\n",
       "<table border=\"1\" class=\"dataframe\">\n",
       "  <thead>\n",
       "    <tr style=\"text-align: right;\">\n",
       "      <th></th>\n",
       "      <th>Value</th>\n",
       "    </tr>\n",
       "  </thead>\n",
       "  <tbody>\n",
       "    <tr>\n",
       "      <th>0</th>\n",
       "      <td>100</td>\n",
       "    </tr>\n",
       "    <tr>\n",
       "      <th>1</th>\n",
       "      <td>150</td>\n",
       "    </tr>\n",
       "    <tr>\n",
       "      <th>2</th>\n",
       "      <td>200</td>\n",
       "    </tr>\n",
       "    <tr>\n",
       "      <th>4</th>\n",
       "      <td>220</td>\n",
       "    </tr>\n",
       "    <tr>\n",
       "      <th>5</th>\n",
       "      <td>250</td>\n",
       "    </tr>\n",
       "  </tbody>\n",
       "</table>\n",
       "</div>"
      ],
      "text/plain": [
       "   Value\n",
       "0    100\n",
       "1    150\n",
       "2    200\n",
       "4    220\n",
       "5    250"
      ]
     },
     "execution_count": 45,
     "metadata": {},
     "output_type": "execute_result"
    }
   ],
   "source": [
    "import pandas as pd\n",
    "\n",
    "# Create a DataFrame with outliers\n",
    "data = {'Value': [100, 150, 200, 3000, 220, 250]}\n",
    "df = pd.DataFrame(data)\n",
    "\n",
    "# Calculate z-scores\n",
    "z_scores = (df - df.mean()) / df.std()\n",
    "\n",
    "# Identify and remove outliers\n",
    "outliers_removed = df[(z_scores < 2).all(axis=1)]\n",
    "\n",
    "outliers_removed"
   ]
  },
  {
   "cell_type": "markdown",
   "id": "4bcd9d0b",
   "metadata": {},
   "source": [
    "#### **3.3. Text Data Processing**\n",
    "\n",
    "Text data often requires preprocessing before analysis. Pandas offers tools to clean and manipulate text."
   ]
  },
  {
   "cell_type": "code",
   "execution_count": 54,
   "id": "61ed0066",
   "metadata": {},
   "outputs": [
    {
     "data": {
      "text/html": [
       "<div>\n",
       "<style scoped>\n",
       "    .dataframe tbody tr th:only-of-type {\n",
       "        vertical-align: middle;\n",
       "    }\n",
       "\n",
       "    .dataframe tbody tr th {\n",
       "        vertical-align: top;\n",
       "    }\n",
       "\n",
       "    .dataframe thead th {\n",
       "        text-align: right;\n",
       "    }\n",
       "</style>\n",
       "<table border=\"1\" class=\"dataframe\">\n",
       "  <thead>\n",
       "    <tr style=\"text-align: right;\">\n",
       "      <th></th>\n",
       "      <th>Text</th>\n",
       "    </tr>\n",
       "  </thead>\n",
       "  <tbody>\n",
       "    <tr>\n",
       "      <th>0</th>\n",
       "      <td>hello world</td>\n",
       "    </tr>\n",
       "    <tr>\n",
       "      <th>1</th>\n",
       "      <td>python is great</td>\n",
       "    </tr>\n",
       "    <tr>\n",
       "      <th>2</th>\n",
       "      <td>data analysis</td>\n",
       "    </tr>\n",
       "  </tbody>\n",
       "</table>\n",
       "</div>"
      ],
      "text/plain": [
       "              Text\n",
       "0      hello world\n",
       "1  python is great\n",
       "2    data analysis"
      ]
     },
     "execution_count": 54,
     "metadata": {},
     "output_type": "execute_result"
    }
   ],
   "source": [
    "import pandas as pd\n",
    "\n",
    "# Create a DataFrame with text data\n",
    "data = {'Text': ['Hello, world!', 'Python is great.', 'Data analysis']}\n",
    "df = pd.DataFrame(data)\n",
    "\n",
    "# Convert text to lowercase\n",
    "df['Text'] = df['Text'].str.lower()\n",
    "\n",
    "# Remove punctuation using Pandas str.replace with regex\n",
    "df['Text'] = df['Text'].str.replace(r'[^\\w\\s]', '', regex=True)\n",
    "\n",
    "df"
   ]
  },
  {
   "cell_type": "markdown",
   "id": "38934d13",
   "metadata": {},
   "source": [
    "#### 3.4. **Handling Missing Data**\n",
    "\n",
    "Missing data is common in datasets and needs to be handled carefully. Pandas provides methods to fill, drop, or interpolate missing values."
   ]
  },
  {
   "cell_type": "code",
   "execution_count": 55,
   "id": "4490e70e",
   "metadata": {},
   "outputs": [
    {
     "data": {
      "text/markdown": [
       "**Filter Dataframe**"
      ],
      "text/plain": [
       "<IPython.core.display.Markdown object>"
      ]
     },
     "metadata": {},
     "output_type": "display_data"
    },
    {
     "data": {
      "text/html": [
       "<div>\n",
       "<style scoped>\n",
       "    .dataframe tbody tr th:only-of-type {\n",
       "        vertical-align: middle;\n",
       "    }\n",
       "\n",
       "    .dataframe tbody tr th {\n",
       "        vertical-align: top;\n",
       "    }\n",
       "\n",
       "    .dataframe thead th {\n",
       "        text-align: right;\n",
       "    }\n",
       "</style>\n",
       "<table border=\"1\" class=\"dataframe\">\n",
       "  <thead>\n",
       "    <tr style=\"text-align: right;\">\n",
       "      <th></th>\n",
       "      <th>Value</th>\n",
       "    </tr>\n",
       "  </thead>\n",
       "  <tbody>\n",
       "    <tr>\n",
       "      <th>0</th>\n",
       "      <td>10.0</td>\n",
       "    </tr>\n",
       "    <tr>\n",
       "      <th>1</th>\n",
       "      <td>0.0</td>\n",
       "    </tr>\n",
       "    <tr>\n",
       "      <th>2</th>\n",
       "      <td>30.0</td>\n",
       "    </tr>\n",
       "    <tr>\n",
       "      <th>3</th>\n",
       "      <td>40.0</td>\n",
       "    </tr>\n",
       "    <tr>\n",
       "      <th>4</th>\n",
       "      <td>0.0</td>\n",
       "    </tr>\n",
       "    <tr>\n",
       "      <th>5</th>\n",
       "      <td>60.0</td>\n",
       "    </tr>\n",
       "  </tbody>\n",
       "</table>\n",
       "</div>"
      ],
      "text/plain": [
       "   Value\n",
       "0   10.0\n",
       "1    0.0\n",
       "2   30.0\n",
       "3   40.0\n",
       "4    0.0\n",
       "5   60.0"
      ]
     },
     "metadata": {},
     "output_type": "display_data"
    },
    {
     "data": {
      "text/markdown": [
       "**Missing values removed Dataframe**"
      ],
      "text/plain": [
       "<IPython.core.display.Markdown object>"
      ]
     },
     "metadata": {},
     "output_type": "display_data"
    },
    {
     "data": {
      "text/html": [
       "<div>\n",
       "<style scoped>\n",
       "    .dataframe tbody tr th:only-of-type {\n",
       "        vertical-align: middle;\n",
       "    }\n",
       "\n",
       "    .dataframe tbody tr th {\n",
       "        vertical-align: top;\n",
       "    }\n",
       "\n",
       "    .dataframe thead th {\n",
       "        text-align: right;\n",
       "    }\n",
       "</style>\n",
       "<table border=\"1\" class=\"dataframe\">\n",
       "  <thead>\n",
       "    <tr style=\"text-align: right;\">\n",
       "      <th></th>\n",
       "      <th>Value</th>\n",
       "    </tr>\n",
       "  </thead>\n",
       "  <tbody>\n",
       "    <tr>\n",
       "      <th>0</th>\n",
       "      <td>10.0</td>\n",
       "    </tr>\n",
       "    <tr>\n",
       "      <th>2</th>\n",
       "      <td>30.0</td>\n",
       "    </tr>\n",
       "    <tr>\n",
       "      <th>3</th>\n",
       "      <td>40.0</td>\n",
       "    </tr>\n",
       "    <tr>\n",
       "      <th>5</th>\n",
       "      <td>60.0</td>\n",
       "    </tr>\n",
       "  </tbody>\n",
       "</table>\n",
       "</div>"
      ],
      "text/plain": [
       "   Value\n",
       "0   10.0\n",
       "2   30.0\n",
       "3   40.0\n",
       "5   60.0"
      ]
     },
     "metadata": {},
     "output_type": "display_data"
    }
   ],
   "source": [
    "import pandas as pd\n",
    "from IPython.display import display, Markdown\n",
    "\n",
    "# Create a DataFrame with missing values\n",
    "data = {'Value': [10, None, 30, 40, None, 60]}\n",
    "df = pd.DataFrame(data)\n",
    "\n",
    "# Fill missing values with a specific value\n",
    "df_filled = df.fillna(0)\n",
    "\n",
    "# Drop rows with missing values\n",
    "df_dropped = df.dropna()\n",
    "\n",
    "display(Markdown(\"**Filter Dataframe**\"))\n",
    "display(df_filled)\n",
    "\n",
    "display(Markdown(\"**Missing values removed Dataframe**\"))\n",
    "display(df_dropped)"
   ]
  },
  {
   "cell_type": "markdown",
   "id": "15cf44db",
   "metadata": {},
   "source": [
    "### **4. Data Visualization with Pandas**\n",
    "\n",
    "Effective data visualization enhances your understanding of the data. In this section, we'll explore how to create various types of plots using Pandas.\n",
    "\n",
    "#### **4.1. Line, Bar, and Pie Charts**"
   ]
  },
  {
   "cell_type": "code",
   "execution_count": 63,
   "id": "d7c7a53b",
   "metadata": {},
   "outputs": [
    {
     "data": {
      "image/png": "[encoded data removed]",
      "text/plain": [
       "<Figure size 800x300 with 1 Axes>"
      ]
     },
     "metadata": {},
     "output_type": "display_data"
    },
    {
     "data": {
      "image/png": "[encoded data removed]",
      "text/plain": [
       "<Figure size 400x200 with 1 Axes>"
      ]
     },
     "metadata": {},
     "output_type": "display_data"
    },
    {
     "data": {
      "image/png": "[encoded data removed]",
      "text/plain": [
       "<Figure size 400x400 with 1 Axes>"
      ]
     },
     "metadata": {},
     "output_type": "display_data"
    }
   ],
   "source": [
    "import pandas as pd\n",
    "#import matplotlib.pyplot as plt\n",
    "\n",
    "# Create a DataFrame for visualization\n",
    "data = {'Year': [2015, 2016, 2017, 2018, 2019],\n",
    "        'Sales': [100, 150, 200, 180, 250]}\n",
    "df = pd.DataFrame(data)\n",
    "\n",
    "# Line chart with custom size\n",
    "ax = df.plot(x='Year', y='Sales', kind='line', title='Sales Over Years', figsize=(8, 3))\n",
    "\n",
    "# Bar chart with custom size\n",
    "ax = df.plot(x='Year', y='Sales', kind='bar', title='Yearly Sales', figsize=(4, 2))\n",
    "\n",
    "# Pie chart with custom size\n",
    "ax = df.plot(x='Year', y='Sales', kind='pie', labels=df['Year'], title='Sales Distribution', figsize=(4, 4))\n",
    "\n",
    "# Show the plots\n",
    "plt.show()\n"
   ]
  },
  {
   "cell_type": "markdown",
   "id": "916fa2cf",
   "metadata": {},
   "source": [
    "#### **4.2. Histograms and Density Plots**"
   ]
  },
  {
   "cell_type": "code",
   "execution_count": 72,
   "id": "45af94fd",
   "metadata": {},
   "outputs": [
    {
     "data": {
      "image/png": "[encoded data removed]",
      "text/plain": [
       "<Figure size 800x400 with 1 Axes>"
      ]
     },
     "metadata": {},
     "output_type": "display_data"
    },
    {
     "data": {
      "image/png": "[encoded data removed]",
      "text/plain": [
       "<Figure size 800x400 with 1 Axes>"
      ]
     },
     "metadata": {},
     "output_type": "display_data"
    }
   ],
   "source": [
    "import pandas as pd\n",
    "\n",
    "# Create a DataFrame for visualization\n",
    "data = {'Age': [25, 30, 22, 35, 28, 30, 29, 22, 25, 32]}\n",
    "df = pd.DataFrame(data)\n",
    "\n",
    "# Set the figure size\n",
    "plt.figure(figsize=(8, 4))\n",
    "\n",
    "# Histogram\n",
    "ax1 = df['Age'].plot(kind='hist', bins=5, edgecolor='black')\n",
    "ax1.set_title('Age Distribution')\n",
    "ax1.set_xlabel('Age')\n",
    "ax1.set_ylabel('Frequency')\n",
    "plt.show()\n",
    "\n",
    "# Set the figure size\n",
    "plt.figure(figsize=(8, 4))\n",
    "\n",
    "# Density plot\n",
    "ax2 = df['Age'].plot(kind='density')\n",
    "ax2.set_title('Age Density Plot')\n",
    "ax2.set_xlabel('Age')\n",
    "plt.show()\n"
   ]
  },
  {
   "cell_type": "markdown",
   "id": "39d1a76f",
   "metadata": {},
   "source": [
    "#### **4.3. Scatter and Box Plots**"
   ]
  },
  {
   "cell_type": "code",
   "execution_count": 74,
   "id": "c12a1474",
   "metadata": {},
   "outputs": [
    {
     "data": {
      "text/plain": [
       "<Figure size 600x300 with 0 Axes>"
      ]
     },
     "metadata": {},
     "output_type": "display_data"
    },
    {
     "data": {
      "image/png": "[encoded data removed]",
      "text/plain": [
       "<Figure size 640x480 with 1 Axes>"
      ]
     },
     "metadata": {},
     "output_type": "display_data"
    },
    {
     "data": {
      "text/plain": [
       "<Figure size 600x300 with 0 Axes>"
      ]
     },
     "metadata": {},
     "output_type": "display_data"
    },
    {
     "data": {
      "image/png": "[encoded data removed]",
      "text/plain": [
       "<Figure size 640x480 with 1 Axes>"
      ]
     },
     "metadata": {},
     "output_type": "display_data"
    }
   ],
   "source": [
    "import pandas as pd\n",
    "\n",
    "# Create a DataFrame for visualization\n",
    "data = {'Height': [160, 170, 155, 180, 165],\n",
    "        'Weight': [50, 65, 45, 70, 55]}\n",
    "df = pd.DataFrame(data)\n",
    "\n",
    "# Set the figure size\n",
    "plt.figure(figsize=(6, 3))\n",
    "\n",
    "# Scatter plot\n",
    "ax1 = df.plot(x='Height', y='Weight', kind='scatter')\n",
    "ax1.set_title('Height vs Weight')\n",
    "ax1.set_xlabel('Height')\n",
    "ax1.set_ylabel('Weight')\n",
    "plt.show()\n",
    "\n",
    "# Set the figure size\n",
    "plt.figure(figsize=(6, 3))\n",
    "\n",
    "# Box plot\n",
    "ax2 = df.plot(kind='box')\n",
    "ax2.set_title('Height and Weight Box Plot')\n",
    "ax2.set_ylabel('Values')\n",
    "plt.show()\n"
   ]
  },
  {
   "cell_type": "markdown",
   "id": "fa54d7c8",
   "metadata": {},
   "source": [
    "---\n",
    "\n",
    "This completes the \"Data Cleaning and Preprocessing\" and \"Data Visualization with Pandas\" sections. In the next part, we'll focus on data analysis techniques using Pandas.\n",
    "\n",
    "---"
   ]
  },
  {
   "cell_type": "markdown",
   "id": "c83534bc",
   "metadata": {},
   "source": [
    "## **Part 3: Data Analysis with Pandas**\n",
    "\n",
    "### **5. Data Aggregation and Grouping**\n",
    "\n",
    "Data aggregation and grouping are essential for summarizing and analyzing data effectively. In this section, we'll explore techniques for aggregating data and performing group-based operations.\n",
    "\n",
    "#### **5.1. Multi-level Grouping**\n",
    "\n",
    "Pandas supports multi-level grouping, allowing you to group data by multiple columns."
   ]
  },
  {
   "cell_type": "code",
   "execution_count": 79,
   "id": "ec586eaa",
   "metadata": {},
   "outputs": [
    {
     "data": {
      "text/markdown": [
       "**Raw df**"
      ],
      "text/plain": [
       "<IPython.core.display.Markdown object>"
      ]
     },
     "metadata": {},
     "output_type": "display_data"
    },
    {
     "data": {
      "text/html": [
       "<div>\n",
       "<style scoped>\n",
       "    .dataframe tbody tr th:only-of-type {\n",
       "        vertical-align: middle;\n",
       "    }\n",
       "\n",
       "    .dataframe tbody tr th {\n",
       "        vertical-align: top;\n",
       "    }\n",
       "\n",
       "    .dataframe thead th {\n",
       "        text-align: right;\n",
       "    }\n",
       "</style>\n",
       "<table border=\"1\" class=\"dataframe\">\n",
       "  <thead>\n",
       "    <tr style=\"text-align: right;\">\n",
       "      <th></th>\n",
       "      <th>Department</th>\n",
       "      <th>Employee</th>\n",
       "      <th>Salary</th>\n",
       "    </tr>\n",
       "  </thead>\n",
       "  <tbody>\n",
       "    <tr>\n",
       "      <th>0</th>\n",
       "      <td>HR</td>\n",
       "      <td>Alice</td>\n",
       "      <td>60000</td>\n",
       "    </tr>\n",
       "    <tr>\n",
       "      <th>1</th>\n",
       "      <td>Finance</td>\n",
       "      <td>Bob</td>\n",
       "      <td>75000</td>\n",
       "    </tr>\n",
       "    <tr>\n",
       "      <th>2</th>\n",
       "      <td>HR</td>\n",
       "      <td>Charlie</td>\n",
       "      <td>55000</td>\n",
       "    </tr>\n",
       "    <tr>\n",
       "      <th>3</th>\n",
       "      <td>Finance</td>\n",
       "      <td>David</td>\n",
       "      <td>80000</td>\n",
       "    </tr>\n",
       "    <tr>\n",
       "      <th>4</th>\n",
       "      <td>IT</td>\n",
       "      <td>Eve</td>\n",
       "      <td>70000</td>\n",
       "    </tr>\n",
       "  </tbody>\n",
       "</table>\n",
       "</div>"
      ],
      "text/plain": [
       "  Department Employee  Salary\n",
       "0         HR    Alice   60000\n",
       "1    Finance      Bob   75000\n",
       "2         HR  Charlie   55000\n",
       "3    Finance    David   80000\n",
       "4         IT      Eve   70000"
      ]
     },
     "metadata": {},
     "output_type": "display_data"
    },
    {
     "data": {
      "text/markdown": [
       "**Grouped df**"
      ],
      "text/plain": [
       "<IPython.core.display.Markdown object>"
      ]
     },
     "metadata": {},
     "output_type": "display_data"
    },
    {
     "data": {
      "text/html": [
       "<div>\n",
       "<style scoped>\n",
       "    .dataframe tbody tr th:only-of-type {\n",
       "        vertical-align: middle;\n",
       "    }\n",
       "\n",
       "    .dataframe tbody tr th {\n",
       "        vertical-align: top;\n",
       "    }\n",
       "\n",
       "    .dataframe thead th {\n",
       "        text-align: right;\n",
       "    }\n",
       "</style>\n",
       "<table border=\"1\" class=\"dataframe\">\n",
       "  <thead>\n",
       "    <tr style=\"text-align: right;\">\n",
       "      <th></th>\n",
       "      <th></th>\n",
       "      <th>Salary</th>\n",
       "    </tr>\n",
       "    <tr>\n",
       "      <th>Department</th>\n",
       "      <th>Employee</th>\n",
       "      <th></th>\n",
       "    </tr>\n",
       "  </thead>\n",
       "  <tbody>\n",
       "    <tr>\n",
       "      <th rowspan=\"2\" valign=\"top\">Finance</th>\n",
       "      <th>Bob</th>\n",
       "      <td>75000</td>\n",
       "    </tr>\n",
       "    <tr>\n",
       "      <th>David</th>\n",
       "      <td>80000</td>\n",
       "    </tr>\n",
       "    <tr>\n",
       "      <th rowspan=\"2\" valign=\"top\">HR</th>\n",
       "      <th>Alice</th>\n",
       "      <td>60000</td>\n",
       "    </tr>\n",
       "    <tr>\n",
       "      <th>Charlie</th>\n",
       "      <td>55000</td>\n",
       "    </tr>\n",
       "    <tr>\n",
       "      <th>IT</th>\n",
       "      <th>Eve</th>\n",
       "      <td>70000</td>\n",
       "    </tr>\n",
       "  </tbody>\n",
       "</table>\n",
       "</div>"
      ],
      "text/plain": [
       "                     Salary\n",
       "Department Employee        \n",
       "Finance    Bob        75000\n",
       "           David      80000\n",
       "HR         Alice      60000\n",
       "           Charlie    55000\n",
       "IT         Eve        70000"
      ]
     },
     "metadata": {},
     "output_type": "display_data"
    }
   ],
   "source": [
    "import pandas as pd\n",
    "from IPython.display import display, Markdown\n",
    "\n",
    "# Create a DataFrame for grouping\n",
    "data = {'Department': ['HR', 'Finance', 'HR', 'Finance', 'IT'],\n",
    "        'Employee': ['Alice', 'Bob', 'Charlie', 'David', 'Eve'],\n",
    "        'Salary': [60000, 75000, 55000, 80000, 70000]}\n",
    "\n",
    "df = pd.DataFrame(data)\n",
    "display(Markdown(\"**Raw df**\"))\n",
    "display(df)\n",
    "\n",
    "# Group by multiple columns\n",
    "grouped = df.groupby(['Department', 'Employee']).sum()\n",
    "display(Markdown(\"**Grouped df**\"))\n",
    "display(grouped)"
   ]
  },
  {
   "cell_type": "markdown",
   "id": "758c48a9",
   "metadata": {},
   "source": [
    "#### **5.2. Custom Aggregation Functions**\n",
    "\n",
    "You can apply custom aggregation functions to grouped data."
   ]
  },
  {
   "cell_type": "code",
   "execution_count": 81,
   "id": "86544b9a",
   "metadata": {},
   "outputs": [
    {
     "data": {
      "text/plain": [
       "Department\n",
       "Finance    5000\n",
       "HR         5000\n",
       "IT            0\n",
       "Name: Salary, dtype: int64"
      ]
     },
     "execution_count": 81,
     "metadata": {},
     "output_type": "execute_result"
    }
   ],
   "source": [
    "import pandas as pd\n",
    "\n",
    "# Create a DataFrame for custom aggregation\n",
    "data = {'Department': ['HR', 'Finance', 'HR', 'Finance', 'IT'],\n",
    "        'Salary': [60000, 75000, 55000, 80000, 70000]}\n",
    "df = pd.DataFrame(data)\n",
    "\n",
    "# Define a custom aggregation function\n",
    "def salary_range(series):\n",
    "    return series.max() - series.min()\n",
    "\n",
    "# Apply custom aggregation function\n",
    "result = df.groupby('Department')['Salary'].agg(salary_range)\n",
    "\n",
    "result"
   ]
  },
  {
   "cell_type": "markdown",
   "id": "a1f5a7e7",
   "metadata": {},
   "source": [
    "#### **5.3. Transformation and Filtration**\n",
    "\n",
    "Transformation and filtration enable you to modify data within groups."
   ]
  },
  {
   "cell_type": "code",
   "execution_count": 84,
   "id": "cae99237",
   "metadata": {},
   "outputs": [
    {
     "data": {
      "text/html": [
       "<div>\n",
       "<style scoped>\n",
       "    .dataframe tbody tr th:only-of-type {\n",
       "        vertical-align: middle;\n",
       "    }\n",
       "\n",
       "    .dataframe tbody tr th {\n",
       "        vertical-align: top;\n",
       "    }\n",
       "\n",
       "    .dataframe thead th {\n",
       "        text-align: right;\n",
       "    }\n",
       "</style>\n",
       "<table border=\"1\" class=\"dataframe\">\n",
       "  <thead>\n",
       "    <tr style=\"text-align: right;\">\n",
       "      <th></th>\n",
       "      <th>Department</th>\n",
       "      <th>Salary</th>\n",
       "      <th>MeanSalary</th>\n",
       "    </tr>\n",
       "  </thead>\n",
       "  <tbody>\n",
       "    <tr>\n",
       "      <th>1</th>\n",
       "      <td>Finance</td>\n",
       "      <td>75000</td>\n",
       "      <td>77500.0</td>\n",
       "    </tr>\n",
       "    <tr>\n",
       "      <th>3</th>\n",
       "      <td>Finance</td>\n",
       "      <td>80000</td>\n",
       "      <td>77500.0</td>\n",
       "    </tr>\n",
       "    <tr>\n",
       "      <th>4</th>\n",
       "      <td>IT</td>\n",
       "      <td>70000</td>\n",
       "      <td>70000.0</td>\n",
       "    </tr>\n",
       "  </tbody>\n",
       "</table>\n",
       "</div>"
      ],
      "text/plain": [
       "  Department  Salary  MeanSalary\n",
       "1    Finance   75000     77500.0\n",
       "3    Finance   80000     77500.0\n",
       "4         IT   70000     70000.0"
      ]
     },
     "execution_count": 84,
     "metadata": {},
     "output_type": "execute_result"
    }
   ],
   "source": [
    "import pandas as pd\n",
    "\n",
    "# Create a DataFrame for transformation and filtration\n",
    "data = {'Department': ['HR', 'Finance', 'HR', 'Finance', 'IT'],\n",
    "        'Salary': [60000, 75000, 55000, 80000, 70000]}\n",
    "df = pd.DataFrame(data)\n",
    "\n",
    "# Calculate the mean salary for each department\n",
    "df['MeanSalary'] = df.groupby('Department')['Salary'].transform('mean')\n",
    "\n",
    "# Filter departments with mean salary above a threshold\n",
    "high_salary_departments = df.groupby('Department').filter(lambda x: x['MeanSalary'].mean() > 65000)\n",
    "\n",
    "high_salary_departments"
   ]
  },
  {
   "cell_type": "markdown",
   "id": "db3c4adf",
   "metadata": {},
   "source": [
    "### **6. Advanced Data Manipulation**\n",
    "\n",
    "Advanced data manipulation techniques allow you to reshape and combine data for analysis.\n",
    "\n",
    "#### **6.1 Combining and Reshaping Data**\n",
    "\n",
    "You can combine DataFrames using methods like `merge`, `concat`, and reshape them using `pivot` and `melt`."
   ]
  },
  {
   "cell_type": "code",
   "execution_count": 94,
   "id": "f70fcd37",
   "metadata": {},
   "outputs": [
    {
     "data": {
      "text/markdown": [
       "**df1**"
      ],
      "text/plain": [
       "<IPython.core.display.Markdown object>"
      ]
     },
     "metadata": {},
     "output_type": "display_data"
    },
    {
     "data": {
      "text/html": [
       "<div>\n",
       "<style scoped>\n",
       "    .dataframe tbody tr th:only-of-type {\n",
       "        vertical-align: middle;\n",
       "    }\n",
       "\n",
       "    .dataframe tbody tr th {\n",
       "        vertical-align: top;\n",
       "    }\n",
       "\n",
       "    .dataframe thead th {\n",
       "        text-align: right;\n",
       "    }\n",
       "</style>\n",
       "<table border=\"1\" class=\"dataframe\">\n",
       "  <thead>\n",
       "    <tr style=\"text-align: right;\">\n",
       "      <th></th>\n",
       "      <th>ID</th>\n",
       "      <th>Value1</th>\n",
       "    </tr>\n",
       "  </thead>\n",
       "  <tbody>\n",
       "    <tr>\n",
       "      <th>0</th>\n",
       "      <td>1</td>\n",
       "      <td>10</td>\n",
       "    </tr>\n",
       "    <tr>\n",
       "      <th>1</th>\n",
       "      <td>2</td>\n",
       "      <td>20</td>\n",
       "    </tr>\n",
       "    <tr>\n",
       "      <th>2</th>\n",
       "      <td>3</td>\n",
       "      <td>30</td>\n",
       "    </tr>\n",
       "  </tbody>\n",
       "</table>\n",
       "</div>"
      ],
      "text/plain": [
       "   ID  Value1\n",
       "0   1      10\n",
       "1   2      20\n",
       "2   3      30"
      ]
     },
     "metadata": {},
     "output_type": "display_data"
    },
    {
     "data": {
      "text/markdown": [
       "**df2**"
      ],
      "text/plain": [
       "<IPython.core.display.Markdown object>"
      ]
     },
     "metadata": {},
     "output_type": "display_data"
    },
    {
     "data": {
      "text/html": [
       "<div>\n",
       "<style scoped>\n",
       "    .dataframe tbody tr th:only-of-type {\n",
       "        vertical-align: middle;\n",
       "    }\n",
       "\n",
       "    .dataframe tbody tr th {\n",
       "        vertical-align: top;\n",
       "    }\n",
       "\n",
       "    .dataframe thead th {\n",
       "        text-align: right;\n",
       "    }\n",
       "</style>\n",
       "<table border=\"1\" class=\"dataframe\">\n",
       "  <thead>\n",
       "    <tr style=\"text-align: right;\">\n",
       "      <th></th>\n",
       "      <th>ID</th>\n",
       "      <th>Value2</th>\n",
       "    </tr>\n",
       "  </thead>\n",
       "  <tbody>\n",
       "    <tr>\n",
       "      <th>0</th>\n",
       "      <td>2</td>\n",
       "      <td>200</td>\n",
       "    </tr>\n",
       "    <tr>\n",
       "      <th>1</th>\n",
       "      <td>3</td>\n",
       "      <td>300</td>\n",
       "    </tr>\n",
       "    <tr>\n",
       "      <th>2</th>\n",
       "      <td>4</td>\n",
       "      <td>400</td>\n",
       "    </tr>\n",
       "  </tbody>\n",
       "</table>\n",
       "</div>"
      ],
      "text/plain": [
       "   ID  Value2\n",
       "0   2     200\n",
       "1   3     300\n",
       "2   4     400"
      ]
     },
     "metadata": {},
     "output_type": "display_data"
    },
    {
     "data": {
      "text/markdown": [
       "**Concat df**"
      ],
      "text/plain": [
       "<IPython.core.display.Markdown object>"
      ]
     },
     "metadata": {},
     "output_type": "display_data"
    },
    {
     "data": {
      "text/html": [
       "<div>\n",
       "<style scoped>\n",
       "    .dataframe tbody tr th:only-of-type {\n",
       "        vertical-align: middle;\n",
       "    }\n",
       "\n",
       "    .dataframe tbody tr th {\n",
       "        vertical-align: top;\n",
       "    }\n",
       "\n",
       "    .dataframe thead th {\n",
       "        text-align: right;\n",
       "    }\n",
       "</style>\n",
       "<table border=\"1\" class=\"dataframe\">\n",
       "  <thead>\n",
       "    <tr style=\"text-align: right;\">\n",
       "      <th></th>\n",
       "      <th>ID</th>\n",
       "      <th>Value1</th>\n",
       "      <th>ID</th>\n",
       "      <th>Value2</th>\n",
       "    </tr>\n",
       "  </thead>\n",
       "  <tbody>\n",
       "    <tr>\n",
       "      <th>0</th>\n",
       "      <td>1</td>\n",
       "      <td>10</td>\n",
       "      <td>2</td>\n",
       "      <td>200</td>\n",
       "    </tr>\n",
       "    <tr>\n",
       "      <th>1</th>\n",
       "      <td>2</td>\n",
       "      <td>20</td>\n",
       "      <td>3</td>\n",
       "      <td>300</td>\n",
       "    </tr>\n",
       "    <tr>\n",
       "      <th>2</th>\n",
       "      <td>3</td>\n",
       "      <td>30</td>\n",
       "      <td>4</td>\n",
       "      <td>400</td>\n",
       "    </tr>\n",
       "  </tbody>\n",
       "</table>\n",
       "</div>"
      ],
      "text/plain": [
       "   ID  Value1  ID  Value2\n",
       "0   1      10   2     200\n",
       "1   2      20   3     300\n",
       "2   3      30   4     400"
      ]
     },
     "metadata": {},
     "output_type": "display_data"
    },
    {
     "data": {
      "text/markdown": [
       "**Merged df**"
      ],
      "text/plain": [
       "<IPython.core.display.Markdown object>"
      ]
     },
     "metadata": {},
     "output_type": "display_data"
    },
    {
     "data": {
      "text/html": [
       "<div>\n",
       "<style scoped>\n",
       "    .dataframe tbody tr th:only-of-type {\n",
       "        vertical-align: middle;\n",
       "    }\n",
       "\n",
       "    .dataframe tbody tr th {\n",
       "        vertical-align: top;\n",
       "    }\n",
       "\n",
       "    .dataframe thead th {\n",
       "        text-align: right;\n",
       "    }\n",
       "</style>\n",
       "<table border=\"1\" class=\"dataframe\">\n",
       "  <thead>\n",
       "    <tr style=\"text-align: right;\">\n",
       "      <th></th>\n",
       "      <th>ID</th>\n",
       "      <th>Value1</th>\n",
       "      <th>Value2</th>\n",
       "    </tr>\n",
       "  </thead>\n",
       "  <tbody>\n",
       "    <tr>\n",
       "      <th>0</th>\n",
       "      <td>2</td>\n",
       "      <td>20</td>\n",
       "      <td>200</td>\n",
       "    </tr>\n",
       "    <tr>\n",
       "      <th>1</th>\n",
       "      <td>3</td>\n",
       "      <td>30</td>\n",
       "      <td>300</td>\n",
       "    </tr>\n",
       "  </tbody>\n",
       "</table>\n",
       "</div>"
      ],
      "text/plain": [
       "   ID  Value1  Value2\n",
       "0   2      20     200\n",
       "1   3      30     300"
      ]
     },
     "metadata": {},
     "output_type": "display_data"
    },
    {
     "data": {
      "text/markdown": [
       "**Pivot df**"
      ],
      "text/plain": [
       "<IPython.core.display.Markdown object>"
      ]
     },
     "metadata": {},
     "output_type": "display_data"
    },
    {
     "data": {
      "text/html": [
       "<div>\n",
       "<style scoped>\n",
       "    .dataframe tbody tr th:only-of-type {\n",
       "        vertical-align: middle;\n",
       "    }\n",
       "\n",
       "    .dataframe tbody tr th {\n",
       "        vertical-align: top;\n",
       "    }\n",
       "\n",
       "    .dataframe thead th {\n",
       "        text-align: right;\n",
       "    }\n",
       "</style>\n",
       "<table border=\"1\" class=\"dataframe\">\n",
       "  <thead>\n",
       "    <tr style=\"text-align: right;\">\n",
       "      <th>Value1</th>\n",
       "      <th>20</th>\n",
       "      <th>30</th>\n",
       "    </tr>\n",
       "    <tr>\n",
       "      <th>ID</th>\n",
       "      <th></th>\n",
       "      <th></th>\n",
       "    </tr>\n",
       "  </thead>\n",
       "  <tbody>\n",
       "    <tr>\n",
       "      <th>2</th>\n",
       "      <td>200.0</td>\n",
       "      <td>NaN</td>\n",
       "    </tr>\n",
       "    <tr>\n",
       "      <th>3</th>\n",
       "      <td>NaN</td>\n",
       "      <td>300.0</td>\n",
       "    </tr>\n",
       "  </tbody>\n",
       "</table>\n",
       "</div>"
      ],
      "text/plain": [
       "Value1     20     30\n",
       "ID                  \n",
       "2       200.0    NaN\n",
       "3         NaN  300.0"
      ]
     },
     "metadata": {},
     "output_type": "display_data"
    }
   ],
   "source": [
    "import pandas as pd\n",
    "from IPython.display import display, Markdown\n",
    "\n",
    "# Create two DataFrames for combining and reshaping\n",
    "data1 = {'ID': [1, 2, 3],\n",
    "         'Value1': [10, 20, 30]}\n",
    "data2 = {'ID': [2, 3, 4],\n",
    "         'Value2': [200, 300, 400]}\n",
    "\n",
    "df1 = pd.DataFrame(data1)\n",
    "df2 = pd.DataFrame(data2)\n",
    "\n",
    "# Concatenate pandas objects along a particular axis \n",
    "# note axis{0/’index’, 1/’columns’}, default 0\n",
    "concat = pd.concat([df1, df2], join=\"inner\", axis=1)\n",
    "\n",
    "# Combine DataFrames using merge\n",
    "merged = pd.merge(df1, df2, on='ID', how='inner')\n",
    "\n",
    "# Reshape the merged DataFrame using pivot\n",
    "pivoted = merged.pivot(index='ID', columns='Value1', values='Value2')\n",
    "\n",
    "display(Markdown(\"**df1**\"))\n",
    "display(df1)\n",
    "display(Markdown(\"**df2**\"))\n",
    "display(df2)\n",
    "\n",
    "display(Markdown(\"**Concat df**\"))\n",
    "display(concat)\n",
    "\n",
    "display(Markdown(\"**Merged df**\"))\n",
    "display(merged)\n",
    "\n",
    "display(Markdown(\"**Pivot df**\"))\n",
    "display(pivoted)"
   ]
  },
  {
   "cell_type": "markdown",
   "id": "282dd317",
   "metadata": {},
   "source": [
    "#### **6.2. Stacking and Unstacking**\n",
    "\n",
    "You can stack and unstack data to transform between wide and long formats."
   ]
  },
  {
   "cell_type": "code",
   "execution_count": 98,
   "id": "99c6f19a",
   "metadata": {},
   "outputs": [
    {
     "data": {
      "text/markdown": [
       "**Raw df**"
      ],
      "text/plain": [
       "<IPython.core.display.Markdown object>"
      ]
     },
     "metadata": {},
     "output_type": "display_data"
    },
    {
     "data": {
      "text/html": [
       "<div>\n",
       "<style scoped>\n",
       "    .dataframe tbody tr th:only-of-type {\n",
       "        vertical-align: middle;\n",
       "    }\n",
       "\n",
       "    .dataframe tbody tr th {\n",
       "        vertical-align: top;\n",
       "    }\n",
       "\n",
       "    .dataframe thead th {\n",
       "        text-align: right;\n",
       "    }\n",
       "</style>\n",
       "<table border=\"1\" class=\"dataframe\">\n",
       "  <thead>\n",
       "    <tr style=\"text-align: right;\">\n",
       "      <th></th>\n",
       "      <th>Date</th>\n",
       "      <th>Metric</th>\n",
       "      <th>Value</th>\n",
       "    </tr>\n",
       "  </thead>\n",
       "  <tbody>\n",
       "    <tr>\n",
       "      <th>0</th>\n",
       "      <td>2023-01-01</td>\n",
       "      <td>Revenue</td>\n",
       "      <td>1000</td>\n",
       "    </tr>\n",
       "    <tr>\n",
       "      <th>1</th>\n",
       "      <td>2023-01-01</td>\n",
       "      <td>Expense</td>\n",
       "      <td>500</td>\n",
       "    </tr>\n",
       "    <tr>\n",
       "      <th>2</th>\n",
       "      <td>2023-01-02</td>\n",
       "      <td>Revenue</td>\n",
       "      <td>1200</td>\n",
       "    </tr>\n",
       "  </tbody>\n",
       "</table>\n",
       "</div>"
      ],
      "text/plain": [
       "         Date   Metric  Value\n",
       "0  2023-01-01  Revenue   1000\n",
       "1  2023-01-01  Expense    500\n",
       "2  2023-01-02  Revenue   1200"
      ]
     },
     "metadata": {},
     "output_type": "display_data"
    },
    {
     "data": {
      "text/markdown": [
       "**Stacked df**"
      ],
      "text/plain": [
       "<IPython.core.display.Markdown object>"
      ]
     },
     "metadata": {},
     "output_type": "display_data"
    },
    {
     "data": {
      "text/plain": [
       "0  Date      2023-01-01\n",
       "   Metric       Revenue\n",
       "   Value           1000\n",
       "1  Date      2023-01-01\n",
       "   Metric       Expense\n",
       "   Value            500\n",
       "2  Date      2023-01-02\n",
       "   Metric       Revenue\n",
       "   Value           1200\n",
       "dtype: object"
      ]
     },
     "metadata": {},
     "output_type": "display_data"
    },
    {
     "data": {
      "text/markdown": [
       "**Unstacked df**"
      ],
      "text/plain": [
       "<IPython.core.display.Markdown object>"
      ]
     },
     "metadata": {},
     "output_type": "display_data"
    },
    {
     "data": {
      "text/plain": [
       "Date    0    2023-01-01\n",
       "        1    2023-01-01\n",
       "        2    2023-01-02\n",
       "Metric  0       Revenue\n",
       "        1       Expense\n",
       "        2       Revenue\n",
       "Value   0          1000\n",
       "        1           500\n",
       "        2          1200\n",
       "dtype: object"
      ]
     },
     "metadata": {},
     "output_type": "display_data"
    }
   ],
   "source": [
    "import pandas as pd\n",
    "from IPython.display import display, Markdown\n",
    "\n",
    "# Create a DataFrame for stacking and unstacking\n",
    "data = {'Date': ['2023-01-01', '2023-01-01', '2023-01-02'],\n",
    "        'Metric': ['Revenue', 'Expense', 'Revenue'],\n",
    "        'Value': [1000, 500, 1200]}\n",
    "df = pd.DataFrame(data)\n",
    "\n",
    "# Pivot the DataFrame\n",
    "# pivot_df = df.pivot(index='Date', columns='Metric', values='Value')\n",
    "\n",
    "# Stack the DataFrame\n",
    "stacked = df.stack()\n",
    "\n",
    "# Unstack the DataFrame\n",
    "unstacked = df.unstack()\n",
    "\n",
    "display(Markdown(\"**Raw df**\"))\n",
    "display(df)\n",
    "\n",
    "display(Markdown(\"**Stacked df**\"))\n",
    "display(stacked)\n",
    "\n",
    "display(Markdown(\"**Unstacked df**\"))\n",
    "display(unstacked)\n"
   ]
  },
  {
   "cell_type": "markdown",
   "id": "44088034",
   "metadata": {},
   "source": [
    "#### **6.3. Melting and Pivoting**\n",
    "\n",
    "Melting is the inverse of pivoting and transforms wide data to long format."
   ]
  },
  {
   "cell_type": "code",
   "execution_count": 116,
   "id": "823f2f34",
   "metadata": {},
   "outputs": [
    {
     "data": {
      "text/markdown": [
       "**Melted df**"
      ],
      "text/plain": [
       "<IPython.core.display.Markdown object>"
      ]
     },
     "metadata": {},
     "output_type": "display_data"
    },
    {
     "data": {
      "text/html": [
       "<div>\n",
       "<style scoped>\n",
       "    .dataframe tbody tr th:only-of-type {\n",
       "        vertical-align: middle;\n",
       "    }\n",
       "\n",
       "    .dataframe tbody tr th {\n",
       "        vertical-align: top;\n",
       "    }\n",
       "\n",
       "    .dataframe thead th {\n",
       "        text-align: right;\n",
       "    }\n",
       "</style>\n",
       "<table border=\"1\" class=\"dataframe\">\n",
       "  <thead>\n",
       "    <tr style=\"text-align: right;\">\n",
       "      <th></th>\n",
       "      <th>Date</th>\n",
       "      <th>Metric</th>\n",
       "      <th>Value</th>\n",
       "    </tr>\n",
       "  </thead>\n",
       "  <tbody>\n",
       "    <tr>\n",
       "      <th>0</th>\n",
       "      <td>2023-01-01</td>\n",
       "      <td>Revenue</td>\n",
       "      <td>1000</td>\n",
       "    </tr>\n",
       "    <tr>\n",
       "      <th>1</th>\n",
       "      <td>2023-01-01</td>\n",
       "      <td>Revenue</td>\n",
       "      <td>1200</td>\n",
       "    </tr>\n",
       "    <tr>\n",
       "      <th>2</th>\n",
       "      <td>2023-01-02</td>\n",
       "      <td>Revenue</td>\n",
       "      <td>1500</td>\n",
       "    </tr>\n",
       "    <tr>\n",
       "      <th>3</th>\n",
       "      <td>2023-01-01</td>\n",
       "      <td>Expense</td>\n",
       "      <td>500</td>\n",
       "    </tr>\n",
       "    <tr>\n",
       "      <th>4</th>\n",
       "      <td>2023-01-01</td>\n",
       "      <td>Expense</td>\n",
       "      <td>600</td>\n",
       "    </tr>\n",
       "    <tr>\n",
       "      <th>5</th>\n",
       "      <td>2023-01-02</td>\n",
       "      <td>Expense</td>\n",
       "      <td>800</td>\n",
       "    </tr>\n",
       "  </tbody>\n",
       "</table>\n",
       "</div>"
      ],
      "text/plain": [
       "         Date   Metric  Value\n",
       "0  2023-01-01  Revenue   1000\n",
       "1  2023-01-01  Revenue   1200\n",
       "2  2023-01-02  Revenue   1500\n",
       "3  2023-01-01  Expense    500\n",
       "4  2023-01-01  Expense    600\n",
       "5  2023-01-02  Expense    800"
      ]
     },
     "metadata": {},
     "output_type": "display_data"
    },
    {
     "data": {
      "text/markdown": [
       "**Aggregated df**"
      ],
      "text/plain": [
       "<IPython.core.display.Markdown object>"
      ]
     },
     "metadata": {},
     "output_type": "display_data"
    },
    {
     "data": {
      "text/html": [
       "<div>\n",
       "<style scoped>\n",
       "    .dataframe tbody tr th:only-of-type {\n",
       "        vertical-align: middle;\n",
       "    }\n",
       "\n",
       "    .dataframe tbody tr th {\n",
       "        vertical-align: top;\n",
       "    }\n",
       "\n",
       "    .dataframe thead th {\n",
       "        text-align: right;\n",
       "    }\n",
       "</style>\n",
       "<table border=\"1\" class=\"dataframe\">\n",
       "  <thead>\n",
       "    <tr style=\"text-align: right;\">\n",
       "      <th></th>\n",
       "      <th>Date</th>\n",
       "      <th>Metric</th>\n",
       "      <th>Value</th>\n",
       "    </tr>\n",
       "  </thead>\n",
       "  <tbody>\n",
       "    <tr>\n",
       "      <th>0</th>\n",
       "      <td>2023-01-01</td>\n",
       "      <td>Expense</td>\n",
       "      <td>1100</td>\n",
       "    </tr>\n",
       "    <tr>\n",
       "      <th>1</th>\n",
       "      <td>2023-01-01</td>\n",
       "      <td>Revenue</td>\n",
       "      <td>2200</td>\n",
       "    </tr>\n",
       "    <tr>\n",
       "      <th>2</th>\n",
       "      <td>2023-01-02</td>\n",
       "      <td>Expense</td>\n",
       "      <td>800</td>\n",
       "    </tr>\n",
       "    <tr>\n",
       "      <th>3</th>\n",
       "      <td>2023-01-02</td>\n",
       "      <td>Revenue</td>\n",
       "      <td>1500</td>\n",
       "    </tr>\n",
       "  </tbody>\n",
       "</table>\n",
       "</div>"
      ],
      "text/plain": [
       "         Date   Metric  Value\n",
       "0  2023-01-01  Expense   1100\n",
       "1  2023-01-01  Revenue   2200\n",
       "2  2023-01-02  Expense    800\n",
       "3  2023-01-02  Revenue   1500"
      ]
     },
     "metadata": {},
     "output_type": "display_data"
    },
    {
     "data": {
      "text/markdown": [
       "**Pivoted df**"
      ],
      "text/plain": [
       "<IPython.core.display.Markdown object>"
      ]
     },
     "metadata": {},
     "output_type": "display_data"
    },
    {
     "data": {
      "text/html": [
       "<div>\n",
       "<style scoped>\n",
       "    .dataframe tbody tr th:only-of-type {\n",
       "        vertical-align: middle;\n",
       "    }\n",
       "\n",
       "    .dataframe tbody tr th {\n",
       "        vertical-align: top;\n",
       "    }\n",
       "\n",
       "    .dataframe thead th {\n",
       "        text-align: right;\n",
       "    }\n",
       "</style>\n",
       "<table border=\"1\" class=\"dataframe\">\n",
       "  <thead>\n",
       "    <tr style=\"text-align: right;\">\n",
       "      <th>Metric</th>\n",
       "      <th>Expense</th>\n",
       "      <th>Revenue</th>\n",
       "    </tr>\n",
       "    <tr>\n",
       "      <th>Date</th>\n",
       "      <th></th>\n",
       "      <th></th>\n",
       "    </tr>\n",
       "  </thead>\n",
       "  <tbody>\n",
       "    <tr>\n",
       "      <th>2023-01-01</th>\n",
       "      <td>1100</td>\n",
       "      <td>2200</td>\n",
       "    </tr>\n",
       "    <tr>\n",
       "      <th>2023-01-02</th>\n",
       "      <td>800</td>\n",
       "      <td>1500</td>\n",
       "    </tr>\n",
       "  </tbody>\n",
       "</table>\n",
       "</div>"
      ],
      "text/plain": [
       "Metric      Expense  Revenue\n",
       "Date                        \n",
       "2023-01-01     1100     2200\n",
       "2023-01-02      800     1500"
      ]
     },
     "metadata": {},
     "output_type": "display_data"
    }
   ],
   "source": [
    "import pandas as pd\n",
    "from IPython.display import display, Markdown\n",
    "\n",
    "# Create a DataFrame for melting and pivoting\n",
    "data = {'Date': ['2023-01-01', '2023-01-01', '2023-01-02'],\n",
    "        'Revenue': [1000, 1200, 1500],\n",
    "        'Expense': [500, 600, 800]}\n",
    "df = pd.DataFrame(data)\n",
    "\n",
    "# Melt the DataFrame\n",
    "melted = df.melt(id_vars='Date', var_name='Metric', value_name='Value')\n",
    "\n",
    "# Aggregate the melted DataFrame (e.g., by summing values for duplicate entries)\n",
    "aggregated = melted.groupby(['Date', 'Metric'])['Value'].sum().reset_index()\n",
    "\n",
    "# Pivot the aggregated DataFrame\n",
    "pivoted = aggregated.pivot(index='Date', columns='Metric', values='Value')\n",
    "\n",
    "display(Markdown(\"**Melted df**\"))\n",
    "display(melted)\n",
    "\n",
    "display(Markdown(\"**Aggregated df**\"))\n",
    "display(aggregated)\n",
    "\n",
    "display(Markdown(\"**Pivoted df**\"))\n",
    "display(pivoted)\n"
   ]
  },
  {
   "cell_type": "markdown",
   "id": "726b9007",
   "metadata": {},
   "source": [
    "---\n",
    "\n",
    "This concludes the \"Data Aggregation and Grouping\" and \"Advanced Data Manipulation\" sections. In the next part, we'll delve into time series analysis using Pandas.\n",
    "\n",
    "---"
   ]
  },
  {
   "cell_type": "markdown",
   "id": "60af525e",
   "metadata": {},
   "source": [
    "## **Part 4: Time Series Analysis**\n",
    "\n",
    "### **7. Working with Time Series Data**\n",
    "\n",
    "Time series data analysis is crucial for understanding trends and patterns over time. In this section, we'll explore various techniques to analyze and manipulate time series data using Pandas.\n",
    "\n",
    "#### **7.1. Time Zone Handling**\n",
    "\n",
    "Pandas allows you to handle time zone information in your time series data."
   ]
  },
  {
   "cell_type": "code",
   "execution_count": 117,
   "id": "e475a284",
   "metadata": {},
   "outputs": [
    {
     "data": {
      "text/html": [
       "<div>\n",
       "<style scoped>\n",
       "    .dataframe tbody tr th:only-of-type {\n",
       "        vertical-align: middle;\n",
       "    }\n",
       "\n",
       "    .dataframe tbody tr th {\n",
       "        vertical-align: top;\n",
       "    }\n",
       "\n",
       "    .dataframe thead th {\n",
       "        text-align: right;\n",
       "    }\n",
       "</style>\n",
       "<table border=\"1\" class=\"dataframe\">\n",
       "  <thead>\n",
       "    <tr style=\"text-align: right;\">\n",
       "      <th></th>\n",
       "      <th>Timestamp</th>\n",
       "      <th>Value</th>\n",
       "    </tr>\n",
       "  </thead>\n",
       "  <tbody>\n",
       "    <tr>\n",
       "      <th>0</th>\n",
       "      <td>2023-08-01 08:00:00+00:00</td>\n",
       "      <td>100</td>\n",
       "    </tr>\n",
       "    <tr>\n",
       "      <th>1</th>\n",
       "      <td>2023-08-01 09:00:00+00:00</td>\n",
       "      <td>150</td>\n",
       "    </tr>\n",
       "    <tr>\n",
       "      <th>2</th>\n",
       "      <td>2023-08-01 10:00:00+00:00</td>\n",
       "      <td>200</td>\n",
       "    </tr>\n",
       "  </tbody>\n",
       "</table>\n",
       "</div>"
      ],
      "text/plain": [
       "                  Timestamp  Value\n",
       "0 2023-08-01 08:00:00+00:00    100\n",
       "1 2023-08-01 09:00:00+00:00    150\n",
       "2 2023-08-01 10:00:00+00:00    200"
      ]
     },
     "execution_count": 117,
     "metadata": {},
     "output_type": "execute_result"
    }
   ],
   "source": [
    "import pandas as pd\n",
    "\n",
    "# Create a DataFrame with time series data\n",
    "data = {'Timestamp': ['2023-08-01 08:00:00', '2023-08-01 09:00:00', '2023-08-01 10:00:00'],\n",
    "        'Value': [100, 150, 200]}\n",
    "df = pd.DataFrame(data)\n",
    "\n",
    "# Convert 'Timestamp' column to datetime\n",
    "df['Timestamp'] = pd.to_datetime(df['Timestamp'])\n",
    "\n",
    "# Set time zone\n",
    "df['Timestamp'] = df['Timestamp'].dt.tz_localize('UTC')\n",
    "\n",
    "df"
   ]
  },
  {
   "cell_type": "markdown",
   "id": "3e956d53",
   "metadata": {},
   "source": [
    "#### **7.2. Shifting and Lagging**\n",
    "\n",
    "Shifting and lagging time series data can help you calculate changes and trends."
   ]
  },
  {
   "cell_type": "code",
   "execution_count": 118,
   "id": "091f50d8",
   "metadata": {},
   "outputs": [
    {
     "data": {
      "text/html": [
       "<div>\n",
       "<style scoped>\n",
       "    .dataframe tbody tr th:only-of-type {\n",
       "        vertical-align: middle;\n",
       "    }\n",
       "\n",
       "    .dataframe tbody tr th {\n",
       "        vertical-align: top;\n",
       "    }\n",
       "\n",
       "    .dataframe thead th {\n",
       "        text-align: right;\n",
       "    }\n",
       "</style>\n",
       "<table border=\"1\" class=\"dataframe\">\n",
       "  <thead>\n",
       "    <tr style=\"text-align: right;\">\n",
       "      <th></th>\n",
       "      <th>Timestamp</th>\n",
       "      <th>Value</th>\n",
       "      <th>TimeDiff</th>\n",
       "      <th>ValueDiff</th>\n",
       "    </tr>\n",
       "  </thead>\n",
       "  <tbody>\n",
       "    <tr>\n",
       "      <th>0</th>\n",
       "      <td>2023-08-01 08:00:00</td>\n",
       "      <td>100</td>\n",
       "      <td>NaT</td>\n",
       "      <td>NaN</td>\n",
       "    </tr>\n",
       "    <tr>\n",
       "      <th>1</th>\n",
       "      <td>2023-08-01 09:00:00</td>\n",
       "      <td>150</td>\n",
       "      <td>0 days 01:00:00</td>\n",
       "      <td>50.0</td>\n",
       "    </tr>\n",
       "    <tr>\n",
       "      <th>2</th>\n",
       "      <td>2023-08-01 10:00:00</td>\n",
       "      <td>200</td>\n",
       "      <td>0 days 01:00:00</td>\n",
       "      <td>50.0</td>\n",
       "    </tr>\n",
       "  </tbody>\n",
       "</table>\n",
       "</div>"
      ],
      "text/plain": [
       "            Timestamp  Value        TimeDiff  ValueDiff\n",
       "0 2023-08-01 08:00:00    100             NaT        NaN\n",
       "1 2023-08-01 09:00:00    150 0 days 01:00:00       50.0\n",
       "2 2023-08-01 10:00:00    200 0 days 01:00:00       50.0"
      ]
     },
     "execution_count": 118,
     "metadata": {},
     "output_type": "execute_result"
    }
   ],
   "source": [
    "import pandas as pd\n",
    "\n",
    "# Create a DataFrame with time series data\n",
    "data = {'Timestamp': ['2023-08-01 08:00:00', '2023-08-01 09:00:00', '2023-08-01 10:00:00'],\n",
    "        'Value': [100, 150, 200]}\n",
    "df = pd.DataFrame(data)\n",
    "\n",
    "# Convert 'Timestamp' column to datetime\n",
    "df['Timestamp'] = pd.to_datetime(df['Timestamp'])\n",
    "\n",
    "# Calculate time difference and shift data\n",
    "df['TimeDiff'] = df['Timestamp'].diff()\n",
    "df['ValueDiff'] = df['Value'].diff()\n",
    "\n",
    "df"
   ]
  },
  {
   "cell_type": "markdown",
   "id": "d2178d43",
   "metadata": {},
   "source": [
    "#### **7.3. Handling Irregular Time Series**\n",
    "\n",
    "Pandas can handle irregular time series data by resampling and interpolating."
   ]
  },
  {
   "cell_type": "code",
   "execution_count": 119,
   "id": "d3b5f83a",
   "metadata": {},
   "outputs": [
    {
     "data": {
      "text/html": [
       "<div>\n",
       "<style scoped>\n",
       "    .dataframe tbody tr th:only-of-type {\n",
       "        vertical-align: middle;\n",
       "    }\n",
       "\n",
       "    .dataframe tbody tr th {\n",
       "        vertical-align: top;\n",
       "    }\n",
       "\n",
       "    .dataframe thead th {\n",
       "        text-align: right;\n",
       "    }\n",
       "</style>\n",
       "<table border=\"1\" class=\"dataframe\">\n",
       "  <thead>\n",
       "    <tr style=\"text-align: right;\">\n",
       "      <th></th>\n",
       "      <th>Value</th>\n",
       "    </tr>\n",
       "    <tr>\n",
       "      <th>Timestamp</th>\n",
       "      <th></th>\n",
       "    </tr>\n",
       "  </thead>\n",
       "  <tbody>\n",
       "    <tr>\n",
       "      <th>2023-08-01 08:00:00</th>\n",
       "      <td>100.0</td>\n",
       "    </tr>\n",
       "    <tr>\n",
       "      <th>2023-08-01 09:00:00</th>\n",
       "      <td>150.0</td>\n",
       "    </tr>\n",
       "    <tr>\n",
       "      <th>2023-08-01 10:00:00</th>\n",
       "      <td>200.0</td>\n",
       "    </tr>\n",
       "  </tbody>\n",
       "</table>\n",
       "</div>"
      ],
      "text/plain": [
       "                     Value\n",
       "Timestamp                 \n",
       "2023-08-01 08:00:00  100.0\n",
       "2023-08-01 09:00:00  150.0\n",
       "2023-08-01 10:00:00  200.0"
      ]
     },
     "execution_count": 119,
     "metadata": {},
     "output_type": "execute_result"
    }
   ],
   "source": [
    "import pandas as pd\n",
    "\n",
    "# Create a DataFrame with irregular time series data\n",
    "data = {'Timestamp': ['2023-08-01 08:00:00', '2023-08-01 09:30:00', '2023-08-01 10:45:00'],\n",
    "        'Value': [100, 150, 200]}\n",
    "df = pd.DataFrame(data)\n",
    "\n",
    "# Convert 'Timestamp' column to datetime\n",
    "df['Timestamp'] = pd.to_datetime(df['Timestamp'])\n",
    "\n",
    "# Set 'Timestamp' as index\n",
    "df.set_index('Timestamp', inplace=True)\n",
    "\n",
    "# Resample data to hourly frequency\n",
    "resampled_df = df.resample('H').mean()\n",
    "\n",
    "resampled_df"
   ]
  },
  {
   "cell_type": "markdown",
   "id": "ba340c14",
   "metadata": {},
   "source": [
    "---\n",
    "\n",
    "This concludes the \"Working with Time Series Data\" section. In the next part, we'll explore advanced topics in Pandas to optimize performance and enhance visualization.\n",
    "\n",
    "---"
   ]
  },
  {
   "cell_type": "markdown",
   "id": "5940ebb4",
   "metadata": {},
   "source": [
    "## **Part 5: Advanced Topics in Pandas**\n",
    "\n",
    "### **8. Performance Optimization**\n",
    "\n",
    "Optimizing performance is crucial when dealing with large datasets. In this section, we'll explore techniques to improve the efficiency of your Pandas code.\n",
    "\n",
    "#### **8.1. Vectorized Operations**\n",
    "\n",
    "Vectorized operations are a fundamental optimization technique in data processing that exploits the capabilities of vectorized data structures like NumPy arrays to perform operations efficiently on entire arrays of data, instead of using traditional iterative methods. This approach significantly improves computational speed and code readability.\n",
    "\n",
    "**Leveraging NumPy Arrays:**\n",
    "NumPy is a powerful library in Python that provides support for large, multi-dimensional arrays and matrices, along with an extensive collection of mathematical functions to operate on these arrays. Vectorized operations take advantage of NumPy's ability to apply operations element-wise across entire arrays, eliminating the need for explicit loops and dramatically improving performance.\n",
    "\n",
    "In the provided example, consider a scenario where we want to double the values in a DataFrame column (`df['Value']`). We'll compare the traditional loop-based approach with a vectorized operation.\n",
    "\n",
    "**Loop-Based Approach:**\n",
    "```python\n",
    "result_loop = []\n",
    "for value in df['Value']:\n",
    "    result_loop.append(value * 2)\n",
    "```\n",
    "\n",
    "**Vectorized Operation:**\n",
    "```python\n",
    "result_vectorized = df['Value'] * 2\n",
    "```\n",
    "\n",
    "In the loop-based approach, we iterate over each value in the column, multiply it by 2, and then append the result to a list. This method can be time-consuming and less efficient, especially for large datasets.\n",
    "\n",
    "On the other hand, the vectorized operation directly applies the multiplication to the entire NumPy array (`df['Value']`) in one go. NumPy handles the element-wise computation efficiently, resulting in a faster and more concise code.\n",
    "\n",
    "**Advantages of Vectorized Operations:**\n",
    "\n",
    "1. **Enhanced Performance:** Vectorized operations are significantly faster than their loop-based counterparts, especially for large datasets, due to efficient memory access and optimized native code execution.\n",
    "\n",
    "2. **Simplified Code:** Vectorized operations lead to cleaner and more readable code. They express the intent of the operation directly, without the need for explicit iteration.\n",
    "\n",
    "3. **NumPy Optimizations:** NumPy internally optimizes operations to leverage low-level machine instructions, making the most of hardware capabilities.\n",
    "\n",
    "4. **Ease of Parallelization:** Vectorized operations are inherently parallelizable, allowing modern hardware with multiple cores to process the data concurrently.\n",
    "\n",
    "5. **Integration with Libraries:** Vectorized operations align well with other data analysis libraries, like pandas, making it easier to combine various tools in your analysis pipeline.\n",
    "\n",
    "In conclusion, vectorized operations, powered by libraries like NumPy, are a cornerstone of efficient and effective data processing and analysis. By embracing vectorization, data practitioners can achieve remarkable performance improvements and streamline their code, leading to more productive and scalable data workflows."
   ]
  },
  {
   "cell_type": "code",
   "execution_count": 123,
   "id": "cb9c6ff6",
   "metadata": {},
   "outputs": [
    {
     "name": "stdout",
     "output_type": "stream",
     "text": [
      "result_vectorized type is: <class 'pandas.core.series.Series'>\n"
     ]
    },
    {
     "data": {
      "text/html": [
       "<div>\n",
       "<style scoped>\n",
       "    .dataframe tbody tr th:only-of-type {\n",
       "        vertical-align: middle;\n",
       "    }\n",
       "\n",
       "    .dataframe tbody tr th {\n",
       "        vertical-align: top;\n",
       "    }\n",
       "\n",
       "    .dataframe thead th {\n",
       "        text-align: right;\n",
       "    }\n",
       "</style>\n",
       "<table border=\"1\" class=\"dataframe\">\n",
       "  <thead>\n",
       "    <tr style=\"text-align: right;\">\n",
       "      <th></th>\n",
       "      <th>Value</th>\n",
       "    </tr>\n",
       "  </thead>\n",
       "  <tbody>\n",
       "    <tr>\n",
       "      <th>0</th>\n",
       "      <td>2</td>\n",
       "    </tr>\n",
       "    <tr>\n",
       "      <th>1</th>\n",
       "      <td>4</td>\n",
       "    </tr>\n",
       "    <tr>\n",
       "      <th>2</th>\n",
       "      <td>6</td>\n",
       "    </tr>\n",
       "    <tr>\n",
       "      <th>3</th>\n",
       "      <td>8</td>\n",
       "    </tr>\n",
       "    <tr>\n",
       "      <th>4</th>\n",
       "      <td>10</td>\n",
       "    </tr>\n",
       "  </tbody>\n",
       "</table>\n",
       "</div>"
      ],
      "text/plain": [
       "   Value\n",
       "0      2\n",
       "1      4\n",
       "2      6\n",
       "3      8\n",
       "4     10"
      ]
     },
     "execution_count": 123,
     "metadata": {},
     "output_type": "execute_result"
    }
   ],
   "source": [
    "import pandas as pd\n",
    "\n",
    "# Create a DataFrame for vectorized operations\n",
    "data = {'Value': range(1, 10001)}\n",
    "df = pd.DataFrame(data)\n",
    "\n",
    "# Using a loop\n",
    "result_loop = []\n",
    "for value in df['Value']:\n",
    "    result_loop.append(value * 2)\n",
    "\n",
    "# Using vectorized operation\n",
    "result_vectorized = df['Value'] * 2\n",
    "print(f'result_vectorized type is: {type(result_vectorized)}')\n",
    "\n",
    "pd.DataFrame(result_vectorized.head())"
   ]
  },
  {
   "cell_type": "markdown",
   "id": "79ce3196",
   "metadata": {},
   "source": [
    "#### **8.2. Caching and Memory Management**\n",
    "\n",
    "Caching and memory management are techniques employed in data processing and analysis to enhance computational efficiency, reduce redundant calculations, and optimize memory utilization. These practices play a pivotal role, especially when working with substantial datasets and intricate operations.\n",
    "\n",
    "**Caching:**\n",
    "Caching involves temporarily storing the results of computations so that they can be quickly retrieved and reused later. This technique is particularly useful when the same operation needs to be performed multiple times, such as aggregating data or applying transformations. Instead of recomputing the result each time, the cached value can be retrieved, leading to significant time savings. In the context of libraries like `pandas`, caching can be enabled using specialized options like `compute.use_numexpr`. By leveraging caching, data analysts and scientists can mitigate the computational overhead associated with redundant operations, leading to more efficient workflows.\n",
    "\n",
    "**Memory Management:**\n",
    "Efficient memory management is crucial when working with large datasets to prevent performance bottlenecks and potential crashes due to excessive memory consumption. Data structures, such as DataFrames, Series, and arrays, can consume a substantial amount of memory, especially when dealing with extensive data. Memory management techniques involve optimizing memory allocation, deallocation, and usage to ensure that the available memory is used optimally and without unnecessary waste. Techniques like garbage collection and memory pooling help in freeing up memory that is no longer needed, allowing the system to allocate resources more effectively.\n",
    "\n",
    "In the provided example, enabling caching through `pd.set_option('compute.use_numexpr', True)` leverages the `numexpr` library to speed up computations. This is particularly advantageous for mathematical operations involving large arrays or datasets. The `pd.set_option('compute.use_numexpr', False)` line disables caching and allows for a comparison between the performance of cached and uncached computations.\n",
    "\n",
    "By implementing effective caching and memory management strategies, data analysts and scientists can:\n",
    "\n",
    "1. **Enhance Computational Efficiency:** Caching reduces the need for redundant calculations, leading to faster execution times for frequently performed operations.\n",
    "\n",
    "2. **Optimize Resource Utilization:** Efficient memory management ensures that memory resources are used judiciously, minimizing the risk of memory-related issues and enhancing overall system performance.\n",
    "\n",
    "3. **Facilitate Scalability:** Caching and memory management become especially critical as the size of datasets grows. Efficient techniques enable analyses to scale up without a linear increase in computation time or memory consumption.\n",
    "\n",
    "4. **Improve User Experience:** Faster computations and responsive analysis tools result in a better user experience, enabling more iterative and interactive exploration of data.\n",
    "\n",
    "In conclusion, caching and memory management are indispensable tools for achieving efficient and effective data processing and analysis. By incorporating these techniques into their workflows, data practitioners can unlock the full potential of their data and optimize the performance of their analytical processes."
   ]
  },
  {
   "cell_type": "code",
   "execution_count": 124,
   "id": "36963369",
   "metadata": {},
   "outputs": [
    {
     "name": "stdout",
     "output_type": "stream",
     "text": [
      "50000005000000 50000005000000\n"
     ]
    }
   ],
   "source": [
    "import pandas as pd\n",
    "\n",
    "# Enable caching\n",
    "pd.set_option('compute.use_numexpr', True)\n",
    "\n",
    "# Create a large DataFrame\n",
    "data = {'Value': range(1, 10000001)}\n",
    "df = pd.DataFrame(data)\n",
    "\n",
    "# Compute sum with caching\n",
    "sum_cached = df['Value'].sum()\n",
    "\n",
    "# Disable caching\n",
    "pd.set_option('compute.use_numexpr', False)\n",
    "\n",
    "# Compute sum without caching\n",
    "sum_uncached = df['Value'].sum()\n",
    "\n",
    "print(sum_cached, sum_uncached)"
   ]
  },
  {
   "cell_type": "markdown",
   "id": "c26223c9",
   "metadata": {},
   "source": [
    "#### **8.3. Parallel Processing**\n",
    "\n",
    "Parallel processing is a powerful technique used to execute multiple tasks concurrently, taking advantage of modern hardware with multiple cores or processors. In data analysis, parallel processing can significantly speed up certain operations, leading to improved performance and reduced execution times."
   ]
  },
  {
   "cell_type": "markdown",
   "id": "4a1d93e7",
   "metadata": {},
   "source": [
    "##### **8.3.1 Single Processing**\n",
    "In single processing, tasks are executed sequentially, one after the other. While this is straightforward and easy to implement, it may not fully leverage the available hardware resources, especially in scenarios where the data and computations are substantial."
   ]
  },
  {
   "cell_type": "code",
   "execution_count": 7,
   "id": "c5aa82e3",
   "metadata": {},
   "outputs": [
    {
     "name": "stdout",
     "output_type": "stream",
     "text": [
      "Single processing time: 12.212539911270142 seconds\n"
     ]
    }
   ],
   "source": [
    "import pandas as pd\n",
    "import numpy as np\n",
    "import time\n",
    "\n",
    "start_time = time.time()\n",
    "\n",
    "# Create a large DataFrame\n",
    "data = {'Value': np.random.randint(1, 100, size=1000000000)}\n",
    "df = pd.DataFrame(data)\n",
    "\n",
    "# Single processing: Perform a vectorized operation\n",
    "result_single = df['Value'] * 2\n",
    "\n",
    "end_time = time.time()\n",
    "\n",
    "print(\"Single processing time:\", end_time - start_time, \"seconds\")\n",
    "\n"
   ]
  },
  {
   "cell_type": "markdown",
   "id": "ffa6f0f7",
   "metadata": {},
   "source": [
    "In the above code, a large DataFrame is created, and a vectorized operation `(df['Value'] * 2)` is performed sequentially using single processing. The execution time is measured using the time module.\n"
   ]
  },
  {
   "cell_type": "markdown",
   "id": "6d6baf49",
   "metadata": {},
   "source": [
    "##### **8.3.2 Multi Processing**"
   ]
  },
  {
   "cell_type": "markdown",
   "id": "09ed2648",
   "metadata": {},
   "source": [
    "Multi-processing involves executing tasks concurrently across multiple processors or cores. In the context of Pandas, the Dask library provides support for parallel processing for certain operations."
   ]
  },
  {
   "cell_type": "code",
   "execution_count": 8,
   "id": "7971b77b",
   "metadata": {},
   "outputs": [
    {
     "name": "stdout",
     "output_type": "stream",
     "text": [
      "Single processing time: 0.3402228355407715 seconds\n"
     ]
    }
   ],
   "source": [
    "import pandas as pd\n",
    "import numpy as np\n",
    "import dask.dataframe as dd\n",
    "\n",
    "start_time = time.time()\n",
    "\n",
    "# Create a large DataFrame\n",
    "data = {'Value': np.random.randint(1, 100, size=1000000)}\n",
    "df = pd.DataFrame(data)\n",
    "\n",
    "# Convert pandas DataFrame to dask DataFrame\n",
    "ddf = dd.from_pandas(df, npartitions=4)  # You can adjust the number of partitions\n",
    "\n",
    "\"\"\"\n",
    "# You can also initialise the data in dask \n",
    "# Create a large Dask DataFrame\n",
    "#data = {'Value': np.random.randint(1, 100, size=1000000000)}\n",
    "#ddf = dd.from_dict(data, npartitions=4)  # Initialize Dask DataFrame\n",
    "\"\"\"\n",
    "\n",
    "# Perform the operation in parallel using Dask\n",
    "result_dask = ddf['Value'] * 2\n",
    "\n",
    "# Compute and retrieve the result and converts back to pandas\n",
    "# note compute() is slow so do it as little as you can\n",
    "\n",
    "result_dask = result_dask.compute() \n",
    "\n",
    "end_time = time.time()\n",
    "\n",
    "print(\"Single processing time:\", end_time - start_time, \"seconds\")\n"
   ]
  },
  {
   "cell_type": "markdown",
   "id": "4c9457c8",
   "metadata": {},
   "source": [
    "In the provided example, a Dask DataFrame is created, which is a parallel computing library that integrates well with Pandas. The operation `ddf['Value'] * 2` is performed using Dask's parallel processing capabilities. The `compute()` function triggers the parallel computation and returns a Pandas DataFrame with the result.\n",
    "\n",
    "**Advantages of Parallel Processing:**\n",
    "\n",
    "1. **Faster Execution:** Parallel processing can lead to significantly reduced execution times for computationally intensive tasks.\n",
    "\n",
    "2. **Optimal Resource Utilization:** Parallel processing makes efficient use of available hardware resources, such as multiple CPU cores.\n",
    "\n",
    "3. **Scalability:** Parallel processing can scale with the hardware, making it suitable for handling larger datasets and complex operations.\n",
    "\n",
    "4. **Improved Performance:** Parallel processing is particularly beneficial for operations that can be parallelized, such as element-wise calculations.\n",
    "\n",
    "5. **Enhanced Productivity:** Faster results enable data practitioners to iterate and experiment more rapidly during the analysis.\n",
    "\n",
    "In conclusion, parallel processing, as demonstrated through the Dask library in the provided example, is a valuable technique to achieve faster and more efficient data computations in certain scenarios. By leveraging multi-core capabilities, data analysts and scientists can optimize their workflows and accomplish tasks that would otherwise be time-consuming when performed sequentially."
   ]
  },
  {
   "cell_type": "markdown",
   "id": "b6e6370c",
   "metadata": {},
   "source": [
    "##### **8.3.3 Extra Content: Executing Multiple Jupyterlabs Code Cells Concurrently**\n",
    "\n",
    "Multicore and concurrent programming in Python involves efficiently utilizing the computational power of multiple processor cores or threads to perform tasks concurrently. This is particularly important when dealing with computationally intensive operations, as it allows you to leverage hardware resources effectively and achieve faster execution times. Python offers several ways to achieve multicore/concurrent programming:\n",
    "\n",
    "1. **Threading:**\n",
    "   Threading is a way to run multiple threads (smaller units of a program) concurrently within the same process. However, due to Python's Global Interpreter Lock (GIL), threading is often not as efficient for CPU-bound tasks but can be useful for I/O-bound operations.\n",
    "\n",
    "2. **Multiprocessing:**\n",
    "   The `multiprocessing` module allows you to create separate processes, each with its own Python interpreter and memory space. This bypasses the GIL and is suitable for CPU-bound tasks that can take full advantage of multiple cores.\n",
    "\n",
    "3. **Asyncio:**\n",
    "   Asynchronous programming using the `asyncio` module enables you to write non-blocking code by using coroutines. This is well-suited for I/O-bound tasks where tasks can yield control to the event loop while waiting for I/O operations to complete.\n",
    "\n",
    "By default, Jupyter Notebook executes cells sequentially, running one cell after another. However, there are scenarios where you might want to run multiple cells simultaneously. Here are a few methods to achieve this:\n",
    "\n",
    "**1. First Place all Cell Code in Seperate Functions**\n",
    "\n",
    "\n",
    "```python\n",
    "def cell1():\n",
    "    #code goes here\n",
    "```\n",
    "\n",
    "```python\n",
    "def cell2():\n",
    "    #code goes here\n",
    "```\n",
    "\n",
    "**2. Using the Thread Pool Executor:**\n",
    "\n",
    "\n",
    "```python\n",
    "from concurrent.futures import ThreadPoolExecutor\n",
    "\n",
    "with ThreadPoolExecutor(max_workers=2) as executor:\n",
    "    executor.submit(cell1)\n",
    "    executor.submit(cell2)\n",
    "```\n",
    "\n",
    "**3. Using the Process Pool Executor:**\n",
    "\n",
    "\n",
    "```python\n",
    "from concurrent.futures import ProcessPoolExecutor\n",
    "\n",
    "with ProcessPoolExecutor(max_workers=2) as executor:\n",
    "    executor.submit(cell1)\n",
    "    executor.submit(cell2)\n",
    "```\n",
    "\n",
    "**4. Using the ipyparallel Extension:**\n",
    "\n",
    "```python\n",
    "from ipyparallel import Client\n",
    "\n",
    "client = Client()\n",
    "dview = client.direct_view()\n",
    "\n",
    "dview.execute('cell1()')\n",
    "dview.execute('cell2()')\n",
    "```\n",
    "\n",
    "\n",
    "In the examples above, we demonstrated three methods to run multiple cells simultaneously in Jupyter Notebook:\n",
    "\n",
    "1. The `ThreadPoolExecutor` and `ProcessPoolExecutor` from the `concurrent.futures` module allow you to create pools of worker threads or processes and submit cell executions to them.\n",
    "\n",
    "2. The `ipyparallel` extension provides a way to execute code in parallel across multiple IPython kernels, enabling you to leverage distributed computing.\n",
    "\n",
    "These methods can enhance the efficiency of your Jupyter Notebook workflow, especially for computationally intensive tasks. It's important to note that not all scenarios can benefit from parallelization, and careful consideration of the problem's nature and data dependencies is crucial when choosing a parallelization strategy."
   ]
  },
  {
   "cell_type": "markdown",
   "id": "80e4e0a2",
   "metadata": {},
   "source": [
    "### **9. Advanced Visualization**\n",
    "\n",
    "Advanced visualization techniques can provide deeper insights into your data. In this section, we'll explore more sophisticated ways to visualize data using Pandas.\n",
    "\n",
    "#### **9.1. 3D Plots and Animation**\n",
    "\n",
    "Pandas can create 3D plots and animations using Matplotlib."
   ]
  },
  {
   "cell_type": "code",
   "execution_count": 9,
   "id": "658f3648",
   "metadata": {},
   "outputs": [
    {
     "data": {
      "image/png": "[encoded data removed]",
      "text/plain": [
       "<Figure size 640x480 with 1 Axes>"
      ]
     },
     "metadata": {},
     "output_type": "display_data"
    }
   ],
   "source": [
    "import pandas as pd\n",
    "import numpy as np\n",
    "import matplotlib.pyplot as plt\n",
    "from mpl_toolkits.mplot3d import Axes3D\n",
    "\n",
    "# Generate 3D data\n",
    "x = np.linspace(-5, 5, 100)\n",
    "y = np.linspace(-5, 5, 100)\n",
    "X, Y = np.meshgrid(x, y)\n",
    "Z = np.sin(np.sqrt(X**2 + Y**2))\n",
    "\n",
    "# Create a DataFrame from 3D data\n",
    "data = {'X': X.flatten(),\n",
    "        'Y': Y.flatten(),\n",
    "        'Z': Z.flatten()}\n",
    "df = pd.DataFrame(data)\n",
    "\n",
    "# Create a 3D scatter plot\n",
    "fig = plt.figure()\n",
    "ax = fig.add_subplot(111, projection='3d')\n",
    "ax.scatter(df['X'], df['Y'], df['Z'])\n",
    "plt.show()"
   ]
  },
  {
   "cell_type": "markdown",
   "id": "b3adda5d",
   "metadata": {},
   "source": [
    "#### **9.2. Geospatial Data Visualization**\n",
    "\n",
    "Pandas can visualize geospatial data using Matplotlib and GeoPandas."
   ]
  },
  {
   "cell_type": "code",
   "execution_count": 13,
   "id": "c7f56876",
   "metadata": {},
   "outputs": [
    {
     "name": "stderr",
     "output_type": "stream",
     "text": [
      "/var/folders/s5/vk8nxr_94p15g_k3bptwpbjm0000gn/T/ipykernel_96879/4182699749.py:6: FutureWarning: The geopandas.dataset module is deprecated and will be removed in GeoPandas 1.0. You can get the original 'naturalearth_lowres' data from https://www.naturalearthdata.com/downloads/110m-cultural-vectors/.\n",
      "  world = gpd.read_file(gpd.datasets.get_path('naturalearth_lowres'))\n"
     ]
    },
    {
     "data": {
      "image/png": "[encoded data removed]",
      "text/plain": [
       "<Figure size 640x480 with 2 Axes>"
      ]
     },
     "metadata": {},
     "output_type": "display_data"
    }
   ],
   "source": [
    "import pandas as pd\n",
    "import geopandas as gpd\n",
    "import matplotlib.pyplot as plt\n",
    "\n",
    "# Load a GeoDataFrame (using the new recommended method)\n",
    "world = gpd.read_file(gpd.datasets.get_path('naturalearth_lowres'))\n",
    "# Alternatively, you can download the dataset directly from the URL:\n",
    "# world = gpd.read_file('https://naturalearth.s3.amazonaws.com/110m_cultural/ne_110m_admin_0_countries.geojson')\n",
    "\n",
    "# Create a plot\n",
    "world.plot(column='pop_est', legend=True)\n",
    "plt.title('World Population')\n",
    "plt.show()\n"
   ]
  },
  {
   "cell_type": "markdown",
   "id": "51226f6b",
   "metadata": {},
   "source": [
    "---\n",
    "\n",
    "This concludes the \"Performance Optimization\" and \"Advanced Visualization\" sections. In the next part, we'll explore real-world applications of Pandas through case studies and best practices.\n",
    "\n",
    "---\n"
   ]
  },
  {
   "cell_type": "markdown",
   "id": "db6f82c4",
   "metadata": {},
   "source": [
    "### **10. Functions and the `apply()` Method**\n",
    "\n",
    "The `apply()` method in Pandas is a powerful tool for applying functions along either rows or columns of a DataFrame. It allows for advanced data transformations and custom operations across entire datasets.\n",
    "\n",
    "#### **Custom Age Group Categorization Example**\n",
    "\n",
    "The provided code demonstrates how to use the `apply()` method for advanced data transformation:\n",
    "\n",
    "1. **Define Custom Function:** A custom function named `categorize_age(age)` is defined to categorize age values into different groups based on conditional logic.\n",
    "\n",
    "2. **Create DataFrame:** A DataFrame named `df` is created with an 'Age' column containing age values.\n",
    "\n",
    "3. **Apply Custom Function:** The `apply()` method is used to apply the `categorize_age` function to the 'Age' column. This creates a new 'Age Group' column with categorized age groups.\n",
    "\n",
    "4. **Result:** The DataFrame `df` now includes both the original 'Age' column and the newly added 'Age Group' column, which holds the categorized age groups.\n",
    "\n",
    "The `apply()` method offers an advanced way to efficiently perform complex transformations and calculations on DataFrame data, making it a valuable tool in advanced data analysis and manipulation tasks."
   ]
  },
  {
   "cell_type": "code",
   "execution_count": 31,
   "id": "de0feae7",
   "metadata": {},
   "outputs": [
    {
     "data": {
      "text/html": [
       "<div>\n",
       "<style scoped>\n",
       "    .dataframe tbody tr th:only-of-type {\n",
       "        vertical-align: middle;\n",
       "    }\n",
       "\n",
       "    .dataframe tbody tr th {\n",
       "        vertical-align: top;\n",
       "    }\n",
       "\n",
       "    .dataframe thead th {\n",
       "        text-align: right;\n",
       "    }\n",
       "</style>\n",
       "<table border=\"1\" class=\"dataframe\">\n",
       "  <thead>\n",
       "    <tr style=\"text-align: right;\">\n",
       "      <th></th>\n",
       "      <th>Age</th>\n",
       "      <th>Age Group</th>\n",
       "    </tr>\n",
       "  </thead>\n",
       "  <tbody>\n",
       "    <tr>\n",
       "      <th>0</th>\n",
       "      <td>22</td>\n",
       "      <td>18-34</td>\n",
       "    </tr>\n",
       "    <tr>\n",
       "      <th>1</th>\n",
       "      <td>14</td>\n",
       "      <td>Under 18</td>\n",
       "    </tr>\n",
       "    <tr>\n",
       "      <th>2</th>\n",
       "      <td>38</td>\n",
       "      <td>35-49</td>\n",
       "    </tr>\n",
       "    <tr>\n",
       "      <th>3</th>\n",
       "      <td>55</td>\n",
       "      <td>50+</td>\n",
       "    </tr>\n",
       "    <tr>\n",
       "      <th>4</th>\n",
       "      <td>42</td>\n",
       "      <td>35-49</td>\n",
       "    </tr>\n",
       "  </tbody>\n",
       "</table>\n",
       "</div>"
      ],
      "text/plain": [
       "   Age Age Group\n",
       "0   22     18-34\n",
       "1   14  Under 18\n",
       "2   38     35-49\n",
       "3   55       50+\n",
       "4   42     35-49"
      ]
     },
     "execution_count": 31,
     "metadata": {},
     "output_type": "execute_result"
    }
   ],
   "source": [
    "import pandas as pd\n",
    "\n",
    "# Define a custom function to categorize age groups\n",
    "def categorize_age(age):\n",
    "    if age < 18:\n",
    "        return 'Under 18'\n",
    "    elif age < 35:\n",
    "        return '18-34'\n",
    "    elif age < 50:\n",
    "        return '35-49'\n",
    "    else:\n",
    "        return '50+'\n",
    "\n",
    "# Apply the custom function to a DataFrame\n",
    "data = {'Age': [22, 14, 38, 55, 42]}\n",
    "df = pd.DataFrame(data)\n",
    "\n",
    "df['Age Group'] = df['Age'].apply(categorize_age)\n",
    "df"
   ]
  },
  {
   "cell_type": "markdown",
   "id": "b87c1435",
   "metadata": {},
   "source": [
    "### **11. Memory Optimization Techniques**\n",
    "\n",
    "Memory optimization techniques are essential when dealing with large datasets to improve performance, reduce memory consumption, and enhance the overall efficiency of your data analysis. Here are some strategies to optimize memory usage in Python, particularly when working with Pandas DataFrames:\n",
    "\n",
    "**1. Use Appropriate Data Types:**\n",
    "   Choose the most memory-efficient data types for your columns. For example, use integer types (e.g., `int32`, `uint16`) and single-precision floating-point types (e.g., `float32`) when possible.\n",
    "\n",
    "**2. Downcast Numeric Columns:**\n",
    "   Downcast integer and floating-point columns to smaller data types (e.g., downcasting `int64` to `int32`) while ensuring that data integrity is maintained.\n",
    "\n",
    "**3. Use Categorical Data:**\n",
    "   Convert categorical columns to Pandas' categorical data type (`pd.Categorical`). This saves memory by storing unique values once and using integer codes for each value.\n",
    "\n",
    "**4. Remove Unnecessary Columns:**\n",
    "   Drop columns that are not needed for analysis, reducing the memory footprint of the DataFrame.\n",
    "\n",
    "**5. Load Data in Chunks:**\n",
    "   When reading large datasets from files, use chunking (e.g., using the `chunksize` parameter in `pd.read_csv()`) to load data in smaller portions, preventing memory overload.\n",
    "\n",
    "**6. Avoid Copying Data:**\n",
    "   Be mindful of operations that create copies of dataframes, such as subsetting with `.loc` or `.iloc`. Instead, use `.loc` with boolean indexing to modify values in place.\n",
    "\n",
    "**7. Optimize String Storage:**\n",
    "   For string columns, consider using the `string` data type introduced in Pandas 1.0. This optimizes memory usage for string data.\n",
    "\n",
    "**8. Use External Libraries:**\n",
    "   Utilize external libraries like Dask or Vaex for out-of-core computing, which allows working with datasets larger than available memory.\n",
    "\n",
    "**9. Profile Memory Usage:**\n",
    "   Use memory profiling tools like `memory_profiler` to identify memory-hungry parts of your code and optimize them.\n",
    "\n",
    "**10. Garbage Collection:**\n",
    "   Manually trigger garbage collection using `gc.collect()` to free up unused memory.\n",
    "\n",
    "Implementing these memory optimization techniques can lead to substantial improvements in memory efficiency, which is crucial for smooth and responsive data analysis, especially when dealing with large datasets. Always balance memory optimization with data integrity and analysis requirements to ensure accurate results.\n",
    "\n",
    "Here's and example:"
   ]
  },
  {
   "cell_type": "code",
   "execution_count": 33,
   "id": "40bcf44d",
   "metadata": {},
   "outputs": [
    {
     "data": {
      "text/markdown": [
       "**Before optimization**"
      ],
      "text/plain": [
       "<IPython.core.display.Markdown object>"
      ]
     },
     "metadata": {},
     "output_type": "display_data"
    },
    {
     "data": {
      "text/plain": [
       "Index       132\n",
       "A        800000\n",
       "B        800000\n",
       "dtype: int64"
      ]
     },
     "metadata": {},
     "output_type": "display_data"
    },
    {
     "data": {
      "text/markdown": [
       "**After optimization**"
      ],
      "text/plain": [
       "<IPython.core.display.Markdown object>"
      ]
     },
     "metadata": {},
     "output_type": "display_data"
    },
    {
     "data": {
      "text/plain": [
       "Index       132\n",
       "A        400000\n",
       "B        400000\n",
       "dtype: int64"
      ]
     },
     "metadata": {},
     "output_type": "display_data"
    }
   ],
   "source": [
    "import pandas as pd\n",
    "from IPython.display import display, Markdown\n",
    "\n",
    "# Create a DataFrame with optimized data types\n",
    "data = {'A': range(1, 100001),\n",
    "        'B': [0.1] * 100000}\n",
    "df = pd.DataFrame(data)\n",
    "\n",
    "display(Markdown(\"**Before optimization**\"))\n",
    "display(df.memory_usage(deep=True))\n",
    "\n",
    "# Optimize data types\n",
    "df['A'] = pd.to_numeric(df['A'], downcast='unsigned')\n",
    "df['B'] = df['B'].astype('float32')\n",
    "\n",
    "display(Markdown(\"**After optimization**\"))\n",
    "display(df.memory_usage(deep=True))"
   ]
  },
  {
   "cell_type": "markdown",
   "id": "7e362ca8",
   "metadata": {},
   "source": [
    "---\n",
    "\n",
    "This concludes the \"Case Studies\" and \"Best Practices and Tips\" sections. In the next part, we'll provide additional resources and a glossary to support your journey with Pandas.\n",
    "\n",
    "---"
   ]
  },
  {
   "cell_type": "markdown",
   "id": "c2b8419e",
   "metadata": {},
   "source": [
    "## **Part 7: Appendix**\n",
    "\n",
    "### **12. Useful Resources**\n",
    "\n",
    "In this section, we'll provide you with additional resources to enhance your understanding of Pandas and related libraries.\n",
    "\n",
    "#### **12.1 Additional Libraries**\n",
    "\n",
    "Pandas often works in conjunction with other libraries to provide comprehensive data analysis and visualization capabilities. Here are some additional libraries that are commonly used alongside Pandas:\n",
    "\n",
    "- **NumPy:** A fundamental package for scientific computing in Python, providing support for arrays and mathematical functions.\n",
    "\n",
    "- **Matplotlib:** A popular plotting library that enables you to create static, interactive, and animated visualizations in Python."
   ]
  },
  {
   "cell_type": "code",
   "execution_count": 34,
   "id": "01964259",
   "metadata": {},
   "outputs": [
    {
     "data": {
      "image/png": "[encoded data removed]",
      "text/plain": [
       "<Figure size 640x480 with 1 Axes>"
      ]
     },
     "metadata": {},
     "output_type": "display_data"
    }
   ],
   "source": [
    "import numpy as np\n",
    "import matplotlib.pyplot as plt\n",
    "\n",
    "# Example of NumPy and Matplotlib usage\n",
    "x = np.linspace(0, 10, 100)\n",
    "y = np.sin(x)\n",
    "plt.plot(x, y)\n",
    "plt.title('Sine Wave')\n",
    "plt.xlabel('x')\n",
    "plt.ylabel('sin(x)')\n",
    "plt.show()"
   ]
  },
  {
   "cell_type": "markdown",
   "id": "615461f8",
   "metadata": {},
   "source": [
    "#### **12.2. Cheat Sheets and Quick References**\n",
    "\n",
    "Keep handy cheat sheets and quick references to streamline your work with Pandas:\n",
    "\n",
    "- [Pandas Cheat Sheet](https://pandas.pydata.org/Pandas_Cheat_Sheet.pdf): A concise guide to Pandas functions and methods.\n",
    "\n",
    "- [NumPy Cheat Sheet](https://numpy.org/devdocs/user/quickstart.html): Quick reference for NumPy array manipulation.\n",
    "\n",
    "- [Matplotlib Cheat Sheet](https://github.com/matplotlib/cheatsheets): Collection of cheat sheets for various Matplotlib functionalities.\n",
    "\n",
    "### **13. Glossary**\n",
    "\n",
    "In this section, we'll define key terms and concepts related to Pandas and data analysis.\n",
    "\n",
    "#### **13.1 Key Terms**\n",
    "\n",
    "- **DataFrame:** A two-dimensional, size-mutable, and heterogeneous tabular data structure in Pandas.\n",
    "\n",
    "- **Series:** A one-dimensional labeled array that can hold data of any type.\n",
    "\n",
    "- **Index:** A unique label for each row or element in a Pandas DataFrame or Series.\n",
    "\n",
    "- **Grouping:** The process of splitting data into groups based on one or more criteria.\n",
    "\n",
    "- **Aggregation:** Computing a summary statistic (e.g., mean, sum) about each group.\n",
    "\n",
    "- **Resampling:** Changing the frequency of time series data, e.g., from daily to monthly.\n",
    "\n",
    "- **Vectorized Operation:** Applying operations to entire arrays rather than individual elements.\n",
    "\n",
    "- **Memory Optimization:** Techniques to reduce memory usage of data structures.\n",
    "\n",
    "#### **13.2. Concepts**\n",
    "\n",
    "- **Time Series Analysis:** The study of data points collected over time and the identification of patterns and trends.\n",
    "\n",
    "- **Data Cleaning:** The process of identifying and correcting or removing errors, inconsistencies, and inaccuracies in a dataset.\n",
    "\n",
    "- **Data Visualization:** The graphical representation of data to communicate insights and patterns effectively.\n",
    "\n",
    "- **Custom Function:** A user-defined function created for a specific task, enhancing code reusability.\n",
    "\n",
    "- **Memory Management:** Strategies to allocate and deallocate memory resources efficiently.\n",
    "\n",
    "---\n",
    "\n",
    "This concludes the \"Useful Resources\" and \"Glossary\" sections. Congratulations on completing the Pandas handbook! You now have a comprehensive guide to using Pandas for data analysis in Python. Happy coding and data exploration!\n",
    "\n",
    "---\n",
    "\n",
    "### **14. General Workflow**\n",
    "\n",
    "\n",
    "**Chapter 1: Getting Started with Pandas**\n",
    "\n",
    "1. Load a CSV file into a DataFrame and display the first few rows.\n",
    "2. Calculate basic summary statistics for a numeric column.\n",
    "3. Filter rows based on a condition and display the result.\n",
    "\n",
    "**Chapter 2: Indexing and Selecting Data**\n",
    "\n",
    "1. Select specific rows and columns using both label-based and integer-based indexing.\n",
    "2. Create a boolean Series based on a condition and use it to filter rows.\n",
    "3. Set the index of a DataFrame and reset it.\n",
    "\n",
    "**Chapter 3: Data Cleaning and Preprocessing**\n",
    "\n",
    "1. Handle duplicate rows in a DataFrame.\n",
    "2. Detect and remove outliers from a dataset.\n",
    "3. Process text data by converting it to lowercase and removing punctuation.\n",
    "\n",
    "**Chapter 4: Data Visualization with Pandas**\n",
    "\n",
    "1. Create line, bar, and pie charts using sample data.\n",
    "2. Generate histograms and density plots for a numeric column.\n",
    "3. Create scatter and box plots to visualize relationships between variables.\n",
    "\n",
    "**Chapter 5: Data Aggregation and Grouping**\n",
    "\n",
    "1. Group data by a categorical variable and calculate aggregated statistics.\n",
    "2. Apply a custom aggregation function to grouped data.\n",
    "3. Perform data transformation and filtration within groups.\n",
    "\n",
    "**Chapter 6: Advanced Data Manipulation**\n",
    "\n",
    "1. Combine and reshape two DataFrames using merging and pivoting.\n",
    "2. Stack and unstack data to transform between wide and long formats.\n",
    "3. Perform melting and pivoting operations on a dataset.\n",
    "\n",
    "**Chapter 7: Working with Time Series Data**\n",
    "\n",
    "1. Handle time zone information in a time series dataset.\n",
    "2. Calculate time differences and perform shifting and lagging.\n",
    "3. Resample irregular time series data to a specific frequency.\n",
    "\n",
    "**Chapter 8: Performance Optimization**\n",
    "\n",
    "1. Perform vectorized operations on a large DataFrame.\n",
    "2. Optimize memory usage by adjusting data types.\n",
    "3. Enable parallel processing for a computation.\n",
    "\n",
    "**Chapter 9: Advanced Visualization**\n",
    "\n",
    "1. Create a 3D plot using sample data.\n",
    "2. Visualize geospatial data using a GeoDataFrame.\n",
    "3. Explore additional Matplotlib functionalities for advanced visualizations.\n",
    "\n",
    "\n",
    "\n",
    "### **15. Interactive Jupyter Notebooks**\n",
    "\n",
    "In this section, you'll find interactive Jupyter notebooks that provide a hands-on coding experience. These notebooks allow you to experiment with code examples, modify them, and see the results in real time. You can access the interactive notebooks online to further enhance your understanding of Pandas concepts.\n",
    "\n",
    "Here's a general outline of how you can set up interactive Jupyter notebooks:\n",
    "\n",
    "1. **Install Jupyter Notebook**: If you haven't already, install Jupyter Notebook by running the following command in your terminal or command prompt:\n",
    "\n",
    "   ```\n",
    "   pip install jupyterlab\n",
    "   ```\n",
    "\n",
    "2. **Launch Jupyter Notebook**: Open your terminal or command prompt and navigate to the directory where you want to create your notebooks. Then, run the following command to start Jupyter Notebook:\n",
    "\n",
    "   ```\n",
    "   jupyter notebook\n",
    "   ```\n",
    "\n",
    "   This will open Jupyter Notebook in your web browser.\n",
    "\n",
    "3. **Create a New Notebook**: In Jupyter Notebook, click the \"New\" button and select \"Python 3\" (or any available kernel). This will create a new notebook where you can write and execute Python code.\n",
    "\n",
    "4. **Add Interactive Content**: You can add interactive content to your notebook using various libraries. For example:\n",
    "\n",
    "   - To create interactive visualizations, you can use libraries like Matplotlib, Plotly, or Seaborn.\n",
    "   - To add interactive widgets, you can use the `ipywidgets` library.\n",
    "\n",
    "   Here's an example of how you can use `ipywidgets` to create an interactive slider:\n",
    "\n",
    "   ```python\n",
    "   import ipywidgets as widgets\n",
    "   from IPython.display import display\n",
    "\n",
    "   slider = widgets.IntSlider(value=5, min=0, max=10, step=1, description='Slider:')\n",
    "   display(slider)\n",
    "\n",
    "   def on_value_change(change):\n",
    "       print(\"New slider value:\", change['new'])\n",
    "\n",
    "   slider.observe(on_value_change, names='value')\n",
    "   ```\n",
    "\n",
    "5. **Run Code Cells**: Write your Python code in the notebook cells and run them by pressing Shift+Enter. You'll see the output directly below each cell.\n",
    "\n",
    "6. **Save and Share**: Save your notebook by clicking the \"Save\" button. You can download your notebook in various formats or share it with others.\n",
    "\n",
    "Remember that the above steps provide a general overview of creating interactive Jupyter notebooks. You can customize your notebooks with different libraries and interactive elements based on your needs.\n",
    "\n",
    "If you want to share interactive Jupyter notebooks online, you can use platforms like Jupyter Notebook Viewer (https://nbviewer.jupyter.org/) or Google Colab (https://colab.research.google.com/). These platforms allow you to upload and share notebooks with interactive content.\n",
    "\n",
    "Feel free to explore and experiment with the various options available to create interactive content in Jupyter notebooks.\n",
    "\n",
    "---\n",
    "\n",
    "Congratulations on completing the \"Handbook on Using Pandas in Python\"! We hope this comprehensive guide has equipped you with the knowledge and skills to effectively use Pandas for data analysis and manipulation. Feel free to explore the interactive examples and practice problems to deepen your expertise. Happy coding!\n",
    "\n",
    "---"
   ]
  }
 ],
 "metadata": {
  "kernelspec": {
   "display_name": "myenv",
   "language": "python",
   "name": "python3"
  },
  "language_info": {
   "codemirror_mode": {
    "name": "ipython",
    "version": 3
   },
   "file_extension": ".py",
   "mimetype": "text/x-python",
   "name": "python",
   "nbconvert_exporter": "python",
   "pygments_lexer": "ipython3",
   "version": "3.11.3"
  }
 },
 "nbformat": 4,
 "nbformat_minor": 5
}
