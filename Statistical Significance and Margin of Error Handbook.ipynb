{
 "cells": [
  {
   "cell_type": "markdown",
   "id": "8658b885",
   "metadata": {},
   "source": [
    "# Statistical Significance and Margin of Error Handbook\n",
    "\n",
    "## 1. Introduction\n",
    "The language of data, statistics, governs every research decision, from medical advancements to market research. This handbook aims to comprehensively unpack two foundational statistical concepts: **statistical significance** and **margin of error**. Their grasp is indispensable in inferential statistics, guiding professionals in making informed inferences about populations based on sample data.\n",
    "\n",
    "---\n",
    "\n",
    "## 2. Basics of Hypothesis Testing\n",
    "\n",
    "### **Null and Alternative Hypotheses:**\n",
    "- **Null Hypothesis ($H_0$)**: Suggests no effect or difference. It forms the foundation of any test of significance.\n",
    "- **Alternative Hypothesis ($H_a$ or $H_1$)**: Proposes the presence of an effect or difference.\n",
    "\n",
    "_Example_: For testing a drug's efficacy:\n",
    "- $H_0$: The drug doesn't affect the ailment.\n",
    "- $H_1$: The drug has an impact on the ailment.\n",
    "\n",
    "### **Type I and Type II Errors:**\n",
    "Mistakes happen, even in statistics. These errors represent the pitfalls of hypothesis testing:\n",
    "- **Type I Error (False Positive)**: Rejecting a true $H_0$.\n",
    "- **Type II Error (False Negative)**: Not rejecting a false $H_0$.\n",
    "\n",
    "### **Understanding p-value:**\n",
    "- **Definition**: The p-value measures the evidence against a null hypothesis. It calculates the probability of obtaining results as extreme (or more) than observed if $H_0$ were true.\n",
    "\n",
    "In Python, we can perform a t-test to determine p-value:"
   ]
  },
  {
   "cell_type": "code",
   "execution_count": 1,
   "id": "e879bd0e",
   "metadata": {},
   "outputs": [
    {
     "name": "stdout",
     "output_type": "stream",
     "text": [
      "p-value = 0.0865\n"
     ]
    }
   ],
   "source": [
    "import numpy as np\n",
    "from scipy.stats import ttest_ind\n",
    "\n",
    "# Generate data: Heights of two groups of people\n",
    "group_a = np.random.normal(170, 10, 100)\n",
    "group_b = np.random.normal(173, 10, 100)\n",
    "\n",
    "# Two-sample t-test\n",
    "t_stat, p_val = ttest_ind(group_a, group_b)\n",
    "\n",
    "print(f\"p-value = {p_val:.4f}\")"
   ]
  },
  {
   "cell_type": "markdown",
   "id": "0f8530a5",
   "metadata": {},
   "source": [
    "### **Visualization with Plotly**:\n",
    "Understanding distributions can be simplified using visual representations. Let's plot the generated data above:"
   ]
  },
  {
   "cell_type": "code",
   "execution_count": 2,
   "id": "9d73c14b",
   "metadata": {},
   "outputs": [
    {
     "data": {
      "application/vnd.plotly.v1+json": {
       "config": {
        "plotlyServerURL": "https://plot.ly"
       },
       "data": [
        {
         "name": "Group A",
         "opacity": 0.75,
         "type": "histogram",
         "x": [
          159.30907799321025,
          179.04766961787692,
          174.40520105357,
          162.18389346396074,
          168.97569600652577,
          162.73123118147046,
          157.5135389371044,
          186.94478881232033,
          165.35700259401273,
          165.33863946686813,
          168.20692338267241,
          172.2858173188938,
          184.51469703205703,
          183.68859365454097,
          175.23788674189237,
          170.1916805235808,
          163.27731953968333,
          150.18288320726845,
          188.43179528640732,
          182.10541875332956,
          180.8458149736006,
          173.6420863351392,
          171.60570649994995,
          173.49827876170454,
          164.5626895796392,
          163.35280555703847,
          170.32098893552816,
          168.57589593606252,
          164.7063823016078,
          163.33592528214047,
          165.6028196742269,
          155.55242642891298,
          159.16835759754704,
          161.84139638090247,
          172.5566594845658,
          160.6946310084444,
          175.3832848222564,
          161.5597532543737,
          148.27651164533185,
          169.86447814230948,
          185.3142078318853,
          179.88522462509252,
          175.1514073315775,
          162.81505277077372,
          171.7604943831077,
          171.11021680729635,
          167.91713667575863,
          179.26394982252046,
          160.82962019771804,
          164.32465516601354,
          175.27159849156172,
          148.69040146573695,
          175.0749406421115,
          163.04291071648933,
          177.53567130939697,
          161.73668382979312,
          163.0624494559962,
          158.3625809926979,
          159.47450094413884,
          165.18610399061828,
          162.18394970098396,
          165.80984762733,
          167.3236397373707,
          174.63844174278987,
          157.22070066224956,
          162.56014355922338,
          155.66069263305596,
          169.4888401733296,
          194.89614869879853,
          165.42661804224153,
          161.8806306078901,
          189.13768601878667,
          174.82890365476942,
          167.47352992874485,
          164.44134686523094,
          159.55352421747693,
          181.25783573631418,
          168.98718773480167,
          178.54693240571814,
          166.0608457496476,
          166.0948078534411,
          153.9259720874644,
          172.90400830723092,
          172.4671956706346,
          171.19713087783785,
          158.81507247688532,
          165.18461929161103,
          163.13523856072413,
          177.7933158560308,
          172.43064976214598,
          170.50550709071283,
          185.68486889751665,
          157.64196136972208,
          182.76198188158645,
          165.61292061035604,
          161.0160283820501,
          171.23156057573215,
          169.14373522228203,
          161.6913018150117,
          181.46895286983417
         ]
        },
        {
         "name": "Group B",
         "opacity": 0.75,
         "type": "histogram",
         "x": [
          181.066838259453,
          175.41389916290177,
          159.75356073898698,
          177.51961745562167,
          185.18617668903406,
          166.68101788050532,
          155.3272485166412,
          191.8708335037154,
          170.40855474030192,
          167.6663504105016,
          167.73852034977378,
          180.7760960741479,
          157.81103702327505,
          165.96274469916034,
          171.29550115927177,
          170.93883416644,
          168.31171724711706,
          163.7947897269507,
          163.86581989500883,
          182.8195495860387,
          157.48000172955207,
          159.5214177701388,
          154.95686765276946,
          165.38981517788605,
          177.14595541640853,
          163.04682653877933,
          184.8846229147172,
          165.7251378317188,
          168.10847477347585,
          177.14725227598333,
          164.25157275003295,
          157.033718338573,
          171.90280164857757,
          156.0287117790231,
          177.85893969776507,
          167.21362715321263,
          164.65684511315592,
          174.08093944192353,
          181.02975439646053,
          171.6082220792097,
          154.4868951937636,
          161.60787015392577,
          180.42051014470076,
          168.24955567927216,
          162.39583781161076,
          174.269395397849,
          183.83846298723054,
          160.99134453278222,
          167.60384176063306,
          179.12258624828257,
          173.69501965254798,
          159.45536468777144,
          188.0933372389087,
          162.77378908863116,
          161.00228000510145,
          164.3102770722652,
          152.14255825646345,
          172.83697161406593,
          183.06694918162975,
          178.85067114887647,
          169.74539746003708,
          165.5706581516513,
          165.5712910644052,
          176.09191626217063,
          164.99884980584034,
          175.00723400715725,
          164.52062325178352,
          168.03645289475367,
          174.6643979426039,
          182.34225084653795,
          168.3854116936796,
          167.79473256573056,
          177.02181718235138,
          169.41104935024907,
          176.1250770159831,
          166.83208110099898,
          184.83582513897926,
          165.4751029154335,
          170.70546229555748,
          183.33564140857075,
          161.32305441056985,
          175.09820408773604,
          172.068545017835,
          176.33148837304114,
          175.1564348386316,
          167.6906217498013,
          170.4606717212625,
          178.12777125933363,
          171.7648705225672,
          203.54882787219827,
          178.72618936091214,
          182.3421764563776,
          175.84085003376694,
          160.94393821494734,
          178.6711636744828,
          167.7666282301385,
          180.09073034077835,
          166.53629548719104,
          178.1065084283615,
          171.9628122765358
         ]
        }
       ],
       "layout": {
        "barmode": "overlay",
        "template": {
         "data": {
          "bar": [
           {
            "error_x": {
             "color": "#2a3f5f"
            },
            "error_y": {
             "color": "#2a3f5f"
            },
            "marker": {
             "line": {
              "color": "#E5ECF6",
              "width": 0.5
             },
             "pattern": {
              "fillmode": "overlay",
              "size": 10,
              "solidity": 0.2
             }
            },
            "type": "bar"
           }
          ],
          "barpolar": [
           {
            "marker": {
             "line": {
              "color": "#E5ECF6",
              "width": 0.5
             },
             "pattern": {
              "fillmode": "overlay",
              "size": 10,
              "solidity": 0.2
             }
            },
            "type": "barpolar"
           }
          ],
          "carpet": [
           {
            "aaxis": {
             "endlinecolor": "#2a3f5f",
             "gridcolor": "white",
             "linecolor": "white",
             "minorgridcolor": "white",
             "startlinecolor": "#2a3f5f"
            },
            "baxis": {
             "endlinecolor": "#2a3f5f",
             "gridcolor": "white",
             "linecolor": "white",
             "minorgridcolor": "white",
             "startlinecolor": "#2a3f5f"
            },
            "type": "carpet"
           }
          ],
          "choropleth": [
           {
            "colorbar": {
             "outlinewidth": 0,
             "ticks": ""
            },
            "type": "choropleth"
           }
          ],
          "contour": [
           {
            "colorbar": {
             "outlinewidth": 0,
             "ticks": ""
            },
            "colorscale": [
             [
              0,
              "#0d0887"
             ],
             [
              0.1111111111111111,
              "#46039f"
             ],
             [
              0.2222222222222222,
              "#7201a8"
             ],
             [
              0.3333333333333333,
              "#9c179e"
             ],
             [
              0.4444444444444444,
              "#bd3786"
             ],
             [
              0.5555555555555556,
              "#d8576b"
             ],
             [
              0.6666666666666666,
              "#ed7953"
             ],
             [
              0.7777777777777778,
              "#fb9f3a"
             ],
             [
              0.8888888888888888,
              "#fdca26"
             ],
             [
              1,
              "#f0f921"
             ]
            ],
            "type": "contour"
           }
          ],
          "contourcarpet": [
           {
            "colorbar": {
             "outlinewidth": 0,
             "ticks": ""
            },
            "type": "contourcarpet"
           }
          ],
          "heatmap": [
           {
            "colorbar": {
             "outlinewidth": 0,
             "ticks": ""
            },
            "colorscale": [
             [
              0,
              "#0d0887"
             ],
             [
              0.1111111111111111,
              "#46039f"
             ],
             [
              0.2222222222222222,
              "#7201a8"
             ],
             [
              0.3333333333333333,
              "#9c179e"
             ],
             [
              0.4444444444444444,
              "#bd3786"
             ],
             [
              0.5555555555555556,
              "#d8576b"
             ],
             [
              0.6666666666666666,
              "#ed7953"
             ],
             [
              0.7777777777777778,
              "#fb9f3a"
             ],
             [
              0.8888888888888888,
              "#fdca26"
             ],
             [
              1,
              "#f0f921"
             ]
            ],
            "type": "heatmap"
           }
          ],
          "heatmapgl": [
           {
            "colorbar": {
             "outlinewidth": 0,
             "ticks": ""
            },
            "colorscale": [
             [
              0,
              "#0d0887"
             ],
             [
              0.1111111111111111,
              "#46039f"
             ],
             [
              0.2222222222222222,
              "#7201a8"
             ],
             [
              0.3333333333333333,
              "#9c179e"
             ],
             [
              0.4444444444444444,
              "#bd3786"
             ],
             [
              0.5555555555555556,
              "#d8576b"
             ],
             [
              0.6666666666666666,
              "#ed7953"
             ],
             [
              0.7777777777777778,
              "#fb9f3a"
             ],
             [
              0.8888888888888888,
              "#fdca26"
             ],
             [
              1,
              "#f0f921"
             ]
            ],
            "type": "heatmapgl"
           }
          ],
          "histogram": [
           {
            "marker": {
             "pattern": {
              "fillmode": "overlay",
              "size": 10,
              "solidity": 0.2
             }
            },
            "type": "histogram"
           }
          ],
          "histogram2d": [
           {
            "colorbar": {
             "outlinewidth": 0,
             "ticks": ""
            },
            "colorscale": [
             [
              0,
              "#0d0887"
             ],
             [
              0.1111111111111111,
              "#46039f"
             ],
             [
              0.2222222222222222,
              "#7201a8"
             ],
             [
              0.3333333333333333,
              "#9c179e"
             ],
             [
              0.4444444444444444,
              "#bd3786"
             ],
             [
              0.5555555555555556,
              "#d8576b"
             ],
             [
              0.6666666666666666,
              "#ed7953"
             ],
             [
              0.7777777777777778,
              "#fb9f3a"
             ],
             [
              0.8888888888888888,
              "#fdca26"
             ],
             [
              1,
              "#f0f921"
             ]
            ],
            "type": "histogram2d"
           }
          ],
          "histogram2dcontour": [
           {
            "colorbar": {
             "outlinewidth": 0,
             "ticks": ""
            },
            "colorscale": [
             [
              0,
              "#0d0887"
             ],
             [
              0.1111111111111111,
              "#46039f"
             ],
             [
              0.2222222222222222,
              "#7201a8"
             ],
             [
              0.3333333333333333,
              "#9c179e"
             ],
             [
              0.4444444444444444,
              "#bd3786"
             ],
             [
              0.5555555555555556,
              "#d8576b"
             ],
             [
              0.6666666666666666,
              "#ed7953"
             ],
             [
              0.7777777777777778,
              "#fb9f3a"
             ],
             [
              0.8888888888888888,
              "#fdca26"
             ],
             [
              1,
              "#f0f921"
             ]
            ],
            "type": "histogram2dcontour"
           }
          ],
          "mesh3d": [
           {
            "colorbar": {
             "outlinewidth": 0,
             "ticks": ""
            },
            "type": "mesh3d"
           }
          ],
          "parcoords": [
           {
            "line": {
             "colorbar": {
              "outlinewidth": 0,
              "ticks": ""
             }
            },
            "type": "parcoords"
           }
          ],
          "pie": [
           {
            "automargin": true,
            "type": "pie"
           }
          ],
          "scatter": [
           {
            "fillpattern": {
             "fillmode": "overlay",
             "size": 10,
             "solidity": 0.2
            },
            "type": "scatter"
           }
          ],
          "scatter3d": [
           {
            "line": {
             "colorbar": {
              "outlinewidth": 0,
              "ticks": ""
             }
            },
            "marker": {
             "colorbar": {
              "outlinewidth": 0,
              "ticks": ""
             }
            },
            "type": "scatter3d"
           }
          ],
          "scattercarpet": [
           {
            "marker": {
             "colorbar": {
              "outlinewidth": 0,
              "ticks": ""
             }
            },
            "type": "scattercarpet"
           }
          ],
          "scattergeo": [
           {
            "marker": {
             "colorbar": {
              "outlinewidth": 0,
              "ticks": ""
             }
            },
            "type": "scattergeo"
           }
          ],
          "scattergl": [
           {
            "marker": {
             "colorbar": {
              "outlinewidth": 0,
              "ticks": ""
             }
            },
            "type": "scattergl"
           }
          ],
          "scattermapbox": [
           {
            "marker": {
             "colorbar": {
              "outlinewidth": 0,
              "ticks": ""
             }
            },
            "type": "scattermapbox"
           }
          ],
          "scatterpolar": [
           {
            "marker": {
             "colorbar": {
              "outlinewidth": 0,
              "ticks": ""
             }
            },
            "type": "scatterpolar"
           }
          ],
          "scatterpolargl": [
           {
            "marker": {
             "colorbar": {
              "outlinewidth": 0,
              "ticks": ""
             }
            },
            "type": "scatterpolargl"
           }
          ],
          "scatterternary": [
           {
            "marker": {
             "colorbar": {
              "outlinewidth": 0,
              "ticks": ""
             }
            },
            "type": "scatterternary"
           }
          ],
          "surface": [
           {
            "colorbar": {
             "outlinewidth": 0,
             "ticks": ""
            },
            "colorscale": [
             [
              0,
              "#0d0887"
             ],
             [
              0.1111111111111111,
              "#46039f"
             ],
             [
              0.2222222222222222,
              "#7201a8"
             ],
             [
              0.3333333333333333,
              "#9c179e"
             ],
             [
              0.4444444444444444,
              "#bd3786"
             ],
             [
              0.5555555555555556,
              "#d8576b"
             ],
             [
              0.6666666666666666,
              "#ed7953"
             ],
             [
              0.7777777777777778,
              "#fb9f3a"
             ],
             [
              0.8888888888888888,
              "#fdca26"
             ],
             [
              1,
              "#f0f921"
             ]
            ],
            "type": "surface"
           }
          ],
          "table": [
           {
            "cells": {
             "fill": {
              "color": "#EBF0F8"
             },
             "line": {
              "color": "white"
             }
            },
            "header": {
             "fill": {
              "color": "#C8D4E3"
             },
             "line": {
              "color": "white"
             }
            },
            "type": "table"
           }
          ]
         },
         "layout": {
          "annotationdefaults": {
           "arrowcolor": "#2a3f5f",
           "arrowhead": 0,
           "arrowwidth": 1
          },
          "autotypenumbers": "strict",
          "coloraxis": {
           "colorbar": {
            "outlinewidth": 0,
            "ticks": ""
           }
          },
          "colorscale": {
           "diverging": [
            [
             0,
             "#8e0152"
            ],
            [
             0.1,
             "#c51b7d"
            ],
            [
             0.2,
             "#de77ae"
            ],
            [
             0.3,
             "#f1b6da"
            ],
            [
             0.4,
             "#fde0ef"
            ],
            [
             0.5,
             "#f7f7f7"
            ],
            [
             0.6,
             "#e6f5d0"
            ],
            [
             0.7,
             "#b8e186"
            ],
            [
             0.8,
             "#7fbc41"
            ],
            [
             0.9,
             "#4d9221"
            ],
            [
             1,
             "#276419"
            ]
           ],
           "sequential": [
            [
             0,
             "#0d0887"
            ],
            [
             0.1111111111111111,
             "#46039f"
            ],
            [
             0.2222222222222222,
             "#7201a8"
            ],
            [
             0.3333333333333333,
             "#9c179e"
            ],
            [
             0.4444444444444444,
             "#bd3786"
            ],
            [
             0.5555555555555556,
             "#d8576b"
            ],
            [
             0.6666666666666666,
             "#ed7953"
            ],
            [
             0.7777777777777778,
             "#fb9f3a"
            ],
            [
             0.8888888888888888,
             "#fdca26"
            ],
            [
             1,
             "#f0f921"
            ]
           ],
           "sequentialminus": [
            [
             0,
             "#0d0887"
            ],
            [
             0.1111111111111111,
             "#46039f"
            ],
            [
             0.2222222222222222,
             "#7201a8"
            ],
            [
             0.3333333333333333,
             "#9c179e"
            ],
            [
             0.4444444444444444,
             "#bd3786"
            ],
            [
             0.5555555555555556,
             "#d8576b"
            ],
            [
             0.6666666666666666,
             "#ed7953"
            ],
            [
             0.7777777777777778,
             "#fb9f3a"
            ],
            [
             0.8888888888888888,
             "#fdca26"
            ],
            [
             1,
             "#f0f921"
            ]
           ]
          },
          "colorway": [
           "#636efa",
           "#EF553B",
           "#00cc96",
           "#ab63fa",
           "#FFA15A",
           "#19d3f3",
           "#FF6692",
           "#B6E880",
           "#FF97FF",
           "#FECB52"
          ],
          "font": {
           "color": "#2a3f5f"
          },
          "geo": {
           "bgcolor": "white",
           "lakecolor": "white",
           "landcolor": "#E5ECF6",
           "showlakes": true,
           "showland": true,
           "subunitcolor": "white"
          },
          "hoverlabel": {
           "align": "left"
          },
          "hovermode": "closest",
          "mapbox": {
           "style": "light"
          },
          "paper_bgcolor": "white",
          "plot_bgcolor": "#E5ECF6",
          "polar": {
           "angularaxis": {
            "gridcolor": "white",
            "linecolor": "white",
            "ticks": ""
           },
           "bgcolor": "#E5ECF6",
           "radialaxis": {
            "gridcolor": "white",
            "linecolor": "white",
            "ticks": ""
           }
          },
          "scene": {
           "xaxis": {
            "backgroundcolor": "#E5ECF6",
            "gridcolor": "white",
            "gridwidth": 2,
            "linecolor": "white",
            "showbackground": true,
            "ticks": "",
            "zerolinecolor": "white"
           },
           "yaxis": {
            "backgroundcolor": "#E5ECF6",
            "gridcolor": "white",
            "gridwidth": 2,
            "linecolor": "white",
            "showbackground": true,
            "ticks": "",
            "zerolinecolor": "white"
           },
           "zaxis": {
            "backgroundcolor": "#E5ECF6",
            "gridcolor": "white",
            "gridwidth": 2,
            "linecolor": "white",
            "showbackground": true,
            "ticks": "",
            "zerolinecolor": "white"
           }
          },
          "shapedefaults": {
           "line": {
            "color": "#2a3f5f"
           }
          },
          "ternary": {
           "aaxis": {
            "gridcolor": "white",
            "linecolor": "white",
            "ticks": ""
           },
           "baxis": {
            "gridcolor": "white",
            "linecolor": "white",
            "ticks": ""
           },
           "bgcolor": "#E5ECF6",
           "caxis": {
            "gridcolor": "white",
            "linecolor": "white",
            "ticks": ""
           }
          },
          "title": {
           "x": 0.05
          },
          "xaxis": {
           "automargin": true,
           "gridcolor": "white",
           "linecolor": "white",
           "ticks": "",
           "title": {
            "standoff": 15
           },
           "zerolinecolor": "white",
           "zerolinewidth": 2
          },
          "yaxis": {
           "automargin": true,
           "gridcolor": "white",
           "linecolor": "white",
           "ticks": "",
           "title": {
            "standoff": 15
           },
           "zerolinecolor": "white",
           "zerolinewidth": 2
          }
         }
        },
        "title": {
         "text": "p-value: 0.0865"
        }
       }
      }
     },
     "metadata": {},
     "output_type": "display_data"
    }
   ],
   "source": [
    "import plotly.graph_objects as go\n",
    "\n",
    "fig = go.Figure()\n",
    "\n",
    "fig.add_trace(go.Histogram(x=group_a, name='Group A', opacity=0.75))\n",
    "fig.add_trace(go.Histogram(x=group_b, name='Group B', opacity=0.75))\n",
    "\n",
    "fig.update_layout(barmode='overlay', title=f\"p-value: {p_val:.4f}\")\n",
    "fig.show()"
   ]
  },
  {
   "cell_type": "markdown",
   "id": "5152978b",
   "metadata": {},
   "source": [
    "This interactive histogram allows one to see the distributions of the two groups and how they overlap.\n",
    "\n",
    "---\n",
    "\n",
    "## 3. Statistical Significance\n",
    "\n",
    "The golden standard in most research fields for statistical significance is a p-value of less than 0.05. However, it's essential to understand the context:\n",
    "\n",
    "- **Statistical vs. Practical Significance**: A finding might be statistically significant but may not have practical implications.\n",
    "\n",
    "### Methods of Determining Statistical Significance:\n",
    "\n",
    "1. **Traditional methods**: \n",
    "   - **T-tests**: Used for comparing means.\n",
    "   - **Chi-square tests**: Used for categorical data.\n",
    "2. **Modern methods**:\n",
    "   - **Bootstrap resampling**: Uses repeated sampling to determine significance.\n",
    "   - **Permutation tests**: Randomly reallocates data to determine null distribution.\n",
    "\n",
    "| Method            | Strengths                                     | Weaknesses                               | Use Cases                                  |\n",
    "|-------------------|-----------------------------------------------|------------------------------------------|--------------------------------------------|\n",
    "| T-test            | Simple, widely accepted                       | Assumes normality                        | Comparing two group means                  |\n",
    "| Chi-square        | Useful for categorical data                   | Requires sufficiently large sample size | Association between two categorical variables |\n",
    "| Bootstrap         | Doesn't assume underlying distribution        | Computationally intensive                | When data isn't normally distributed       |\n",
    "| Permutation tests | Doesn't assume random sampling                | Computationally intensive                | Testing randomness or chance               |\n",
    "\n",
    "Absolutely! Let's continue the handbook.\n",
    "\n",
    "---\n",
    "\n",
    "## 4. Confidence Intervals\n",
    "\n",
    "### **Definition**\n",
    "A confidence interval (CI) offers a range within which the true population parameter is expected to lie with a certain level of confidence.\n",
    "\n",
    "_Example_: If we state that the average height of men in New Zealand is 173 cm ± 2 cm with a 95% confidence interval, we imply that we're 95% certain the actual average height lies between 171 and 175 cm.\n",
    "\n",
    "### **Calculating Confidence Intervals**\n",
    "\n",
    "- For **means**:\n",
    "  \n",
    "  The formula for the confidence interval for means is:\n",
    "\n",
    "$$ \\bar{X} \\pm Z \\left( \\frac{\\sigma}{\\sqrt{n}} \\right) $$ \n",
    "\n",
    "  Where:\n",
    "  - $ \\bar{X} $ = Sample mean\n",
    "  - $ Z $ = Z-score (from Z-table based on desired confidence level)\n",
    "  - $ \\sigma $ = Population standard deviation\n",
    "  - $ n $ = Sample size\n",
    "\n",
    "- For **proportions**:\n",
    "  \n",
    "  The formula is:\n",
    "\n",
    "  $ p \\pm Z \\sqrt{ \\frac{p(1-p)}{n} } $\n",
    "\n",
    "  Where:\n",
    "  - $ p $ = Sample proportion\n",
    "  - $ n $ = Sample size"
   ]
  },
  {
   "cell_type": "markdown",
   "id": "c3d3652f",
   "metadata": {},
   "source": [
    "\n",
    "\n",
    "### Confidence Intervals Visualization: Titanic and Tips Datasets\n",
    "\n",
    "### Overview\n",
    "Confidence intervals (CIs) offer a range within which a population parameter, such as the mean, is likely to fall. A 95% confidence interval means we are 95% confident that the true population mean lies within the interval.\n",
    "\n",
    "The following visualizations demonstrate the confidence intervals for two different datasets using both histograms and kernel density estimation (KDE) plots.\n",
    "\n",
    "---\n",
    "\n",
    "### 1. Titanic Dataset: Fare Distribution with 95% Confidence Interval\n",
    "\n",
    "The `titanic` dataset contains a variety of information about passengers on the Titanic, including fares they paid for their tickets. We will visualize the distribution of fares and overlay the 95% confidence interval for the mean fare."
   ]
  },
  {
   "cell_type": "code",
   "execution_count": 6,
   "id": "059e928f",
   "metadata": {},
   "outputs": [
    {
     "data": {
      "application/vnd.plotly.v1+json": {
       "config": {
        "plotlyServerURL": "https://plot.ly"
       },
       "data": [
        {
         "histnorm": "percent",
         "name": "Fares",
         "nbinsx": 50,
         "opacity": 0.5,
         "type": "histogram",
         "x": [
          7.25,
          71.2833,
          7.925,
          53.1,
          8.05,
          8.4583,
          51.8625,
          21.075,
          11.1333,
          30.0708,
          16.7,
          26.55,
          8.05,
          31.275,
          7.8542,
          16,
          29.125,
          13,
          18,
          7.225,
          26,
          13,
          8.0292,
          35.5,
          21.075,
          31.3875,
          7.225,
          263,
          7.8792,
          7.8958,
          27.7208,
          146.5208,
          7.75,
          10.5,
          82.1708,
          52,
          7.2292,
          8.05,
          18,
          11.2417,
          9.475,
          21,
          7.8958,
          41.5792,
          7.8792,
          8.05,
          15.5,
          7.75,
          21.6792,
          17.8,
          39.6875,
          7.8,
          76.7292,
          26,
          61.9792,
          35.5,
          10.5,
          7.2292,
          27.75,
          46.9,
          7.2292,
          80,
          83.475,
          27.9,
          27.7208,
          15.2458,
          10.5,
          8.1583,
          7.925,
          8.6625,
          10.5,
          46.9,
          73.5,
          14.4542,
          56.4958,
          7.65,
          7.8958,
          8.05,
          29,
          12.475,
          9,
          9.5,
          7.7875,
          47.1,
          10.5,
          15.85,
          34.375,
          8.05,
          263,
          8.05,
          8.05,
          7.8542,
          61.175,
          20.575,
          7.25,
          8.05,
          34.6542,
          63.3583,
          23,
          26,
          7.8958,
          7.8958,
          77.2875,
          8.6542,
          7.925,
          7.8958,
          7.65,
          7.775,
          7.8958,
          24.15,
          52,
          14.4542,
          8.05,
          9.825,
          14.4583,
          7.925,
          7.75,
          21,
          247.5208,
          31.275,
          73.5,
          8.05,
          30.0708,
          13,
          77.2875,
          11.2417,
          7.75,
          7.1417,
          22.3583,
          6.975,
          7.8958,
          7.05,
          14.5,
          26,
          13,
          15.0458,
          26.2833,
          53.1,
          9.2167,
          79.2,
          15.2458,
          7.75,
          15.85,
          6.75,
          11.5,
          36.75,
          7.7958,
          34.375,
          26,
          13,
          12.525,
          66.6,
          8.05,
          14.5,
          7.3125,
          61.3792,
          7.7333,
          8.05,
          8.6625,
          69.55,
          16.1,
          15.75,
          7.775,
          8.6625,
          39.6875,
          20.525,
          55,
          27.9,
          25.925,
          56.4958,
          33.5,
          29.125,
          11.1333,
          7.925,
          30.6958,
          7.8542,
          25.4667,
          28.7125,
          13,
          0,
          69.55,
          15.05,
          31.3875,
          39,
          22.025,
          50,
          15.5,
          26.55,
          15.5,
          7.8958,
          13,
          13,
          7.8542,
          26,
          27.7208,
          146.5208,
          7.75,
          8.4042,
          7.75,
          13,
          9.5,
          69.55,
          6.4958,
          7.225,
          8.05,
          10.4625,
          15.85,
          18.7875,
          7.75,
          31,
          7.05,
          21,
          7.25,
          13,
          7.75,
          113.275,
          7.925,
          27,
          76.2917,
          10.5,
          8.05,
          13,
          8.05,
          7.8958,
          90,
          9.35,
          10.5,
          7.25,
          13,
          25.4667,
          83.475,
          7.775,
          13.5,
          31.3875,
          10.5,
          7.55,
          26,
          26.25,
          10.5,
          12.275,
          14.4542,
          15.5,
          10.5,
          7.125,
          7.225,
          90,
          7.775,
          14.5,
          52.5542,
          26,
          7.25,
          10.4625,
          26.55,
          16.1,
          20.2125,
          15.2458,
          79.2,
          86.5,
          512.3292,
          26,
          7.75,
          31.3875,
          79.65,
          0,
          7.75,
          10.5,
          39.6875,
          7.775,
          153.4625,
          135.6333,
          31,
          0,
          19.5,
          29.7,
          7.75,
          77.9583,
          7.75,
          0,
          29.125,
          20.25,
          7.75,
          7.8542,
          9.5,
          8.05,
          26,
          8.6625,
          9.5,
          7.8958,
          13,
          7.75,
          78.85,
          91.0792,
          12.875,
          8.85,
          7.8958,
          27.7208,
          7.2292,
          151.55,
          30.5,
          247.5208,
          7.75,
          23.25,
          0,
          12.35,
          8.05,
          151.55,
          110.8833,
          108.9,
          24,
          56.9292,
          83.1583,
          262.375,
          26,
          7.8958,
          26.25,
          7.8542,
          26,
          14,
          164.8667,
          134.5,
          7.25,
          7.8958,
          12.35,
          29,
          69.55,
          135.6333,
          6.2375,
          13,
          20.525,
          57.9792,
          23.25,
          28.5,
          153.4625,
          18,
          133.65,
          7.8958,
          66.6,
          134.5,
          8.05,
          35.5,
          26,
          263,
          13,
          13,
          13,
          13,
          13,
          16.1,
          15.9,
          8.6625,
          9.225,
          35,
          7.2292,
          17.8,
          7.225,
          9.5,
          55,
          13,
          7.8792,
          7.8792,
          27.9,
          27.7208,
          14.4542,
          7.05,
          15.5,
          7.25,
          75.25,
          7.2292,
          7.75,
          69.3,
          55.4417,
          6.4958,
          8.05,
          135.6333,
          21.075,
          82.1708,
          7.25,
          211.5,
          4.0125,
          7.775,
          227.525,
          15.7417,
          7.925,
          52,
          7.8958,
          73.5,
          46.9,
          13,
          7.7292,
          12,
          120,
          7.7958,
          7.925,
          113.275,
          16.7,
          7.7958,
          7.8542,
          26,
          10.5,
          12.65,
          7.925,
          8.05,
          9.825,
          15.85,
          8.6625,
          21,
          7.75,
          18.75,
          7.775,
          25.4667,
          7.8958,
          6.8583,
          90,
          0,
          7.925,
          8.05,
          32.5,
          13,
          13,
          24.15,
          7.8958,
          7.7333,
          7.875,
          14.4,
          20.2125,
          7.25,
          26,
          26,
          7.75,
          8.05,
          26.55,
          16.1,
          26,
          7.125,
          55.9,
          120,
          34.375,
          18.75,
          263,
          10.5,
          26.25,
          9.5,
          7.775,
          13,
          8.1125,
          81.8583,
          19.5,
          26.55,
          19.2583,
          30.5,
          27.75,
          19.9667,
          27.75,
          89.1042,
          8.05,
          7.8958,
          26.55,
          51.8625,
          10.5,
          7.75,
          26.55,
          8.05,
          38.5,
          13,
          8.05,
          7.05,
          0,
          26.55,
          7.725,
          19.2583,
          7.25,
          8.6625,
          27.75,
          13.7917,
          9.8375,
          52,
          21,
          7.0458,
          7.5208,
          12.2875,
          46.9,
          0,
          8.05,
          9.5875,
          91.0792,
          25.4667,
          90,
          29.7,
          8.05,
          15.9,
          19.9667,
          7.25,
          30.5,
          49.5042,
          8.05,
          14.4583,
          78.2667,
          15.1,
          151.55,
          7.7958,
          8.6625,
          7.75,
          7.6292,
          9.5875,
          86.5,
          108.9,
          26,
          26.55,
          22.525,
          56.4958,
          7.75,
          8.05,
          26.2875,
          59.4,
          7.4958,
          34.0208,
          10.5,
          24.15,
          26,
          7.8958,
          93.5,
          7.8958,
          7.225,
          57.9792,
          7.2292,
          7.75,
          10.5,
          221.7792,
          7.925,
          11.5,
          26,
          7.2292,
          7.2292,
          22.3583,
          8.6625,
          26.25,
          26.55,
          106.425,
          14.5,
          49.5,
          71,
          31.275,
          31.275,
          26,
          106.425,
          26,
          26,
          13.8625,
          20.525,
          36.75,
          110.8833,
          26,
          7.8292,
          7.225,
          7.775,
          26.55,
          39.6,
          227.525,
          79.65,
          17.4,
          7.75,
          7.8958,
          13.5,
          8.05,
          8.05,
          24.15,
          7.8958,
          21.075,
          7.2292,
          7.8542,
          10.5,
          51.4792,
          26.3875,
          7.75,
          8.05,
          14.5,
          13,
          55.9,
          14.4583,
          7.925,
          30,
          110.8833,
          26,
          40.125,
          8.7125,
          79.65,
          15,
          79.2,
          8.05,
          8.05,
          7.125,
          78.2667,
          7.25,
          7.75,
          26,
          24.15,
          33,
          0,
          7.225,
          56.9292,
          27,
          7.8958,
          42.4,
          8.05,
          26.55,
          15.55,
          7.8958,
          30.5,
          41.5792,
          153.4625,
          31.275,
          7.05,
          15.5,
          7.75,
          8.05,
          65,
          14.4,
          16.1,
          39,
          10.5,
          14.4542,
          52.5542,
          15.7417,
          7.8542,
          16.1,
          32.3208,
          12.35,
          77.9583,
          7.8958,
          7.7333,
          30,
          7.0542,
          30.5,
          0,
          27.9,
          13,
          7.925,
          26.25,
          39.6875,
          16.1,
          7.8542,
          69.3,
          27.9,
          56.4958,
          19.2583,
          76.7292,
          7.8958,
          35.5,
          7.55,
          7.55,
          7.8958,
          23,
          8.4333,
          7.8292,
          6.75,
          73.5,
          7.8958,
          15.5,
          13,
          113.275,
          133.65,
          7.225,
          25.5875,
          7.4958,
          7.925,
          73.5,
          13,
          7.775,
          8.05,
          52,
          39,
          52,
          10.5,
          13,
          0,
          7.775,
          8.05,
          9.8417,
          46.9,
          512.3292,
          8.1375,
          76.7292,
          9.225,
          46.9,
          39,
          41.5792,
          39.6875,
          10.1708,
          7.7958,
          211.3375,
          57,
          13.4167,
          56.4958,
          7.225,
          26.55,
          13.5,
          8.05,
          7.7333,
          110.8833,
          7.65,
          227.525,
          26.2875,
          14.4542,
          7.7417,
          7.8542,
          26,
          13.5,
          26.2875,
          151.55,
          15.2458,
          49.5042,
          26.55,
          52,
          9.4833,
          13,
          7.65,
          227.525,
          10.5,
          15.5,
          7.775,
          33,
          7.0542,
          13,
          13,
          53.1,
          8.6625,
          21,
          7.7375,
          26,
          7.925,
          211.3375,
          18.7875,
          0,
          13,
          13,
          16.1,
          34.375,
          512.3292,
          7.8958,
          7.8958,
          30,
          78.85,
          262.375,
          16.1,
          7.925,
          71,
          20.25,
          13,
          53.1,
          7.75,
          23,
          12.475,
          9.5,
          7.8958,
          65,
          14.5,
          7.7958,
          11.5,
          8.05,
          86.5,
          14.5,
          7.125,
          7.2292,
          120,
          7.775,
          77.9583,
          39.6,
          7.75,
          24.15,
          8.3625,
          9.5,
          7.8542,
          10.5,
          7.225,
          23,
          7.75,
          7.75,
          12.475,
          7.7375,
          211.3375,
          7.2292,
          57,
          30,
          23.45,
          7.05,
          7.25,
          7.4958,
          29.125,
          20.575,
          79.2,
          7.75,
          26,
          69.55,
          30.6958,
          7.8958,
          13,
          25.9292,
          8.6833,
          7.2292,
          24.15,
          13,
          26.25,
          120,
          8.5167,
          6.975,
          7.775,
          0,
          7.775,
          13,
          53.1,
          7.8875,
          24.15,
          10.5,
          31.275,
          8.05,
          0,
          7.925,
          37.0042,
          6.45,
          27.9,
          93.5,
          8.6625,
          0,
          12.475,
          39.6875,
          6.95,
          56.4958,
          37.0042,
          7.75,
          80,
          14.4542,
          18.75,
          7.2292,
          7.8542,
          8.3,
          83.1583,
          8.6625,
          8.05,
          56.4958,
          29.7,
          7.925,
          10.5,
          31,
          6.4375,
          8.6625,
          7.55,
          69.55,
          7.8958,
          33,
          89.1042,
          31.275,
          7.775,
          15.2458,
          39.4,
          26,
          9.35,
          164.8667,
          26.55,
          19.2583,
          7.2292,
          14.1083,
          11.5,
          25.9292,
          69.55,
          13,
          13,
          13.8583,
          50.4958,
          9.5,
          11.1333,
          7.8958,
          52.5542,
          5,
          9,
          24,
          7.225,
          9.8458,
          7.8958,
          7.8958,
          83.1583,
          26,
          7.8958,
          10.5167,
          10.5,
          7.05,
          29.125,
          13,
          30,
          23.45,
          30,
          7.75
         ]
        },
        {
         "line": {
          "color": "blue",
          "width": 1.5
         },
         "mode": "lines",
         "name": "Density",
         "type": "scatter",
         "x": [
          0,
          5.175042424242425,
          10.35008484848485,
          15.525127272727275,
          20.7001696969697,
          25.875212121212122,
          31.05025454545455,
          36.22529696969697,
          41.4003393939394,
          46.575381818181825,
          51.750424242424245,
          56.92546666666667,
          62.1005090909091,
          67.27555151515152,
          72.45059393939394,
          77.62563636363637,
          82.8006787878788,
          87.97572121212121,
          93.15076363636365,
          98.32580606060607,
          103.50084848484849,
          108.67589090909092,
          113.85093333333334,
          119.02597575757576,
          124.2010181818182,
          129.3760606060606,
          134.55110303030304,
          139.72614545454547,
          144.90118787878788,
          150.07623030303031,
          155.25127272727275,
          160.42631515151515,
          165.6013575757576,
          170.77640000000002,
          175.95144242424243,
          181.12648484848486,
          186.3015272727273,
          191.4765696969697,
          196.65161212121214,
          201.82665454545457,
          207.00169696969698,
          212.1767393939394,
          217.35178181818185,
          222.52682424242425,
          227.7018666666667,
          232.87690909090912,
          238.05195151515153,
          243.22699393939396,
          248.4020363636364,
          253.5770787878788,
          258.7521212121212,
          263.9271636363637,
          269.1022060606061,
          274.2772484848485,
          279.45229090909095,
          284.62733333333335,
          289.80237575757576,
          294.9774181818182,
          300.15246060606063,
          305.32750303030303,
          310.5025454545455,
          315.6775878787879,
          320.8526303030303,
          326.0276727272728,
          331.2027151515152,
          336.3777575757576,
          341.55280000000005,
          346.72784242424245,
          351.90288484848486,
          357.0779272727273,
          362.2529696969697,
          367.42801212121213,
          372.6030545454546,
          377.778096969697,
          382.9531393939394,
          388.1281818181819,
          393.3032242424243,
          398.4782666666667,
          403.65330909090915,
          408.82835151515155,
          414.00339393939396,
          419.1784363636364,
          424.3534787878788,
          429.52852121212123,
          434.7035636363637,
          439.8786060606061,
          445.0536484848485,
          450.228690909091,
          455.4037333333334,
          460.5787757575758,
          465.75381818181825,
          470.92886060606065,
          476.10390303030306,
          481.2789454545455,
          486.4539878787879,
          491.62903030303033,
          496.8040727272728,
          501.9791151515152,
          507.1541575757576,
          512.3292
         ],
         "y": [
          1.409776163163583,
          1.8016607153097017,
          2.0210307826253278,
          2.0146919808064827,
          1.8139172043601655,
          1.5035971844441478,
          1.1714866849727545,
          0.8770977980732262,
          0.6479009473153609,
          0.4876664502628386,
          0.3856246342607892,
          0.32501792052994816,
          0.2901972055841724,
          0.2693961293671283,
          0.25344670190144614,
          0.23459720033764947,
          0.20807858516829186,
          0.17444500691286446,
          0.1391952123075207,
          0.10908545857840932,
          0.08794532405832141,
          0.07516881851396306,
          0.06750369845317909,
          0.062010118703544524,
          0.05760509004530759,
          0.05450798935844439,
          0.052875655659966554,
          0.0520550915646087,
          0.05074106831457869,
          0.04758895981763976,
          0.041880964802292094,
          0.033944951690916526,
          0.02503847562142066,
          0.016731427549506565,
          0.010245941787428846,
          0.006190505825310811,
          0.004702418519848004,
          0.005685748366930661,
          0.008861037726914137,
          0.013622705570910096,
          0.01895390802572184,
          0.02361612282585282,
          0.026549744368502992,
          0.027247142787655106,
          0.02595219609492108,
          0.023638037789106107,
          0.021677877438480576,
          0.021205109933474083,
          0.0224425254437512,
          0.024446148555546304,
          0.025537408512612266,
          0.02427521074649312,
          0.020368086600437867,
          0.014837111644053403,
          0.009297587215366636,
          0.0049854746652665104,
          0.0022802421806684225,
          0.0008878824313636156,
          0.0002939781322268319,
          0.00008270696163188537,
          0.000019762434598539883,
          0.000004009488723917032,
          6.905781818279114e-7,
          1.0096381116488202e-7,
          1.2529074833075981e-8,
          1.3196382349656975e-9,
          1.1796748921632277e-10,
          8.950234414260195e-12,
          5.763240252201463e-13,
          3.14960765620674e-14,
          1.4608369690194986e-15,
          5.750443474672219e-17,
          1.9211192315042655e-18,
          5.447033959128113e-20,
          1.3113024287851923e-21,
          5.790761518530705e-23,
          1.4740452090515768e-21,
          5.917868312778552e-20,
          2.0168648730113815e-18,
          5.833225292597247e-17,
          1.4317298878938628e-15,
          2.982179804352413e-14,
          5.271411883053401e-13,
          7.907523121726761e-12,
          1.0066404609791722e-10,
          1.0874985517141428e-9,
          9.970188855451847e-9,
          7.757083656398991e-8,
          5.121697898959074e-7,
          0.000002869788124467524,
          0.000013646023119594231,
          0.00005506590284180093,
          0.00018857313376126485,
          0.0005480210813754784,
          0.001351559299492872,
          0.002828741992534211,
          0.005024258349098676,
          0.007573052733130987,
          0.00968702435819026,
          0.01051550648112051
         ]
        }
       ],
       "layout": {
        "bargap": 0.1,
        "shapes": [
         {
          "line": {
           "color": "LightBlue",
           "width": 2
          },
          "type": "line",
          "x0": 28.943106198025017,
          "x1": 28.943106198025017,
          "y0": 0,
          "y1": 10
         },
         {
          "line": {
           "color": "LightBlue",
           "width": 2
          },
          "type": "line",
          "x0": 35.46530973912425,
          "x1": 35.46530973912425,
          "y0": 0,
          "y1": 10
         },
         {
          "line": {
           "color": "Red",
           "width": 2
          },
          "type": "line",
          "x0": 32.204207968574636,
          "x1": 32.204207968574636,
          "y0": 0,
          "y1": 10
         }
        ],
        "template": {
         "data": {
          "bar": [
           {
            "error_x": {
             "color": "#2a3f5f"
            },
            "error_y": {
             "color": "#2a3f5f"
            },
            "marker": {
             "line": {
              "color": "#E5ECF6",
              "width": 0.5
             },
             "pattern": {
              "fillmode": "overlay",
              "size": 10,
              "solidity": 0.2
             }
            },
            "type": "bar"
           }
          ],
          "barpolar": [
           {
            "marker": {
             "line": {
              "color": "#E5ECF6",
              "width": 0.5
             },
             "pattern": {
              "fillmode": "overlay",
              "size": 10,
              "solidity": 0.2
             }
            },
            "type": "barpolar"
           }
          ],
          "carpet": [
           {
            "aaxis": {
             "endlinecolor": "#2a3f5f",
             "gridcolor": "white",
             "linecolor": "white",
             "minorgridcolor": "white",
             "startlinecolor": "#2a3f5f"
            },
            "baxis": {
             "endlinecolor": "#2a3f5f",
             "gridcolor": "white",
             "linecolor": "white",
             "minorgridcolor": "white",
             "startlinecolor": "#2a3f5f"
            },
            "type": "carpet"
           }
          ],
          "choropleth": [
           {
            "colorbar": {
             "outlinewidth": 0,
             "ticks": ""
            },
            "type": "choropleth"
           }
          ],
          "contour": [
           {
            "colorbar": {
             "outlinewidth": 0,
             "ticks": ""
            },
            "colorscale": [
             [
              0,
              "#0d0887"
             ],
             [
              0.1111111111111111,
              "#46039f"
             ],
             [
              0.2222222222222222,
              "#7201a8"
             ],
             [
              0.3333333333333333,
              "#9c179e"
             ],
             [
              0.4444444444444444,
              "#bd3786"
             ],
             [
              0.5555555555555556,
              "#d8576b"
             ],
             [
              0.6666666666666666,
              "#ed7953"
             ],
             [
              0.7777777777777778,
              "#fb9f3a"
             ],
             [
              0.8888888888888888,
              "#fdca26"
             ],
             [
              1,
              "#f0f921"
             ]
            ],
            "type": "contour"
           }
          ],
          "contourcarpet": [
           {
            "colorbar": {
             "outlinewidth": 0,
             "ticks": ""
            },
            "type": "contourcarpet"
           }
          ],
          "heatmap": [
           {
            "colorbar": {
             "outlinewidth": 0,
             "ticks": ""
            },
            "colorscale": [
             [
              0,
              "#0d0887"
             ],
             [
              0.1111111111111111,
              "#46039f"
             ],
             [
              0.2222222222222222,
              "#7201a8"
             ],
             [
              0.3333333333333333,
              "#9c179e"
             ],
             [
              0.4444444444444444,
              "#bd3786"
             ],
             [
              0.5555555555555556,
              "#d8576b"
             ],
             [
              0.6666666666666666,
              "#ed7953"
             ],
             [
              0.7777777777777778,
              "#fb9f3a"
             ],
             [
              0.8888888888888888,
              "#fdca26"
             ],
             [
              1,
              "#f0f921"
             ]
            ],
            "type": "heatmap"
           }
          ],
          "heatmapgl": [
           {
            "colorbar": {
             "outlinewidth": 0,
             "ticks": ""
            },
            "colorscale": [
             [
              0,
              "#0d0887"
             ],
             [
              0.1111111111111111,
              "#46039f"
             ],
             [
              0.2222222222222222,
              "#7201a8"
             ],
             [
              0.3333333333333333,
              "#9c179e"
             ],
             [
              0.4444444444444444,
              "#bd3786"
             ],
             [
              0.5555555555555556,
              "#d8576b"
             ],
             [
              0.6666666666666666,
              "#ed7953"
             ],
             [
              0.7777777777777778,
              "#fb9f3a"
             ],
             [
              0.8888888888888888,
              "#fdca26"
             ],
             [
              1,
              "#f0f921"
             ]
            ],
            "type": "heatmapgl"
           }
          ],
          "histogram": [
           {
            "marker": {
             "pattern": {
              "fillmode": "overlay",
              "size": 10,
              "solidity": 0.2
             }
            },
            "type": "histogram"
           }
          ],
          "histogram2d": [
           {
            "colorbar": {
             "outlinewidth": 0,
             "ticks": ""
            },
            "colorscale": [
             [
              0,
              "#0d0887"
             ],
             [
              0.1111111111111111,
              "#46039f"
             ],
             [
              0.2222222222222222,
              "#7201a8"
             ],
             [
              0.3333333333333333,
              "#9c179e"
             ],
             [
              0.4444444444444444,
              "#bd3786"
             ],
             [
              0.5555555555555556,
              "#d8576b"
             ],
             [
              0.6666666666666666,
              "#ed7953"
             ],
             [
              0.7777777777777778,
              "#fb9f3a"
             ],
             [
              0.8888888888888888,
              "#fdca26"
             ],
             [
              1,
              "#f0f921"
             ]
            ],
            "type": "histogram2d"
           }
          ],
          "histogram2dcontour": [
           {
            "colorbar": {
             "outlinewidth": 0,
             "ticks": ""
            },
            "colorscale": [
             [
              0,
              "#0d0887"
             ],
             [
              0.1111111111111111,
              "#46039f"
             ],
             [
              0.2222222222222222,
              "#7201a8"
             ],
             [
              0.3333333333333333,
              "#9c179e"
             ],
             [
              0.4444444444444444,
              "#bd3786"
             ],
             [
              0.5555555555555556,
              "#d8576b"
             ],
             [
              0.6666666666666666,
              "#ed7953"
             ],
             [
              0.7777777777777778,
              "#fb9f3a"
             ],
             [
              0.8888888888888888,
              "#fdca26"
             ],
             [
              1,
              "#f0f921"
             ]
            ],
            "type": "histogram2dcontour"
           }
          ],
          "mesh3d": [
           {
            "colorbar": {
             "outlinewidth": 0,
             "ticks": ""
            },
            "type": "mesh3d"
           }
          ],
          "parcoords": [
           {
            "line": {
             "colorbar": {
              "outlinewidth": 0,
              "ticks": ""
             }
            },
            "type": "parcoords"
           }
          ],
          "pie": [
           {
            "automargin": true,
            "type": "pie"
           }
          ],
          "scatter": [
           {
            "fillpattern": {
             "fillmode": "overlay",
             "size": 10,
             "solidity": 0.2
            },
            "type": "scatter"
           }
          ],
          "scatter3d": [
           {
            "line": {
             "colorbar": {
              "outlinewidth": 0,
              "ticks": ""
             }
            },
            "marker": {
             "colorbar": {
              "outlinewidth": 0,
              "ticks": ""
             }
            },
            "type": "scatter3d"
           }
          ],
          "scattercarpet": [
           {
            "marker": {
             "colorbar": {
              "outlinewidth": 0,
              "ticks": ""
             }
            },
            "type": "scattercarpet"
           }
          ],
          "scattergeo": [
           {
            "marker": {
             "colorbar": {
              "outlinewidth": 0,
              "ticks": ""
             }
            },
            "type": "scattergeo"
           }
          ],
          "scattergl": [
           {
            "marker": {
             "colorbar": {
              "outlinewidth": 0,
              "ticks": ""
             }
            },
            "type": "scattergl"
           }
          ],
          "scattermapbox": [
           {
            "marker": {
             "colorbar": {
              "outlinewidth": 0,
              "ticks": ""
             }
            },
            "type": "scattermapbox"
           }
          ],
          "scatterpolar": [
           {
            "marker": {
             "colorbar": {
              "outlinewidth": 0,
              "ticks": ""
             }
            },
            "type": "scatterpolar"
           }
          ],
          "scatterpolargl": [
           {
            "marker": {
             "colorbar": {
              "outlinewidth": 0,
              "ticks": ""
             }
            },
            "type": "scatterpolargl"
           }
          ],
          "scatterternary": [
           {
            "marker": {
             "colorbar": {
              "outlinewidth": 0,
              "ticks": ""
             }
            },
            "type": "scatterternary"
           }
          ],
          "surface": [
           {
            "colorbar": {
             "outlinewidth": 0,
             "ticks": ""
            },
            "colorscale": [
             [
              0,
              "#0d0887"
             ],
             [
              0.1111111111111111,
              "#46039f"
             ],
             [
              0.2222222222222222,
              "#7201a8"
             ],
             [
              0.3333333333333333,
              "#9c179e"
             ],
             [
              0.4444444444444444,
              "#bd3786"
             ],
             [
              0.5555555555555556,
              "#d8576b"
             ],
             [
              0.6666666666666666,
              "#ed7953"
             ],
             [
              0.7777777777777778,
              "#fb9f3a"
             ],
             [
              0.8888888888888888,
              "#fdca26"
             ],
             [
              1,
              "#f0f921"
             ]
            ],
            "type": "surface"
           }
          ],
          "table": [
           {
            "cells": {
             "fill": {
              "color": "#EBF0F8"
             },
             "line": {
              "color": "white"
             }
            },
            "header": {
             "fill": {
              "color": "#C8D4E3"
             },
             "line": {
              "color": "white"
             }
            },
            "type": "table"
           }
          ]
         },
         "layout": {
          "annotationdefaults": {
           "arrowcolor": "#2a3f5f",
           "arrowhead": 0,
           "arrowwidth": 1
          },
          "autotypenumbers": "strict",
          "coloraxis": {
           "colorbar": {
            "outlinewidth": 0,
            "ticks": ""
           }
          },
          "colorscale": {
           "diverging": [
            [
             0,
             "#8e0152"
            ],
            [
             0.1,
             "#c51b7d"
            ],
            [
             0.2,
             "#de77ae"
            ],
            [
             0.3,
             "#f1b6da"
            ],
            [
             0.4,
             "#fde0ef"
            ],
            [
             0.5,
             "#f7f7f7"
            ],
            [
             0.6,
             "#e6f5d0"
            ],
            [
             0.7,
             "#b8e186"
            ],
            [
             0.8,
             "#7fbc41"
            ],
            [
             0.9,
             "#4d9221"
            ],
            [
             1,
             "#276419"
            ]
           ],
           "sequential": [
            [
             0,
             "#0d0887"
            ],
            [
             0.1111111111111111,
             "#46039f"
            ],
            [
             0.2222222222222222,
             "#7201a8"
            ],
            [
             0.3333333333333333,
             "#9c179e"
            ],
            [
             0.4444444444444444,
             "#bd3786"
            ],
            [
             0.5555555555555556,
             "#d8576b"
            ],
            [
             0.6666666666666666,
             "#ed7953"
            ],
            [
             0.7777777777777778,
             "#fb9f3a"
            ],
            [
             0.8888888888888888,
             "#fdca26"
            ],
            [
             1,
             "#f0f921"
            ]
           ],
           "sequentialminus": [
            [
             0,
             "#0d0887"
            ],
            [
             0.1111111111111111,
             "#46039f"
            ],
            [
             0.2222222222222222,
             "#7201a8"
            ],
            [
             0.3333333333333333,
             "#9c179e"
            ],
            [
             0.4444444444444444,
             "#bd3786"
            ],
            [
             0.5555555555555556,
             "#d8576b"
            ],
            [
             0.6666666666666666,
             "#ed7953"
            ],
            [
             0.7777777777777778,
             "#fb9f3a"
            ],
            [
             0.8888888888888888,
             "#fdca26"
            ],
            [
             1,
             "#f0f921"
            ]
           ]
          },
          "colorway": [
           "#636efa",
           "#EF553B",
           "#00cc96",
           "#ab63fa",
           "#FFA15A",
           "#19d3f3",
           "#FF6692",
           "#B6E880",
           "#FF97FF",
           "#FECB52"
          ],
          "font": {
           "color": "#2a3f5f"
          },
          "geo": {
           "bgcolor": "white",
           "lakecolor": "white",
           "landcolor": "#E5ECF6",
           "showlakes": true,
           "showland": true,
           "subunitcolor": "white"
          },
          "hoverlabel": {
           "align": "left"
          },
          "hovermode": "closest",
          "mapbox": {
           "style": "light"
          },
          "paper_bgcolor": "white",
          "plot_bgcolor": "#E5ECF6",
          "polar": {
           "angularaxis": {
            "gridcolor": "white",
            "linecolor": "white",
            "ticks": ""
           },
           "bgcolor": "#E5ECF6",
           "radialaxis": {
            "gridcolor": "white",
            "linecolor": "white",
            "ticks": ""
           }
          },
          "scene": {
           "xaxis": {
            "backgroundcolor": "#E5ECF6",
            "gridcolor": "white",
            "gridwidth": 2,
            "linecolor": "white",
            "showbackground": true,
            "ticks": "",
            "zerolinecolor": "white"
           },
           "yaxis": {
            "backgroundcolor": "#E5ECF6",
            "gridcolor": "white",
            "gridwidth": 2,
            "linecolor": "white",
            "showbackground": true,
            "ticks": "",
            "zerolinecolor": "white"
           },
           "zaxis": {
            "backgroundcolor": "#E5ECF6",
            "gridcolor": "white",
            "gridwidth": 2,
            "linecolor": "white",
            "showbackground": true,
            "ticks": "",
            "zerolinecolor": "white"
           }
          },
          "shapedefaults": {
           "line": {
            "color": "#2a3f5f"
           }
          },
          "ternary": {
           "aaxis": {
            "gridcolor": "white",
            "linecolor": "white",
            "ticks": ""
           },
           "baxis": {
            "gridcolor": "white",
            "linecolor": "white",
            "ticks": ""
           },
           "bgcolor": "#E5ECF6",
           "caxis": {
            "gridcolor": "white",
            "linecolor": "white",
            "ticks": ""
           }
          },
          "title": {
           "x": 0.05
          },
          "xaxis": {
           "automargin": true,
           "gridcolor": "white",
           "linecolor": "white",
           "ticks": "",
           "title": {
            "standoff": 15
           },
           "zerolinecolor": "white",
           "zerolinewidth": 2
          },
          "yaxis": {
           "automargin": true,
           "gridcolor": "white",
           "linecolor": "white",
           "ticks": "",
           "title": {
            "standoff": 15
           },
           "zerolinecolor": "white",
           "zerolinewidth": 2
          }
         }
        },
        "title": {
         "text": "Distribution of Titanic Fares with 95% Confidence Interval"
        },
        "xaxis": {
         "title": {
          "text": "Fare"
         }
        },
        "yaxis": {
         "title": {
          "text": "Percentage"
         }
        }
       }
      }
     },
     "metadata": {},
     "output_type": "display_data"
    }
   ],
   "source": [
    "import seaborn as sns\n",
    "import numpy as np\n",
    "import plotly.graph_objects as go\n",
    "import scipy.stats as stats\n",
    "\n",
    "# Load Titanic dataset\n",
    "titanic = sns.load_dataset(\"titanic\")\n",
    "fares = titanic['fare'].dropna()\n",
    "\n",
    "# Sample statistics\n",
    "sample_mean = np.mean(fares)\n",
    "sample_std = np.std(fares)\n",
    "n = len(fares)\n",
    "\n",
    "# Compute the z value for a 95% confidence interval\n",
    "z_value = stats.norm.ppf(0.975)\n",
    "\n",
    "# Calculate CI\n",
    "margin_error = z_value * (sample_std / np.sqrt(n))\n",
    "ci_lower = sample_mean - margin_error\n",
    "ci_upper = sample_mean + margin_error\n",
    "\n",
    "# Compute KDE\n",
    "kde_x = np.linspace(fares.min(), fares.max(), 100)\n",
    "kde_y = stats.gaussian_kde(fares)(kde_x)\n",
    "\n",
    "# Visualization\n",
    "fig = go.Figure()\n",
    "\n",
    "# Add histogram for the fare data\n",
    "fig.add_trace(go.Histogram(x=fares, histnorm='percent', name='Fares', nbinsx=50, opacity=0.5))\n",
    "\n",
    "# Add KDE line\n",
    "fig.add_trace(go.Scatter(x=kde_x, y=kde_y*100, mode='lines', name='Density', line=dict(color='blue', width=1.5)))\n",
    "\n",
    "# Add vertical lines for the confidence interval\n",
    "fig.add_shape(type=\"line\", \n",
    "              x0=ci_lower, x1=ci_lower, y0=0, y1=10,  \n",
    "              line=dict(color=\"LightBlue\", width=2))\n",
    "fig.add_shape(type=\"line\", \n",
    "              x0=ci_upper, x1=ci_upper, y0=0, y1=10, \n",
    "              line=dict(color=\"LightBlue\", width=2))\n",
    "\n",
    "# Add a vertical line for the sample mean\n",
    "fig.add_shape(type=\"line\", \n",
    "              x0=sample_mean, x1=sample_mean, y0=0, y1=10, \n",
    "              line=dict(color=\"Red\", width=2))\n",
    "\n",
    "fig.update_layout(title=\"Distribution of Titanic Fares with 95% Confidence Interval\",\n",
    "                  xaxis_title=\"Fare\",\n",
    "                  yaxis_title=\"Percentage\",\n",
    "                  bargap=0.1)\n",
    "\n",
    "fig.show()\n",
    "\n"
   ]
  },
  {
   "cell_type": "markdown",
   "id": "87469002",
   "metadata": {},
   "source": [
    "#### Interpretation:\n",
    "The blue bars represent the histogram of the fare values, showing the distribution of different fare amounts among the Titanic passengers. The KDE (in blue line) offers a smoothed representation of this distribution.\n",
    "\n",
    "The red vertical line indicates the sample mean of the fares, while the light blue vertical lines show the 95% confidence interval around this mean. Given our sample data, we're 95% confident that the true average fare of all Titanic passengers falls between these two blue lines.\n",
    "\n",
    "### 2. Tips Dataset: Total Bill Distribution with 95% Confidence Interval\n",
    "\n",
    "The `tips` dataset provides information on tips received by a waiter over a period of time. We'll visualize the distribution of the total bills and highlight the 95% confidence interval for the mean bill."
   ]
  },
  {
   "cell_type": "code",
   "execution_count": 7,
   "id": "501df7f2",
   "metadata": {},
   "outputs": [
    {
     "data": {
      "application/vnd.plotly.v1+json": {
       "config": {
        "plotlyServerURL": "https://plot.ly"
       },
       "data": [
        {
         "histnorm": "percent",
         "name": "Total Bill",
         "nbinsx": 30,
         "opacity": 0.5,
         "type": "histogram",
         "x": [
          16.99,
          10.34,
          21.01,
          23.68,
          24.59,
          25.29,
          8.77,
          26.88,
          15.04,
          14.78,
          10.27,
          35.26,
          15.42,
          18.43,
          14.83,
          21.58,
          10.33,
          16.29,
          16.97,
          20.65,
          17.92,
          20.29,
          15.77,
          39.42,
          19.82,
          17.81,
          13.37,
          12.69,
          21.7,
          19.65,
          9.55,
          18.35,
          15.06,
          20.69,
          17.78,
          24.06,
          16.31,
          16.93,
          18.69,
          31.27,
          16.04,
          17.46,
          13.94,
          9.68,
          30.4,
          18.29,
          22.23,
          32.4,
          28.55,
          18.04,
          12.54,
          10.29,
          34.81,
          9.94,
          25.56,
          19.49,
          38.01,
          26.41,
          11.24,
          48.27,
          20.29,
          13.81,
          11.02,
          18.29,
          17.59,
          20.08,
          16.45,
          3.07,
          20.23,
          15.01,
          12.02,
          17.07,
          26.86,
          25.28,
          14.73,
          10.51,
          17.92,
          27.2,
          22.76,
          17.29,
          19.44,
          16.66,
          10.07,
          32.68,
          15.98,
          34.83,
          13.03,
          18.28,
          24.71,
          21.16,
          28.97,
          22.49,
          5.75,
          16.32,
          22.75,
          40.17,
          27.28,
          12.03,
          21.01,
          12.46,
          11.35,
          15.38,
          44.3,
          22.42,
          20.92,
          15.36,
          20.49,
          25.21,
          18.24,
          14.31,
          14,
          7.25,
          38.07,
          23.95,
          25.71,
          17.31,
          29.93,
          10.65,
          12.43,
          24.08,
          11.69,
          13.42,
          14.26,
          15.95,
          12.48,
          29.8,
          8.52,
          14.52,
          11.38,
          22.82,
          19.08,
          20.27,
          11.17,
          12.26,
          18.26,
          8.51,
          10.33,
          14.15,
          16,
          13.16,
          17.47,
          34.3,
          41.19,
          27.05,
          16.43,
          8.35,
          18.64,
          11.87,
          9.78,
          7.51,
          14.07,
          13.13,
          17.26,
          24.55,
          19.77,
          29.85,
          48.17,
          25,
          13.39,
          16.49,
          21.5,
          12.66,
          16.21,
          13.81,
          17.51,
          24.52,
          20.76,
          31.71,
          10.59,
          10.63,
          50.81,
          15.81,
          7.25,
          31.85,
          16.82,
          32.9,
          17.89,
          14.48,
          9.6,
          34.63,
          34.65,
          23.33,
          45.35,
          23.17,
          40.55,
          20.69,
          20.9,
          30.46,
          18.15,
          23.1,
          15.69,
          19.81,
          28.44,
          15.48,
          16.58,
          7.56,
          10.34,
          43.11,
          13,
          13.51,
          18.71,
          12.74,
          13,
          16.4,
          20.53,
          16.47,
          26.59,
          38.73,
          24.27,
          12.76,
          30.06,
          25.89,
          48.33,
          13.27,
          28.17,
          12.9,
          28.15,
          11.59,
          7.74,
          30.14,
          12.16,
          13.42,
          8.58,
          15.98,
          13.42,
          16.27,
          10.09,
          20.45,
          13.28,
          22.12,
          24.01,
          15.69,
          11.61,
          10.77,
          15.53,
          10.07,
          12.6,
          32.83,
          35.83,
          29.03,
          27.18,
          22.67,
          17.82,
          18.78
         ]
        },
        {
         "line": {
          "color": "blue",
          "width": 1.5
         },
         "mode": "lines",
         "name": "Density",
         "type": "scatter",
         "x": [
          3.07,
          3.552222222222222,
          4.0344444444444445,
          4.516666666666667,
          4.998888888888889,
          5.481111111111111,
          5.963333333333333,
          6.445555555555556,
          6.927777777777777,
          7.41,
          7.892222222222221,
          8.374444444444444,
          8.856666666666667,
          9.338888888888889,
          9.821111111111112,
          10.303333333333333,
          10.785555555555556,
          11.267777777777779,
          11.75,
          12.232222222222223,
          12.714444444444444,
          13.196666666666667,
          13.678888888888888,
          14.161111111111111,
          14.643333333333334,
          15.125555555555556,
          15.607777777777779,
          16.09,
          16.572222222222223,
          17.054444444444442,
          17.536666666666665,
          18.01888888888889,
          18.50111111111111,
          18.983333333333334,
          19.465555555555557,
          19.947777777777777,
          20.43,
          20.912222222222223,
          21.394444444444446,
          21.876666666666665,
          22.358888888888888,
          22.84111111111111,
          23.323333333333334,
          23.805555555555557,
          24.287777777777777,
          24.77,
          25.252222222222223,
          25.734444444444446,
          26.21666666666667,
          26.698888888888888,
          27.18111111111111,
          27.663333333333334,
          28.145555555555557,
          28.627777777777776,
          29.11,
          29.592222222222222,
          30.074444444444445,
          30.55666666666667,
          31.038888888888888,
          31.52111111111111,
          32.00333333333333,
          32.48555555555556,
          32.967777777777776,
          33.449999999999996,
          33.93222222222222,
          34.41444444444444,
          34.89666666666667,
          35.37888888888889,
          35.861111111111114,
          36.343333333333334,
          36.82555555555555,
          37.30777777777778,
          37.79,
          38.272222222222226,
          38.754444444444445,
          39.236666666666665,
          39.71888888888889,
          40.20111111111111,
          40.68333333333333,
          41.16555555555556,
          41.647777777777776,
          42.13,
          42.61222222222222,
          43.09444444444444,
          43.57666666666667,
          44.05888888888889,
          44.541111111111114,
          45.02333333333333,
          45.50555555555555,
          45.98777777777778,
          46.47,
          46.952222222222225,
          47.434444444444445,
          47.916666666666664,
          48.39888888888889,
          48.88111111111111,
          49.36333333333334,
          49.845555555555556,
          50.327777777777776,
          50.81
         ],
         "y": [
          0.31188443442123936,
          0.39444407787841324,
          0.4950532616235789,
          0.6160230276597093,
          0.7593374053660413,
          0.9264472402961674,
          1.118071706638021,
          1.3340295899242838,
          1.5731216790910558,
          1.8330821226330567,
          2.11061057126604,
          2.4014888014952147,
          2.700776008457332,
          3.0030670721611474,
          3.3027891133973863,
          3.594505030750371,
          3.873189911399974,
          4.134448387245487,
          4.374648634799598,
          4.590961250157567,
          4.781306947523095,
          4.944233145973934,
          5.078752635161293,
          5.184184416528219,
          5.260035334289897,
          5.305950910259711,
          5.32174674752243,
          5.307511775131432,
          5.263756311718899,
          5.191565994627701,
          5.092720016408712,
          4.9697393165011015,
          4.825845283693706,
          4.6648281308455575,
          4.490841765810974,
          4.308154782144856,
          4.120892924785221,
          3.9328068870968242,
          3.74709209609412,
          3.566276676580224,
          3.3921825337610665,
          3.225954378735086,
          3.068143689633934,
          2.9188295482641653,
          2.7777561240935515,
          2.6444672149063866,
          2.5184214685596973,
          2.399077227189523,
          2.285942519785807,
          2.1785924041124947,
          2.0766613095899107,
          1.9798211552851082,
          1.8877562767550826,
          1.8001438343325606,
          1.7166443647576746,
          1.636902869224818,
          1.5605576474592546,
          1.4872528272618546,
          1.416651258274532,
          1.348446425199835,
          1.2823741120868535,
          1.2182255587110633,
          1.155863141524417,
          1.09523733635155,
          1.0364008136639273,
          0.9795133590304588,
          0.9248311765484147,
          0.8726766449564429,
          0.8233893946117207,
          0.7772653457544632,
          0.7344952319796175,
          0.695116355916215,
          0.6589898511140762,
          0.625810663007849,
          0.5951500771706877,
          0.5665229446238003,
          0.5394659213492226,
          0.513610618825958,
          0.4887370767825904,
          0.4647977920779164,
          0.44190917027213317,
          0.4203138751624853,
          0.40032255838332603,
          0.3822459722658959,
          0.36632846499997895,
          0.3526919769300041,
          0.341296872894923,
          0.3319231419723707,
          0.3241731751653369,
          0.31749553798326624,
          0.31122761696479406,
          0.30465341801226775,
          0.29707102153898557,
          0.28786248220003696,
          0.2765578009454425,
          0.262884555739777,
          0.2467962106392557,
          0.22847498661945584,
          0.20830898702228606,
          0.1868472314952565
         ]
        }
       ],
       "layout": {
        "bargap": 0.1,
        "shapes": [
         {
          "line": {
           "color": "LightBlue",
           "width": 2
          },
          "type": "line",
          "x0": 18.671214164309017,
          "x1": 18.671214164309017,
          "y0": 0,
          "y1": 10
         },
         {
          "line": {
           "color": "LightBlue",
           "width": 2
          },
          "type": "line",
          "x0": 20.900671081592623,
          "x1": 20.900671081592623,
          "y0": 0,
          "y1": 10
         },
         {
          "line": {
           "color": "Red",
           "width": 2
          },
          "type": "line",
          "x0": 19.78594262295082,
          "x1": 19.78594262295082,
          "y0": 0,
          "y1": 10
         }
        ],
        "template": {
         "data": {
          "bar": [
           {
            "error_x": {
             "color": "#2a3f5f"
            },
            "error_y": {
             "color": "#2a3f5f"
            },
            "marker": {
             "line": {
              "color": "#E5ECF6",
              "width": 0.5
             },
             "pattern": {
              "fillmode": "overlay",
              "size": 10,
              "solidity": 0.2
             }
            },
            "type": "bar"
           }
          ],
          "barpolar": [
           {
            "marker": {
             "line": {
              "color": "#E5ECF6",
              "width": 0.5
             },
             "pattern": {
              "fillmode": "overlay",
              "size": 10,
              "solidity": 0.2
             }
            },
            "type": "barpolar"
           }
          ],
          "carpet": [
           {
            "aaxis": {
             "endlinecolor": "#2a3f5f",
             "gridcolor": "white",
             "linecolor": "white",
             "minorgridcolor": "white",
             "startlinecolor": "#2a3f5f"
            },
            "baxis": {
             "endlinecolor": "#2a3f5f",
             "gridcolor": "white",
             "linecolor": "white",
             "minorgridcolor": "white",
             "startlinecolor": "#2a3f5f"
            },
            "type": "carpet"
           }
          ],
          "choropleth": [
           {
            "colorbar": {
             "outlinewidth": 0,
             "ticks": ""
            },
            "type": "choropleth"
           }
          ],
          "contour": [
           {
            "colorbar": {
             "outlinewidth": 0,
             "ticks": ""
            },
            "colorscale": [
             [
              0,
              "#0d0887"
             ],
             [
              0.1111111111111111,
              "#46039f"
             ],
             [
              0.2222222222222222,
              "#7201a8"
             ],
             [
              0.3333333333333333,
              "#9c179e"
             ],
             [
              0.4444444444444444,
              "#bd3786"
             ],
             [
              0.5555555555555556,
              "#d8576b"
             ],
             [
              0.6666666666666666,
              "#ed7953"
             ],
             [
              0.7777777777777778,
              "#fb9f3a"
             ],
             [
              0.8888888888888888,
              "#fdca26"
             ],
             [
              1,
              "#f0f921"
             ]
            ],
            "type": "contour"
           }
          ],
          "contourcarpet": [
           {
            "colorbar": {
             "outlinewidth": 0,
             "ticks": ""
            },
            "type": "contourcarpet"
           }
          ],
          "heatmap": [
           {
            "colorbar": {
             "outlinewidth": 0,
             "ticks": ""
            },
            "colorscale": [
             [
              0,
              "#0d0887"
             ],
             [
              0.1111111111111111,
              "#46039f"
             ],
             [
              0.2222222222222222,
              "#7201a8"
             ],
             [
              0.3333333333333333,
              "#9c179e"
             ],
             [
              0.4444444444444444,
              "#bd3786"
             ],
             [
              0.5555555555555556,
              "#d8576b"
             ],
             [
              0.6666666666666666,
              "#ed7953"
             ],
             [
              0.7777777777777778,
              "#fb9f3a"
             ],
             [
              0.8888888888888888,
              "#fdca26"
             ],
             [
              1,
              "#f0f921"
             ]
            ],
            "type": "heatmap"
           }
          ],
          "heatmapgl": [
           {
            "colorbar": {
             "outlinewidth": 0,
             "ticks": ""
            },
            "colorscale": [
             [
              0,
              "#0d0887"
             ],
             [
              0.1111111111111111,
              "#46039f"
             ],
             [
              0.2222222222222222,
              "#7201a8"
             ],
             [
              0.3333333333333333,
              "#9c179e"
             ],
             [
              0.4444444444444444,
              "#bd3786"
             ],
             [
              0.5555555555555556,
              "#d8576b"
             ],
             [
              0.6666666666666666,
              "#ed7953"
             ],
             [
              0.7777777777777778,
              "#fb9f3a"
             ],
             [
              0.8888888888888888,
              "#fdca26"
             ],
             [
              1,
              "#f0f921"
             ]
            ],
            "type": "heatmapgl"
           }
          ],
          "histogram": [
           {
            "marker": {
             "pattern": {
              "fillmode": "overlay",
              "size": 10,
              "solidity": 0.2
             }
            },
            "type": "histogram"
           }
          ],
          "histogram2d": [
           {
            "colorbar": {
             "outlinewidth": 0,
             "ticks": ""
            },
            "colorscale": [
             [
              0,
              "#0d0887"
             ],
             [
              0.1111111111111111,
              "#46039f"
             ],
             [
              0.2222222222222222,
              "#7201a8"
             ],
             [
              0.3333333333333333,
              "#9c179e"
             ],
             [
              0.4444444444444444,
              "#bd3786"
             ],
             [
              0.5555555555555556,
              "#d8576b"
             ],
             [
              0.6666666666666666,
              "#ed7953"
             ],
             [
              0.7777777777777778,
              "#fb9f3a"
             ],
             [
              0.8888888888888888,
              "#fdca26"
             ],
             [
              1,
              "#f0f921"
             ]
            ],
            "type": "histogram2d"
           }
          ],
          "histogram2dcontour": [
           {
            "colorbar": {
             "outlinewidth": 0,
             "ticks": ""
            },
            "colorscale": [
             [
              0,
              "#0d0887"
             ],
             [
              0.1111111111111111,
              "#46039f"
             ],
             [
              0.2222222222222222,
              "#7201a8"
             ],
             [
              0.3333333333333333,
              "#9c179e"
             ],
             [
              0.4444444444444444,
              "#bd3786"
             ],
             [
              0.5555555555555556,
              "#d8576b"
             ],
             [
              0.6666666666666666,
              "#ed7953"
             ],
             [
              0.7777777777777778,
              "#fb9f3a"
             ],
             [
              0.8888888888888888,
              "#fdca26"
             ],
             [
              1,
              "#f0f921"
             ]
            ],
            "type": "histogram2dcontour"
           }
          ],
          "mesh3d": [
           {
            "colorbar": {
             "outlinewidth": 0,
             "ticks": ""
            },
            "type": "mesh3d"
           }
          ],
          "parcoords": [
           {
            "line": {
             "colorbar": {
              "outlinewidth": 0,
              "ticks": ""
             }
            },
            "type": "parcoords"
           }
          ],
          "pie": [
           {
            "automargin": true,
            "type": "pie"
           }
          ],
          "scatter": [
           {
            "fillpattern": {
             "fillmode": "overlay",
             "size": 10,
             "solidity": 0.2
            },
            "type": "scatter"
           }
          ],
          "scatter3d": [
           {
            "line": {
             "colorbar": {
              "outlinewidth": 0,
              "ticks": ""
             }
            },
            "marker": {
             "colorbar": {
              "outlinewidth": 0,
              "ticks": ""
             }
            },
            "type": "scatter3d"
           }
          ],
          "scattercarpet": [
           {
            "marker": {
             "colorbar": {
              "outlinewidth": 0,
              "ticks": ""
             }
            },
            "type": "scattercarpet"
           }
          ],
          "scattergeo": [
           {
            "marker": {
             "colorbar": {
              "outlinewidth": 0,
              "ticks": ""
             }
            },
            "type": "scattergeo"
           }
          ],
          "scattergl": [
           {
            "marker": {
             "colorbar": {
              "outlinewidth": 0,
              "ticks": ""
             }
            },
            "type": "scattergl"
           }
          ],
          "scattermapbox": [
           {
            "marker": {
             "colorbar": {
              "outlinewidth": 0,
              "ticks": ""
             }
            },
            "type": "scattermapbox"
           }
          ],
          "scatterpolar": [
           {
            "marker": {
             "colorbar": {
              "outlinewidth": 0,
              "ticks": ""
             }
            },
            "type": "scatterpolar"
           }
          ],
          "scatterpolargl": [
           {
            "marker": {
             "colorbar": {
              "outlinewidth": 0,
              "ticks": ""
             }
            },
            "type": "scatterpolargl"
           }
          ],
          "scatterternary": [
           {
            "marker": {
             "colorbar": {
              "outlinewidth": 0,
              "ticks": ""
             }
            },
            "type": "scatterternary"
           }
          ],
          "surface": [
           {
            "colorbar": {
             "outlinewidth": 0,
             "ticks": ""
            },
            "colorscale": [
             [
              0,
              "#0d0887"
             ],
             [
              0.1111111111111111,
              "#46039f"
             ],
             [
              0.2222222222222222,
              "#7201a8"
             ],
             [
              0.3333333333333333,
              "#9c179e"
             ],
             [
              0.4444444444444444,
              "#bd3786"
             ],
             [
              0.5555555555555556,
              "#d8576b"
             ],
             [
              0.6666666666666666,
              "#ed7953"
             ],
             [
              0.7777777777777778,
              "#fb9f3a"
             ],
             [
              0.8888888888888888,
              "#fdca26"
             ],
             [
              1,
              "#f0f921"
             ]
            ],
            "type": "surface"
           }
          ],
          "table": [
           {
            "cells": {
             "fill": {
              "color": "#EBF0F8"
             },
             "line": {
              "color": "white"
             }
            },
            "header": {
             "fill": {
              "color": "#C8D4E3"
             },
             "line": {
              "color": "white"
             }
            },
            "type": "table"
           }
          ]
         },
         "layout": {
          "annotationdefaults": {
           "arrowcolor": "#2a3f5f",
           "arrowhead": 0,
           "arrowwidth": 1
          },
          "autotypenumbers": "strict",
          "coloraxis": {
           "colorbar": {
            "outlinewidth": 0,
            "ticks": ""
           }
          },
          "colorscale": {
           "diverging": [
            [
             0,
             "#8e0152"
            ],
            [
             0.1,
             "#c51b7d"
            ],
            [
             0.2,
             "#de77ae"
            ],
            [
             0.3,
             "#f1b6da"
            ],
            [
             0.4,
             "#fde0ef"
            ],
            [
             0.5,
             "#f7f7f7"
            ],
            [
             0.6,
             "#e6f5d0"
            ],
            [
             0.7,
             "#b8e186"
            ],
            [
             0.8,
             "#7fbc41"
            ],
            [
             0.9,
             "#4d9221"
            ],
            [
             1,
             "#276419"
            ]
           ],
           "sequential": [
            [
             0,
             "#0d0887"
            ],
            [
             0.1111111111111111,
             "#46039f"
            ],
            [
             0.2222222222222222,
             "#7201a8"
            ],
            [
             0.3333333333333333,
             "#9c179e"
            ],
            [
             0.4444444444444444,
             "#bd3786"
            ],
            [
             0.5555555555555556,
             "#d8576b"
            ],
            [
             0.6666666666666666,
             "#ed7953"
            ],
            [
             0.7777777777777778,
             "#fb9f3a"
            ],
            [
             0.8888888888888888,
             "#fdca26"
            ],
            [
             1,
             "#f0f921"
            ]
           ],
           "sequentialminus": [
            [
             0,
             "#0d0887"
            ],
            [
             0.1111111111111111,
             "#46039f"
            ],
            [
             0.2222222222222222,
             "#7201a8"
            ],
            [
             0.3333333333333333,
             "#9c179e"
            ],
            [
             0.4444444444444444,
             "#bd3786"
            ],
            [
             0.5555555555555556,
             "#d8576b"
            ],
            [
             0.6666666666666666,
             "#ed7953"
            ],
            [
             0.7777777777777778,
             "#fb9f3a"
            ],
            [
             0.8888888888888888,
             "#fdca26"
            ],
            [
             1,
             "#f0f921"
            ]
           ]
          },
          "colorway": [
           "#636efa",
           "#EF553B",
           "#00cc96",
           "#ab63fa",
           "#FFA15A",
           "#19d3f3",
           "#FF6692",
           "#B6E880",
           "#FF97FF",
           "#FECB52"
          ],
          "font": {
           "color": "#2a3f5f"
          },
          "geo": {
           "bgcolor": "white",
           "lakecolor": "white",
           "landcolor": "#E5ECF6",
           "showlakes": true,
           "showland": true,
           "subunitcolor": "white"
          },
          "hoverlabel": {
           "align": "left"
          },
          "hovermode": "closest",
          "mapbox": {
           "style": "light"
          },
          "paper_bgcolor": "white",
          "plot_bgcolor": "#E5ECF6",
          "polar": {
           "angularaxis": {
            "gridcolor": "white",
            "linecolor": "white",
            "ticks": ""
           },
           "bgcolor": "#E5ECF6",
           "radialaxis": {
            "gridcolor": "white",
            "linecolor": "white",
            "ticks": ""
           }
          },
          "scene": {
           "xaxis": {
            "backgroundcolor": "#E5ECF6",
            "gridcolor": "white",
            "gridwidth": 2,
            "linecolor": "white",
            "showbackground": true,
            "ticks": "",
            "zerolinecolor": "white"
           },
           "yaxis": {
            "backgroundcolor": "#E5ECF6",
            "gridcolor": "white",
            "gridwidth": 2,
            "linecolor": "white",
            "showbackground": true,
            "ticks": "",
            "zerolinecolor": "white"
           },
           "zaxis": {
            "backgroundcolor": "#E5ECF6",
            "gridcolor": "white",
            "gridwidth": 2,
            "linecolor": "white",
            "showbackground": true,
            "ticks": "",
            "zerolinecolor": "white"
           }
          },
          "shapedefaults": {
           "line": {
            "color": "#2a3f5f"
           }
          },
          "ternary": {
           "aaxis": {
            "gridcolor": "white",
            "linecolor": "white",
            "ticks": ""
           },
           "baxis": {
            "gridcolor": "white",
            "linecolor": "white",
            "ticks": ""
           },
           "bgcolor": "#E5ECF6",
           "caxis": {
            "gridcolor": "white",
            "linecolor": "white",
            "ticks": ""
           }
          },
          "title": {
           "x": 0.05
          },
          "xaxis": {
           "automargin": true,
           "gridcolor": "white",
           "linecolor": "white",
           "ticks": "",
           "title": {
            "standoff": 15
           },
           "zerolinecolor": "white",
           "zerolinewidth": 2
          },
          "yaxis": {
           "automargin": true,
           "gridcolor": "white",
           "linecolor": "white",
           "ticks": "",
           "title": {
            "standoff": 15
           },
           "zerolinecolor": "white",
           "zerolinewidth": 2
          }
         }
        },
        "title": {
         "text": "Distribution of Total Bills with 95% Confidence Interval"
        },
        "xaxis": {
         "title": {
          "text": "Total Bill ($)"
         }
        },
        "yaxis": {
         "title": {
          "text": "Percentage"
         }
        }
       }
      }
     },
     "metadata": {},
     "output_type": "display_data"
    }
   ],
   "source": [
    "import seaborn as sns\n",
    "import numpy as np\n",
    "import plotly.graph_objects as go\n",
    "import scipy.stats as stats\n",
    "\n",
    "# Load Tips dataset\n",
    "tips = sns.load_dataset(\"tips\")\n",
    "bills = tips['total_bill']\n",
    "\n",
    "# Sample statistics\n",
    "sample_mean = np.mean(bills)\n",
    "sample_std = np.std(bills)\n",
    "n = len(bills)\n",
    "\n",
    "# Compute the z value for a 95% confidence interval\n",
    "z_value = stats.norm.ppf(0.975)\n",
    "\n",
    "# Calculate CI\n",
    "margin_error = z_value * (sample_std / np.sqrt(n))\n",
    "ci_lower = sample_mean - margin_error\n",
    "ci_upper = sample_mean + margin_error\n",
    "\n",
    "# Compute KDE\n",
    "kde_x = np.linspace(bills.min(), bills.max(), 100)\n",
    "kde_y = stats.gaussian_kde(bills)(kde_x)\n",
    "\n",
    "# Visualization\n",
    "fig = go.Figure()\n",
    "\n",
    "# Add histogram for the total bill data\n",
    "fig.add_trace(go.Histogram(x=bills, histnorm='percent', name='Total Bill', nbinsx=30, opacity=0.5))\n",
    "\n",
    "# Add KDE line\n",
    "fig.add_trace(go.Scatter(x=kde_x, y=kde_y*100, mode='lines', name='Density', line=dict(color='blue', width=1.5)))\n",
    "\n",
    "# Add vertical lines for the confidence interval\n",
    "fig.add_shape(type=\"line\", \n",
    "              x0=ci_lower, x1=ci_lower, y0=0, y1=10,  \n",
    "              line=dict(color=\"LightBlue\", width=2))\n",
    "fig.add_shape(type=\"line\", \n",
    "              x0=ci_upper, x1=ci_upper, y0=0, y1=10, \n",
    "              line=dict(color=\"LightBlue\", width=2))\n",
    "\n",
    "# Add a vertical line for the sample mean\n",
    "fig.add_shape(type=\"line\", \n",
    "              x0=sample_mean, x1=sample_mean, y0=0, y1=10, \n",
    "              line=dict(color=\"Red\", width=2))\n",
    "\n",
    "fig.update_layout(title=\"Distribution of Total Bills with 95% Confidence Interval\",\n",
    "                  xaxis_title=\"Total Bill ($)\",\n",
    "                  yaxis_title=\"Percentage\",\n",
    "                  bargap=0.1)\n",
    "\n",
    "fig.show()\n"
   ]
  },
  {
   "cell_type": "markdown",
   "id": "c21b73e2",
   "metadata": {},
   "source": [
    "#### Interpretation:\n",
    "The gray bars illustrate the histogram of the total bill amounts, giving us an idea of how much diners typically spent. The KDE (depicted as the blue line) gives a smoothed representation of the bill distribution.\n",
    "\n",
    "Similar to the previous example, the red line marks the sample mean of the total bills. The two light blue lines encapsulate the 95% confidence interval for this mean. Given our sample, we can be 95% confident that the true average bill for all diners is between these two values.\n",
    "\n",
    "---\n",
    "\n",
    "By understanding the spread and center of data (through histograms and KDEs) and combining that with confidence intervals, we can make more informed conclusions about populations based on sample data."
   ]
  },
  {
   "cell_type": "markdown",
   "id": "91b5ec96",
   "metadata": {},
   "source": [
    "---\n",
    "\n",
    "## 5. Margin of Error (MoE)\n",
    "\n",
    "### **Definition**\n",
    "The Margin of Error represents the range within which we expect our survey results to differ from the actual population. It accounts for the inherent variability that arises from sampling.\n",
    "\n",
    "### **Calculating MoE**\n",
    "\n",
    "Using the previously mentioned formulas, the MoE can be extracted. For **means**, it's the term:\n",
    "\n",
    "$$ Z \\left( \\frac{\\sigma}{\\sqrt{n}} \\right) $$\n",
    "\n",
    "And for **proportions**:\n",
    "\n",
    "$$ Z \\sqrt{ \\frac{p(1-p)}{n} } $$\n",
    "\n",
    "### **Factors Affecting MoE**\n",
    "\n",
    "1. **Sample Size**: Larger samples generally lead to smaller MoE.\n",
    "2. **Variability in Data**: More variability can increase the MoE.\n",
    "3. **Confidence Level**: Higher confidence levels lead to a larger MoE.\n",
    "\n",
    "### **Interpreting MoE**\n",
    "Understanding MoE is critical to interpreting survey results. If a political candidate has a 52% support rate with a 3% MoE, their actual support could be anywhere from 49% to 55%.\n",
    "\n",
    "---\n",
    "\n",
    "## 6. Advanced Concepts\n",
    "\n",
    "### **Effect Size**\n",
    "While p-values indicate if an effect exists, effect size measures the magnitude. Common effect size metrics include Cohen's d for t-tests or Phi for chi-square tests.\n",
    "\n",
    "### **Power Analysis**\n",
    "Statistical power is the probability that a test correctly rejects the null hypothesis. Higher power reduces the risk of Type II errors. It depends on sample size, significance level, and effect size.\n",
    "\n",
    "### **Multiple Comparisons Problem**\n",
    "When performing multiple tests, the chance of encountering a Type I error increases. Corrections like Bonferroni or FDR can adjust significance levels.\n",
    "\n",
    "### **Non-parametric Tests**\n",
    "Used when data doesn't meet normal distribution assumptions. Examples include the Mann-Whitney U test or Kruskal-Wallis test.\n",
    "\n",
    "---\n",
    "\n",
    "## 7. Practical Applications and Case Studies\n",
    "\n",
    "### **Case Study 1**: A/B Testing\n",
    "Online stores often use A/B tests to compare two versions of a webpage. They'll measure metrics like conversion rate for each version and use statistical significance to determine which version is superior.\n",
    "\n",
    "### **Case Study 2**: Clinical Trials\n",
    "When new drugs are developed, they're tested against placebos. Statistical significance can determine whether a drug's effects are likely due to the drug itself rather than chance.\n",
    "\n",
    "---\n",
    "\n",
    "## 8. Tools and Software\n",
    "\n",
    "For **Python**, libraries such as `statsmodels` and `scipy` offer vast resources for hypothesis testing. `plotly` and `seaborn` assist with visualizations.\n",
    "\n",
    "For those interested in **R**, functions like `t.test()`, `chisq.test()`, or packages like `ggplot2` for plotting are invaluable.\n",
    "\n",
    "---\n",
    "\n",
    "## 9. Conclusion and Further Reading\n",
    "\n",
    "This handbook offers a foundational understanding of statistical significance and margin of error. For deeper insights, resources such as [Statistical Inference](https://www.coursera.org/learn/statistical-inference) on Coursera or textbooks like \"Statistics\" by Robert S. Witte are recommended.\n",
    "\n",
    "---\n",
    "\n",
    "## 10. Appendices\n",
    "\n",
    "### **Statistical Tables**: Accessible in most statistics textbooks or online resources. \n",
    "### **Glossary**: \n",
    "- **Null Hypothesis**: Claim of no effect.\n",
    "- **p-value**: Probability of observing data given that the null hypothesis is true.\n",
    "### **FAQs**: \n",
    "1. **Why is 0.05 chosen as a significance level?** Historically established and widely accepted, though it's not a strict rule.\n",
    "\n",
    "---\n",
    "\n",
    "This handbook offers a thorough introduction to the topics at hand. Given the constraints, some sections are summarized, but they provide a solid foundation. Adjustments, inclusions, or deeper dives can be made based on feedback or specific requirements."
   ]
  }
 ],
 "metadata": {
  "kernelspec": {
   "display_name": "myenv",
   "language": "python",
   "name": "python3"
  },
  "language_info": {
   "codemirror_mode": {
    "name": "ipython",
    "version": 3
   },
   "file_extension": ".py",
   "mimetype": "text/x-python",
   "name": "python",
   "nbconvert_exporter": "python",
   "pygments_lexer": "ipython3",
   "version": "3.11.3"
  }
 },
 "nbformat": 4,
 "nbformat_minor": 5
}
