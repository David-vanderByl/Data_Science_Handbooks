{
 "cells": [
  {
   "cell_type": "markdown",
   "id": "437d18ba",
   "metadata": {},
   "source": [
    "# Python Tutorial Handbook for Data Science\n",
    "\n",
    "## Table Of Contents\n",
    "\n",
    "[**Part 1: Introduction to Python Programming**](#part-1-introduction-to-python-programming)\n",
    "\n",
    "1. [Getting Started with Python](#chapter-1-getting-started-with-python)\n",
    "   - [Introduction to Python](#11-introduction-to-python)\n",
    "   - [Setting up Python Environment](#12-setting-up-python-environment)\n",
    "   - [Hello World and Basic Syntax](#13-hello-world-and-basic-syntax)\n",
    "\n",
    "2. [Variables and Data Types](#chapter-2-variables-and-data-types)\n",
    "   - [Understanding Variables](#21-understanding-variables)\n",
    "   - [Numeric Data Types](#22-numeric-data-types)\n",
    "   - [Strings and Text Manipulation](#23-strings-and-text-manipulation)\n",
    "\n",
    "3. [Control Flow and Loops](#chapter-3-control-flow-and-loops)\n",
    "   - [Conditional Statements](#31-conditional-statements)\n",
    "   - [Loops and Iteration](#32-loops-and-iteration)\n",
    "   - [List Comprehensions](#33-list-comprehensions)\n",
    "\n",
    "[**Part 2: Intermediate Python Concepts**](#part-2-intermediate-python-concepts)\n",
    "\n",
    "4. [Functions and Modules](#chapter-4-functions-and-modules)\n",
    "   - [Defining Functions](#41-defining-functions)\n",
    "   - [Using Built-in and External Modules](#42-using-built-in-and-external-modules)\n",
    "   - [Lambda Functions](#43-lambda-functions)\n",
    "\n",
    "5. [Working with Data Structures](#chapter-5-working-with-data-structures)\n",
    "   - [Lists, Tuples, and Sets](#51-lists-tuples-and-sets)\n",
    "   - [Dictionaries and Mapping](#52-dictionaries-and-mapping)\n",
    "   - [Collections Module](#53-collections-module)\n",
    "\n",
    "6. [File Handling and I/O](#chapter-6-file-handling-and-io)\n",
    "   - [Reading and Writing Files](#61-reading-and-writing-files)\n",
    "   - [Working with CSV and JSON](#62-working-with-csv-and-json)\n",
    "   - [Exception Handling](#63-exception-handling)\n",
    "\n",
    "[**Part 3: Advanced Python and Data Science Techniques**](#part-3-advanced-python-and-data-science-techniques)\n",
    "\n",
    "7. [NumPy and Data Manipulation](#chapter-7-numpy-and-data-manipulation)\n",
    "   - [Introduction to NumPy](#71-introduction-to-numpy)\n",
    "   - [Array Creation and Manipulation](#72-array-creation-and-manipulation)\n",
    "   - [Array Indexing and Slicing](#73-array-indexing-and-slicing)\n",
    "\n",
    "8. [Pandas for Data Analysis](#chapter-8-pandas-for-data-analysis)\n",
    "   - [Introduction to Pandas](#81-introduction-to-pandas)\n",
    "   - [DataFrame Manipulation](#82-dataframe-manipulation)\n",
    "   - [Data Cleaning and Transformation](#83-data-cleaning-and-transformation)\n",
    "\n",
    "9. [Data Visualization with Matplotlib and Seaborn](#chapter-9-data-visualization-with-matplotlib-and-seaborn)\n",
    "   - [Introduction to Data Visualization](#91-introduction-to-data-visualization)\n",
    "   - [Creating Plots with Matplotlib](#92-creating-plots-with-matplotlib)\n",
    "   - [Advanced Visualization with Seaborn](#93-advanced-visualization-with-seaborn)\n",
    "\n",
    "10. [Machine Learning Basics with Scikit-Learn](#chapter-10-machine-learning-basics-with-scikit-learn)\n",
    "    - [Introduction to Machine Learning](#101-introduction-to-machine-learning)\n",
    "    - [Data Preprocessing for Machine Learning](#102-data-preprocessing-for-machine-learning)\n",
    "    - [Regression and Classification](#103-regression-and-classification)\n",
    "\n",
    "11. [Advanced Data Science Topics](#chapter-11-advanced-data-science-topics)\n",
    "    - [Dimensionality Reduction](#111-dimensionality-reduction)\n",
    "    - [Clustering Techniques](#112-clustering-techniques)\n",
    "    - [Natural Language Processing](#113-natural-language-processing)\n",
    "\n",
    "12. [Conclusion and Further Learning](#chapter-12-conclusion-and-further-learning)\n",
    "\n",
    "\n",
    "<br>\n",
    "<br>\n",
    "<br>\n",
    "\n",
    "\n",
    "## **Part 1: Introduction to Python Programming**\n",
    "\n",
    "## Chapter 1: Getting Started with Python\n",
    "\n",
    "### 1.1 Introduction to Python\n",
    "\n",
    "Python is a powerful, high-level programming language known for its simplicity and readability. It has a vast ecosystem of libraries and frameworks that make it suitable for various applications, including web development, data analysis, artificial intelligence, and more.\n",
    "\n",
    "### 1.2 Setting up Python Environment\n",
    "\n",
    "To start coding in Python, you need to set up your development environment. Here's how to do it:\n",
    "\n",
    "#### Installing Python\n",
    "\n",
    "Visit the official Python website (https://www.python.org/downloads/) to download the latest version of Python. Follow the installation instructions for your operating system.\n",
    "\n",
    "#### Using Package Managers\n",
    "\n",
    "An alternative way to manage your Python environment is by using package managers like Anaconda (https://www.anaconda.com/products/distribution). Anaconda is popular among data scientists as it comes with pre-installed libraries for scientific computing and data analysis.\n",
    "\n",
    "As a side Python is now in Excel: https://support.microsoft.com/en-us/office/getting-started-with-python-in-excel-a33fbcbe-065b-41d3-82cf-23d05397f53d\n",
    "\n",
    "### 1.3 Hello World and Basic Syntax\n",
    "\n",
    "Let's write your first Python program: the classic \"Hello, World!\" Here's how you do it:"
   ]
  },
  {
   "cell_type": "code",
   "execution_count": 4,
   "id": "25d0162e",
   "metadata": {},
   "outputs": [
    {
     "name": "stdout",
     "output_type": "stream",
     "text": [
      "Hello, World!\n"
     ]
    }
   ],
   "source": [
    "print(\"Hello, World!\")"
   ]
  },
  {
   "cell_type": "markdown",
   "id": "2e6f05d4",
   "metadata": {},
   "source": [
    "This single line demonstrates Python's `print` function, which outputs text to the console.\n",
    "\n",
    "#### Variables and Data Types\n",
    "\n",
    "In Python, you don't need to declare a variable's type explicitly. Here are some common data types:\n",
    "\n",
    "- **Integers**: Whole numbers, e.g., `42`.\n",
    "- **Floats**: Decimal numbers, e.g., `3.14`.\n",
    "- **Strings**: Text, e.g., `\"Python is fun!\"`.\n",
    "- **Booleans**: True or False values, e.g., `True`."
   ]
  },
  {
   "cell_type": "code",
   "execution_count": 5,
   "id": "20f774c7",
   "metadata": {},
   "outputs": [],
   "source": [
    "age = 25           # Integer\n",
    "temperature = 98.6 # Float\n",
    "name = \"Alice\"     # String\n",
    "is_student = True  # Boolean"
   ]
  },
  {
   "cell_type": "markdown",
   "id": "c31dc73b",
   "metadata": {},
   "source": [
    "#### Basic Operations\n",
    "\n",
    "Python supports various mathematical and string operations:"
   ]
  },
  {
   "cell_type": "code",
   "execution_count": 6,
   "id": "39d64247",
   "metadata": {},
   "outputs": [],
   "source": [
    "a = 5\n",
    "b = 3\n",
    "sum = a + b       # Addition\n",
    "difference = a - b # Subtraction\n",
    "product = a * b   # Multiplication\n",
    "quotient = a / b  # Division\n",
    "\n",
    "greeting = \"Hello, \" + name  # String concatenation"
   ]
  },
  {
   "cell_type": "markdown",
   "id": "a44ef7fc",
   "metadata": {},
   "source": [
    "#### Commenting\n",
    "\n",
    "Comments are essential for code readability. In Python, use the `#` symbol to write single-line comments:"
   ]
  },
  {
   "cell_type": "code",
   "execution_count": 7,
   "id": "3e69995f",
   "metadata": {},
   "outputs": [],
   "source": [
    "# This is a single-line comment"
   ]
  },
  {
   "cell_type": "markdown",
   "id": "c616e6aa",
   "metadata": {},
   "source": [
    "Multi-line comments are achieved by enclosing text in triple quotes:"
   ]
  },
  {
   "cell_type": "code",
   "execution_count": 8,
   "id": "c104e4d9",
   "metadata": {},
   "outputs": [
    {
     "data": {
      "text/plain": [
       "'\\nThis is a\\nmulti-line\\ncomment.\\n'"
      ]
     },
     "execution_count": 8,
     "metadata": {},
     "output_type": "execute_result"
    }
   ],
   "source": [
    "\"\"\"\n",
    "This is a\n",
    "multi-line\n",
    "comment.\n",
    "\"\"\""
   ]
  },
  {
   "cell_type": "markdown",
   "id": "3aa54439",
   "metadata": {},
   "source": [
    "This concludes the content for the first chapter. Next, we'll dive into the world of variables and data types.\n",
    "\n",
    "\n",
    "\n",
    "\n",
    "## Chapter 2: Variables and Data Types\n",
    "\n",
    "### 2.1 Understanding Variables\n",
    "\n",
    "In Python, variables are used to store data values. Unlike some other programming languages, you don't need to declare a variable's type explicitly. Python dynamically determines the type based on the assigned value.\n",
    "\n",
    "#### Variable Naming Rules\n",
    "\n",
    "- Variable names must start with a letter or underscore (`_`), followed by letters, numbers, or underscores.\n",
    "- Variable names are case-sensitive (`myVariable` and `myvariable` are different).\n",
    "- Avoid using Python's reserved keywords (e.g., `if`, `while`, `for`) as variable names."
   ]
  },
  {
   "cell_type": "code",
   "execution_count": 9,
   "id": "3f908294",
   "metadata": {},
   "outputs": [],
   "source": [
    "name = \"John\"    # A string variable\n",
    "age = 30         # An integer variable\n",
    "is_student = True # A boolean variable"
   ]
  },
  {
   "cell_type": "markdown",
   "id": "2d61218d",
   "metadata": {},
   "source": [
    "### 2.2 Numeric Data Types\n",
    "\n",
    "Python supports various numeric types:\n",
    "\n",
    "#### Integers (`int`)\n",
    "\n",
    "Integers are whole numbers without decimal points."
   ]
  },
  {
   "cell_type": "code",
   "execution_count": 10,
   "id": "9b8df95a",
   "metadata": {},
   "outputs": [],
   "source": [
    "x = 5\n",
    "y = -3"
   ]
  },
  {
   "cell_type": "markdown",
   "id": "5f45fc47",
   "metadata": {},
   "source": [
    "#### Floating-Point Numbers (`float`)\n",
    "\n",
    "Floats are decimal numbers, and they can represent both whole and fractional values."
   ]
  },
  {
   "cell_type": "code",
   "execution_count": 11,
   "id": "8a228f76",
   "metadata": {},
   "outputs": [],
   "source": [
    "pi = 3.14159\n",
    "temperature = -2.5"
   ]
  },
  {
   "cell_type": "markdown",
   "id": "a4b4362a",
   "metadata": {},
   "source": [
    "#### Complex Numbers (`complex`)\n",
    "\n",
    "Complex numbers are represented as `a + bj`, where `a` and `b` are real numbers and `j` is the imaginary unit."
   ]
  },
  {
   "cell_type": "code",
   "execution_count": 12,
   "id": "5c57f09a",
   "metadata": {},
   "outputs": [],
   "source": [
    "z = 2 + 3j"
   ]
  },
  {
   "cell_type": "markdown",
   "id": "85aebd51",
   "metadata": {},
   "source": [
    "### 2.3 Strings and Text Manipulation\n",
    "\n",
    "Strings are sequences of characters enclosed in single (`'`) or double (`\"`) quotes.\n",
    "\n",
    "#### String Basics"
   ]
  },
  {
   "cell_type": "code",
   "execution_count": 13,
   "id": "d35cf621",
   "metadata": {},
   "outputs": [],
   "source": [
    "message = \"Hello, Python!\""
   ]
  },
  {
   "cell_type": "markdown",
   "id": "e6bf3f9f",
   "metadata": {},
   "source": [
    "#### String Indexing\n",
    "\n",
    "Strings can be indexed to access individual characters. Indexing starts from `0`."
   ]
  },
  {
   "cell_type": "code",
   "execution_count": 14,
   "id": "2897ca82",
   "metadata": {},
   "outputs": [],
   "source": [
    "first_char = message[0]   # 'H'\n",
    "third_char = message[2]   # 'l'\n",
    "last_char = message[-1]   # '!'"
   ]
  },
  {
   "cell_type": "markdown",
   "id": "528567bb",
   "metadata": {},
   "source": [
    "#### String Slicing\n",
    "\n",
    "You can extract substrings using slicing:"
   ]
  },
  {
   "cell_type": "code",
   "execution_count": 15,
   "id": "500564e3",
   "metadata": {},
   "outputs": [],
   "source": [
    "substring = message[7:13]   # 'Python'"
   ]
  },
  {
   "cell_type": "markdown",
   "id": "69b2f4e8",
   "metadata": {},
   "source": [
    "#### String Concatenation\n",
    "\n",
    "Strings can be combined using the `+` operator:"
   ]
  },
  {
   "cell_type": "code",
   "execution_count": 16,
   "id": "39ec4168",
   "metadata": {},
   "outputs": [],
   "source": [
    "greeting = \"Hello, \" + name  # 'Hello, John'"
   ]
  },
  {
   "cell_type": "markdown",
   "id": "3c259189",
   "metadata": {},
   "source": [
    "#### String Methods\n",
    "\n",
    "Python offers various built-in methods for string manipulation:"
   ]
  },
  {
   "cell_type": "code",
   "execution_count": 17,
   "id": "9f3a7199",
   "metadata": {},
   "outputs": [],
   "source": [
    "uppercase = message.upper()     # 'HELLO, PYTHON!'\n",
    "lowercase = message.lower()     # 'hello, python!'\n",
    "length = len(message)           # 14 (length of the string)"
   ]
  },
  {
   "cell_type": "markdown",
   "id": "28fbb04b",
   "metadata": {},
   "source": [
    "This wraps up the content for the second chapter. Next, we'll explore control flow and loops.\n",
    "\n",
    "## Chapter 3: Control Flow and Loops\n",
    "\n",
    "### 3.1 Conditional Statements\n",
    "\n",
    "Conditional statements allow your program to make decisions and execute different code based on certain conditions.\n",
    "\n",
    "#### `if` Statements\n",
    "\n",
    "The `if` statement is used for basic conditional execution:"
   ]
  },
  {
   "cell_type": "code",
   "execution_count": 18,
   "id": "e2a8346e",
   "metadata": {},
   "outputs": [],
   "source": [
    "age = 18\n",
    "if age < 18:\n",
    "    print(\"You are a minor.\")"
   ]
  },
  {
   "cell_type": "markdown",
   "id": "34885c7d",
   "metadata": {},
   "source": [
    "#### `if-else` Statements\n",
    "\n",
    "The `if-else` statement allows you to execute different code paths:"
   ]
  },
  {
   "cell_type": "code",
   "execution_count": 19,
   "id": "d77e4c9e",
   "metadata": {},
   "outputs": [
    {
     "name": "stdout",
     "output_type": "stream",
     "text": [
      "You are an adult.\n"
     ]
    }
   ],
   "source": [
    "if age < 18:\n",
    "    print(\"You are a minor.\")\n",
    "else:\n",
    "    print(\"You are an adult.\")"
   ]
  },
  {
   "cell_type": "markdown",
   "id": "7c77266b",
   "metadata": {},
   "source": [
    "#### `if-elif-else` Statements\n",
    "\n",
    "Use the `elif` statement to check multiple conditions:"
   ]
  },
  {
   "cell_type": "code",
   "execution_count": 20,
   "id": "045fdcfe",
   "metadata": {},
   "outputs": [
    {
     "name": "stdout",
     "output_type": "stream",
     "text": [
      "You just turned 18!\n"
     ]
    }
   ],
   "source": [
    "if age < 18:\n",
    "    print(\"You are a minor.\")\n",
    "elif age == 18:\n",
    "    print(\"You just turned 18!\")\n",
    "else:\n",
    "    print(\"You are an adult.\")"
   ]
  },
  {
   "cell_type": "markdown",
   "id": "5fbf7b17",
   "metadata": {},
   "source": [
    "### 3.2 Loops and Iteration\n",
    "\n",
    "Loops are used to execute a block of code repeatedly.\n",
    "\n",
    "#### `for` Loops\n",
    "\n",
    "The `for` loop iterates over a sequence (e.g., a list, range, string) and executes the code block for each item:"
   ]
  },
  {
   "cell_type": "code",
   "execution_count": 21,
   "id": "c02f2d91",
   "metadata": {},
   "outputs": [
    {
     "name": "stdout",
     "output_type": "stream",
     "text": [
      "0\n",
      "1\n",
      "2\n",
      "3\n",
      "4\n"
     ]
    }
   ],
   "source": [
    "for number in range(5):\n",
    "    print(number)"
   ]
  },
  {
   "cell_type": "markdown",
   "id": "5678da4f",
   "metadata": {},
   "source": [
    "#### `while` Loops\n",
    "\n",
    "The `while` loop repeats a code block as long as a condition is `True`:"
   ]
  },
  {
   "cell_type": "code",
   "execution_count": 22,
   "id": "8bd26415",
   "metadata": {},
   "outputs": [
    {
     "name": "stdout",
     "output_type": "stream",
     "text": [
      "0\n",
      "1\n",
      "2\n",
      "3\n",
      "4\n"
     ]
    }
   ],
   "source": [
    "count = 0\n",
    "while count < 5:\n",
    "    print(count)\n",
    "    count += 1"
   ]
  },
  {
   "cell_type": "markdown",
   "id": "2a6158a2",
   "metadata": {},
   "source": [
    "### 3.3 List Comprehensions\n",
    "\n",
    "List comprehensions offer a concise way to create lists based on existing ones. They combine a loop and a list creation in a single line:"
   ]
  },
  {
   "cell_type": "code",
   "execution_count": 23,
   "id": "d45cb83d",
   "metadata": {},
   "outputs": [],
   "source": [
    "squares = [x**2 for x in range(10)]\n",
    "evens = [x for x in range(20) if x % 2 == 0]"
   ]
  },
  {
   "cell_type": "markdown",
   "id": "da570084",
   "metadata": {},
   "source": [
    "List comprehensions are particularly useful for transforming data or filtering elements.\n",
    "\n",
    "This concludes the content for the third chapter. In the next chapter, we'll dive into functions and modules.\n",
    "\n",
    "\n",
    "\n",
    "## **Part 2: Intermediate Python Concepts**\n",
    "\n",
    "## Chapter 4: Functions and Modules\n",
    "\n",
    "In this chapter, we'll explore how to create and use functions, as well as how to work with both built-in and external modules.\n",
    "\n",
    "### 4.1 Defining Functions\n",
    "\n",
    "Functions are blocks of code that perform specific tasks. They help organize code and promote reusability.\n",
    "\n",
    "#### Function Syntax"
   ]
  },
  {
   "cell_type": "code",
   "execution_count": 24,
   "id": "9a635505",
   "metadata": {},
   "outputs": [],
   "source": [
    "def greet(name):\n",
    "    \"\"\"Prints a greeting message.\"\"\"\n",
    "    print(f\"Hello, {name}!\")"
   ]
  },
  {
   "cell_type": "markdown",
   "id": "515f9a44",
   "metadata": {},
   "source": [
    "#### Function Parameters\n",
    "\n",
    "Functions can take parameters, which are values passed to the function when it's called:"
   ]
  },
  {
   "cell_type": "code",
   "execution_count": 25,
   "id": "8282d041",
   "metadata": {},
   "outputs": [],
   "source": [
    "def multiply(a, b):\n",
    "    \"\"\"Returns the product of two numbers.\"\"\"\n",
    "    return a * b"
   ]
  },
  {
   "cell_type": "markdown",
   "id": "1f4efbd8",
   "metadata": {},
   "source": [
    "#### Function Invocation\n",
    "\n",
    "To use a function, you call it by its name and provide necessary arguments:"
   ]
  },
  {
   "cell_type": "code",
   "execution_count": 26,
   "id": "d7a3aac8",
   "metadata": {},
   "outputs": [
    {
     "name": "stdout",
     "output_type": "stream",
     "text": [
      "Hello, Alice!\n"
     ]
    }
   ],
   "source": [
    "greet(\"Alice\")             # Output: Hello, Alice!\n",
    "result = multiply(5, 3)   # result = 15"
   ]
  },
  {
   "cell_type": "markdown",
   "id": "d388c6e1",
   "metadata": {},
   "source": [
    "### 4.2 Using Built-in and External Modules\n",
    "\n",
    "Python offers a vast standard library with built-in modules for various tasks. You can also import and use external modules.\n",
    "\n",
    "#### Built-in Modules"
   ]
  },
  {
   "cell_type": "code",
   "execution_count": 27,
   "id": "a9d5421f",
   "metadata": {},
   "outputs": [],
   "source": [
    "import math\n",
    "\n",
    "sqrt_2 = math.sqrt(2)"
   ]
  },
  {
   "cell_type": "markdown",
   "id": "a9830761",
   "metadata": {},
   "source": [
    "#### External Modules"
   ]
  },
  {
   "cell_type": "code",
   "execution_count": 28,
   "id": "aca89572",
   "metadata": {},
   "outputs": [],
   "source": [
    "import pandas as pd\n",
    "\n",
    "# example csv data\n",
    "data = 'https://raw.githubusercontent.com/mwaskom/seaborn-data/master/iris.csv'\n",
    "\n",
    "data = pd.read_csv(data)"
   ]
  },
  {
   "cell_type": "markdown",
   "id": "5d749dab",
   "metadata": {},
   "source": [
    "### 4.3 Lambda Functions\n",
    "\n",
    "Lambda functions, or anonymous functions, are concise functions without a name. They are useful for small tasks.\n",
    "\n",
    "#### Lambda Syntax"
   ]
  },
  {
   "cell_type": "code",
   "execution_count": 29,
   "id": "2acb1b8e",
   "metadata": {},
   "outputs": [],
   "source": [
    "square = lambda x: x**2"
   ]
  },
  {
   "cell_type": "markdown",
   "id": "8f821fcf",
   "metadata": {},
   "source": [
    "#### Using Lambda Functions"
   ]
  },
  {
   "cell_type": "code",
   "execution_count": 30,
   "id": "59f12d7c",
   "metadata": {},
   "outputs": [],
   "source": [
    "result = square(4)   # result = 16"
   ]
  },
  {
   "cell_type": "markdown",
   "id": "6bbb492e",
   "metadata": {},
   "source": [
    "Lambda functions are commonly used with higher-order functions like `map`, `filter`, and `sort`.\n",
    "\n",
    "This concludes the content for the fourth chapter. In the next section, we'll explore working with various data structures in Python.\n",
    "\n",
    "\n",
    "## Chapter 5: Working with Data Structures\n",
    "\n",
    "In this chapter, we'll explore different data structures available in Python and how to work with them effectively.\n",
    "\n",
    "### 5.1 Lists, Tuples, and Sets\n",
    "\n",
    "#### Lists\n",
    "\n",
    "Lists are ordered collections that can store various data types. They are mutable, meaning you can change their contents after creation."
   ]
  },
  {
   "cell_type": "code",
   "execution_count": 31,
   "id": "7d0370f9",
   "metadata": {},
   "outputs": [],
   "source": [
    "fruits = [\"apple\", \"banana\", \"cherry\"]\n",
    "fruits.append(\"orange\")    # Add an item\n",
    "fruits[1] = \"grape\"        # Modify an item"
   ]
  },
  {
   "cell_type": "markdown",
   "id": "4e304e93",
   "metadata": {},
   "source": [
    "**Extra:** print lists with index using `enumerate()`"
   ]
  },
  {
   "cell_type": "code",
   "execution_count": 32,
   "id": "a2337594",
   "metadata": {},
   "outputs": [
    {
     "name": "stdout",
     "output_type": "stream",
     "text": [
      "0 Apple\n",
      "1 Grape\n",
      "2 Cherry\n",
      "3 Orange\n"
     ]
    }
   ],
   "source": [
    "for i, element in enumerate(fruits):\n",
    "    print(i, element.title())"
   ]
  },
  {
   "cell_type": "markdown",
   "id": "6ef49278",
   "metadata": {},
   "source": [
    "#### Tuples\n",
    "\n",
    "Tuples are similar to lists, but they are immutable once created. They use parentheses instead of square brackets."
   ]
  },
  {
   "cell_type": "code",
   "execution_count": 33,
   "id": "db9e5a98",
   "metadata": {},
   "outputs": [],
   "source": [
    "point = (3, 5)\n",
    "x, y = point      # Unpacking"
   ]
  },
  {
   "cell_type": "markdown",
   "id": "d51c7e0d",
   "metadata": {},
   "source": [
    "#### Sets\n",
    "\n",
    "Sets are unordered collections of unique elements. They're useful for tasks like removing duplicates from a list."
   ]
  },
  {
   "cell_type": "code",
   "execution_count": 34,
   "id": "f3a9e39f",
   "metadata": {},
   "outputs": [],
   "source": [
    "colors = {\"red\", \"green\", \"blue\"}\n",
    "colors.add(\"yellow\")   # Add an item"
   ]
  },
  {
   "cell_type": "markdown",
   "id": "d75dce41",
   "metadata": {},
   "source": [
    "### 5.2 Dictionaries and Mapping\n",
    "\n",
    "Dictionaries are collections of key-value pairs. They allow fast lookups and are used to store data with relationships."
   ]
  },
  {
   "cell_type": "code",
   "execution_count": 35,
   "id": "f82ca0d2",
   "metadata": {},
   "outputs": [],
   "source": [
    "person = {\"name\": \"John\", \"age\": 30, \"city\": \"New York\"}\n",
    "person[\"age\"] = 31     # Update a value"
   ]
  },
  {
   "cell_type": "markdown",
   "id": "9f7670b8",
   "metadata": {},
   "source": [
    "### 5.3 Collections Module\n",
    "\n",
    "The `collections` module provides advanced data structures beyond the built-in ones.\n",
    "\n",
    "#### `defaultdict`\n",
    "\n",
    "A `defaultdict` is a dictionary with default values for keys that don't exist."
   ]
  },
  {
   "cell_type": "code",
   "execution_count": 36,
   "id": "c766e955",
   "metadata": {},
   "outputs": [
    {
     "name": "stdout",
     "output_type": "stream",
     "text": [
      "0\n"
     ]
    }
   ],
   "source": [
    "from collections import defaultdict\n",
    "\n",
    "grades = defaultdict(int)\n",
    "grades[\"Alice\"] = 95\n",
    "print(grades[\"Bob\"])   # Output: 0"
   ]
  },
  {
   "cell_type": "code",
   "execution_count": 37,
   "id": "db73133e",
   "metadata": {},
   "outputs": [],
   "source": [
    "from collections import Counter\n",
    "\n",
    "votes = [\"A\", \"B\", \"A\", \"C\", \"B\", \"A\"]\n",
    "vote_counts = Counter(votes)   # {'A': 3, 'B': 2, 'C': 1}"
   ]
  },
  {
   "cell_type": "markdown",
   "id": "640c1f43",
   "metadata": {},
   "source": [
    "This concludes the content for the fifth chapter. In the next section, we'll explore file handling and input/output operations in Python.\n",
    "\n",
    "\n",
    "## Chapter 6: File Handling and I/O\n",
    "\n",
    "In this chapter, we'll cover how to work with files, read and write data, and handle exceptions that might occur during file operations.\n",
    "\n",
    "### 6.1 Reading and Writing Files\n",
    "\n",
    "#### Reading Files\n",
    "\n",
    "To read data from a file, you need to open it and then read its contents:"
   ]
  },
  {
   "cell_type": "code",
   "execution_count": 38,
   "id": "b22303e8",
   "metadata": {},
   "outputs": [],
   "source": [
    "content = \"\"\"Hello, this is an example text file.\n",
    "It contains multiple lines of text.\n",
    "Feel free to modify this content as needed.\"\"\"\n",
    "\n",
    "# Save the content to a file\n",
    "file_path = 'data/file_example.txt'\n",
    "with open(file_path, 'w') as file:\n",
    "    file.write(content)"
   ]
  },
  {
   "cell_type": "code",
   "execution_count": 39,
   "id": "d7c77027",
   "metadata": {},
   "outputs": [
    {
     "name": "stdout",
     "output_type": "stream",
     "text": [
      "Hello, this is an example text file.\n",
      "It contains multiple lines of text.\n",
      "Feel free to modify this content as needed.\n"
     ]
    }
   ],
   "source": [
    "with open(\"data/file_example.txt\", \"r\") as file:\n",
    "    content = file.read()\n",
    "    print(content)"
   ]
  },
  {
   "cell_type": "markdown",
   "id": "b0373167",
   "metadata": {},
   "source": [
    "#### Writing Files\n",
    "\n",
    "To write data to a file, you can open it in write mode:"
   ]
  },
  {
   "cell_type": "code",
   "execution_count": 40,
   "id": "f9f24d35",
   "metadata": {},
   "outputs": [],
   "source": [
    "with open(\"data/output.txt\", \"w\") as file:\n",
    "    file.write(\"Hello, World!\")"
   ]
  },
  {
   "cell_type": "markdown",
   "id": "072716fb",
   "metadata": {},
   "source": [
    "### 6.2 Working with CSV and JSON\n",
    "\n",
    "#### CSV Files\n",
    "\n",
    "CSV (Comma-Separated Values) files are a common way to store tabular data:"
   ]
  },
  {
   "cell_type": "code",
   "execution_count": 41,
   "id": "533285a5",
   "metadata": {},
   "outputs": [],
   "source": [
    "# first creating a .csv from a .txt file using pandas - don't worry about this for now\n",
    "read_file = pd.read_csv('data/text_file_of_csv_example.txt')\n",
    "read_file.to_csv('data/csv_example_file.csv', index=None)"
   ]
  },
  {
   "cell_type": "code",
   "execution_count": 42,
   "id": "2fb8365c",
   "metadata": {},
   "outputs": [
    {
     "name": "stdout",
     "output_type": "stream",
     "text": [
      "['sepal_length', 'sepal_width', 'petal_length', 'petal_width', 'species']\n",
      "['5.1', '3.5', '1.4', '0.2', 'setosa']\n",
      "['4.9', '3.0', '1.4', '0.2', 'setosa']\n",
      "['4.7', '3.2', '1.3', '0.2', 'setosa']\n",
      "['4.6', '3.1', '1.5', '0.2', 'setosa']\n",
      "['5.0', '3.6', '1.4', '0.2', 'setosa']\n",
      "['5.4', '3.9', '1.7', '0.4', 'setosa']\n",
      "['4.6', '3.4', '1.4', '0.3', 'setosa']\n",
      "['5.0', '3.4', '1.5', '0.2', 'setosa']\n",
      "['4.4', '2.9', '1.4', '0.2', 'setosa']\n",
      "['4.9', '3.1', '1.5', '0.1', 'setosa']\n",
      "['5.4', '3.7', '1.5', '0.2', 'setosa']\n",
      "['4.8', '3.4', '1.6', '0.2', 'setosa']\n",
      "['4.8', '3.0', '1.4', '0.1', 'setosa']\n",
      "['4.3', '3.0', '1.1', '0.1', 'setosa']\n",
      "['5.8', '4.0', '1.2', '0.2', 'setosa']\n",
      "['5.7', '4.4', '1.5', '0.4', 'setosa']\n",
      "['5.4', '3.9', '1.3', '0.4', 'setosa']\n",
      "['5.1', '3.5', '1.4', '0.3', 'setosa']\n",
      "['5.7', '3.8', '1.7', '0.3', 'setosa']\n",
      "['5.1', '3.8', '1.5', '0.3', 'setosa']\n",
      "['5.4', '3.4', '1.7', '0.2', 'setosa']\n",
      "['5.1', '3.7', '1.5', '0.4', 'setosa']\n",
      "['4.6', '3.6', '1.0', '0.2', 'setosa']\n",
      "['5.1', '3.3', '1.7', '0.5', 'setosa']\n",
      "['4.8', '3.4', '1.9', '0.2', 'setosa']\n",
      "['5.0', '3.0', '1.6', '0.2', 'setosa']\n",
      "['5.0', '3.4', '1.6', '0.4', 'setosa']\n",
      "['5.2', '3.5', '1.5', '0.2', 'setosa']\n",
      "['5.2', '3.4', '1.4', '0.2', 'setosa']\n",
      "['4.7', '3.2', '1.6', '0.2', 'setosa']\n",
      "['4.8', '3.1', '1.6', '0.2', 'setosa']\n",
      "['5.4', '3.4', '1.5', '0.4', 'setosa']\n",
      "['5.2', '4.1', '1.5', '0.1', 'setosa']\n",
      "['5.5', '4.2', '1.4', '0.2', 'setosa']\n",
      "['4.9', '3.1', '1.5', '0.2', 'setosa']\n",
      "['5.0', '3.2', '1.2', '0.2', 'setosa']\n",
      "['5.5', '3.5', '1.3', '0.2', 'setosa']\n",
      "['4.9', '3.6', '1.4', '0.1', 'setosa']\n",
      "['4.4', '3.0', '1.3', '0.2', 'setosa']\n",
      "['5.1', '3.4', '1.5', '0.2', 'setosa']\n",
      "['5.0', '3.5', '1.3', '0.3', 'setosa']\n",
      "['4.5', '2.3', '1.3', '0.3', 'setosa']\n",
      "['4.4', '3.2', '1.3', '0.2', 'setosa']\n",
      "['5.0', '3.5', '1.6', '0.6', 'setosa']\n",
      "['5.1', '3.8', '1.9', '0.4', 'setosa']\n",
      "['4.8', '3.0', '1.4', '0.3', 'setosa']\n",
      "['5.1', '3.8', '1.6', '0.2', 'setosa']\n",
      "['4.6', '3.2', '1.4', '0.2', 'setosa']\n",
      "['5.3', '3.7', '1.5', '0.2', 'setosa']\n",
      "['5.0', '3.3', '1.4', '0.2', 'setosa']\n",
      "['7.0', '3.2', '4.7', '1.4', 'versicolor']\n",
      "['6.4', '3.2', '4.5', '1.5', 'versicolor']\n",
      "['6.9', '3.1', '4.9', '1.5', 'versicolor']\n",
      "['5.5', '2.3', '4.0', '1.3', 'versicolor']\n",
      "['6.5', '2.8', '4.6', '1.5', 'versicolor']\n",
      "['5.7', '2.8', '4.5', '1.3', 'versicolor']\n",
      "['6.3', '3.3', '4.7', '1.6', 'versicolor']\n",
      "['4.9', '2.4', '3.3', '1.0', 'versicolor']\n",
      "['6.6', '2.9', '4.6', '1.3', 'versicolor']\n",
      "['5.2', '2.7', '3.9', '1.4', 'versicolor']\n",
      "['5.0', '2.0', '3.5', '1.0', 'versicolor']\n",
      "['5.9', '3.0', '4.2', '1.5', 'versicolor']\n",
      "['6.0', '2.2', '4.0', '1.0', 'versicolor']\n",
      "['6.1', '2.9', '4.7', '1.4', 'versicolor']\n",
      "['5.6', '2.9', '3.6', '1.3', 'versicolor']\n",
      "['6.7', '3.1', '4.4', '1.4', 'versicolor']\n",
      "['5.6', '3.0', '4.5', '1.5', 'versicolor']\n",
      "['5.8', '2.7', '4.1', '1.0', 'versicolor']\n",
      "['6.2', '2.2', '4.5', '1.5', 'versicolor']\n",
      "['5.6', '2.5', '3.9', '1.1', 'versicolor']\n",
      "['5.9', '3.2', '4.8', '1.8', 'versicolor']\n",
      "['6.1', '2.8', '4.0', '1.3', 'versicolor']\n",
      "['6.3', '2.5', '4.9', '1.5', 'versicolor']\n",
      "['6.1', '2.8', '4.7', '1.2', 'versicolor']\n",
      "['6.4', '2.9', '4.3', '1.3', 'versicolor']\n",
      "['6.6', '3.0', '4.4', '1.4', 'versicolor']\n",
      "['6.8', '2.8', '4.8', '1.4', 'versicolor']\n",
      "['6.7', '3.0', '5.0', '1.7', 'versicolor']\n",
      "['6.0', '2.9', '4.5', '1.5', 'versicolor']\n",
      "['5.7', '2.6', '3.5', '1.0', 'versicolor']\n",
      "['5.5', '2.4', '3.8', '1.1', 'versicolor']\n",
      "['5.5', '2.4', '3.7', '1.0', 'versicolor']\n",
      "['5.8', '2.7', '3.9', '1.2', 'versicolor']\n",
      "['6.0', '2.7', '5.1', '1.6', 'versicolor']\n",
      "['5.4', '3.0', '4.5', '1.5', 'versicolor']\n",
      "['6.0', '3.4', '4.5', '1.6', 'versicolor']\n",
      "['6.7', '3.1', '4.7', '1.5', 'versicolor']\n",
      "['6.3', '2.3', '4.4', '1.3', 'versicolor']\n",
      "['5.6', '3.0', '4.1', '1.3', 'versicolor']\n",
      "['5.5', '2.5', '4.0', '1.3', 'versicolor']\n",
      "['5.5', '2.6', '4.4', '1.2', 'versicolor']\n",
      "['6.1', '3.0', '4.6', '1.4', 'versicolor']\n",
      "['5.8', '2.6', '4.0', '1.2', 'versicolor']\n",
      "['5.0', '2.3', '3.3', '1.0', 'versicolor']\n",
      "['5.6', '2.7', '4.2', '1.3', 'versicolor']\n",
      "['5.7', '3.0', '4.2', '1.2', 'versicolor']\n",
      "['5.7', '2.9', '4.2', '1.3', 'versicolor']\n",
      "['6.2', '2.9', '4.3', '1.3', 'versicolor']\n",
      "['5.1', '2.5', '3.0', '1.1', 'versicolor']\n",
      "['5.7', '2.8', '4.1', '1.3', 'versicolor']\n",
      "['6.3', '3.3', '6.0', '2.5', 'virginica']\n",
      "['5.8', '2.7', '5.1', '1.9', 'virginica']\n",
      "['7.1', '3.0', '5.9', '2.1', 'virginica']\n",
      "['6.3', '2.9', '5.6', '1.8', 'virginica']\n",
      "['6.5', '3.0', '5.8', '2.2', 'virginica']\n",
      "['7.6', '3.0', '6.6', '2.1', 'virginica']\n",
      "['4.9', '2.5', '4.5', '1.7', 'virginica']\n",
      "['7.3', '2.9', '6.3', '1.8', 'virginica']\n",
      "['6.7', '2.5', '5.8', '1.8', 'virginica']\n",
      "['7.2', '3.6', '6.1', '2.5', 'virginica']\n",
      "['6.5', '3.2', '5.1', '2.0', 'virginica']\n",
      "['6.4', '2.7', '5.3', '1.9', 'virginica']\n",
      "['6.8', '3.0', '5.5', '2.1', 'virginica']\n",
      "['5.7', '2.5', '5.0', '2.0', 'virginica']\n",
      "['5.8', '2.8', '5.1', '2.4', 'virginica']\n",
      "['6.4', '3.2', '5.3', '2.3', 'virginica']\n",
      "['6.5', '3.0', '5.5', '1.8', 'virginica']\n",
      "['7.7', '3.8', '6.7', '2.2', 'virginica']\n",
      "['7.7', '2.6', '6.9', '2.3', 'virginica']\n",
      "['6.0', '2.2', '5.0', '1.5', 'virginica']\n",
      "['6.9', '3.2', '5.7', '2.3', 'virginica']\n",
      "['5.6', '2.8', '4.9', '2.0', 'virginica']\n",
      "['7.7', '2.8', '6.7', '2.0', 'virginica']\n",
      "['6.3', '2.7', '4.9', '1.8', 'virginica']\n",
      "['6.7', '3.3', '5.7', '2.1', 'virginica']\n",
      "['7.2', '3.2', '6.0', '1.8', 'virginica']\n",
      "['6.2', '2.8', '4.8', '1.8', 'virginica']\n",
      "['6.1', '3.0', '4.9', '1.8', 'virginica']\n",
      "['6.4', '2.8', '5.6', '2.1', 'virginica']\n",
      "['7.2', '3.0', '5.8', '1.6', 'virginica']\n",
      "['7.4', '2.8', '6.1', '1.9', 'virginica']\n",
      "['7.9', '3.8', '6.4', '2.0', 'virginica']\n",
      "['6.4', '2.8', '5.6', '2.2', 'virginica']\n",
      "['6.3', '2.8', '5.1', '1.5', 'virginica']\n",
      "['6.1', '2.6', '5.6', '1.4', 'virginica']\n",
      "['7.7', '3.0', '6.1', '2.3', 'virginica']\n",
      "['6.3', '3.4', '5.6', '2.4', 'virginica']\n",
      "['6.4', '3.1', '5.5', '1.8', 'virginica']\n",
      "['6.0', '3.0', '4.8', '1.8', 'virginica']\n",
      "['6.9', '3.1', '5.4', '2.1', 'virginica']\n",
      "['6.7', '3.1', '5.6', '2.4', 'virginica']\n",
      "['6.9', '3.1', '5.1', '2.3', 'virginica']\n",
      "['5.8', '2.7', '5.1', '1.9', 'virginica']\n",
      "['6.8', '3.2', '5.9', '2.3', 'virginica']\n",
      "['6.7', '3.3', '5.7', '2.5', 'virginica']\n",
      "['6.7', '3.0', '5.2', '2.3', 'virginica']\n",
      "['6.3', '2.5', '5.0', '1.9', 'virginica']\n",
      "['6.5', '3.0', '5.2', '2.0', 'virginica']\n",
      "['6.2', '3.4', '5.4', '2.3', 'virginica']\n",
      "['5.9', '3.0', '5.1', '1.8', 'virginica']\n"
     ]
    }
   ],
   "source": [
    "import csv\n",
    "\n",
    "with open('data/csv_example_file.csv', \"r\") as file:\n",
    "    reader = csv.reader(file)\n",
    "    for row in reader:\n",
    "        print(row)"
   ]
  },
  {
   "cell_type": "markdown",
   "id": "b22637cb",
   "metadata": {},
   "source": [
    "#### JSON Files\n",
    "\n",
    "JSON (JavaScript Object Notation) is used to store structured data:"
   ]
  },
  {
   "cell_type": "code",
   "execution_count": 43,
   "id": "aa8c3d92",
   "metadata": {},
   "outputs": [],
   "source": [
    "import json\n",
    "\n",
    "data = {\"name\": \"John\", \"age\": 30}\n",
    "with open(\"data/json_example_file.json\", \"w\") as file:\n",
    "    json.dump(data, file)"
   ]
  },
  {
   "cell_type": "markdown",
   "id": "87c0c495",
   "metadata": {},
   "source": [
    "### 6.3 Exception Handling\n",
    "\n",
    "Exception handling allows you to gracefully manage errors in your code."
   ]
  },
  {
   "cell_type": "code",
   "execution_count": 44,
   "id": "81815155",
   "metadata": {},
   "outputs": [
    {
     "name": "stdout",
     "output_type": "stream",
     "text": [
      "Error: Division by zero\n",
      "Execution completed\n"
     ]
    }
   ],
   "source": [
    "try:\n",
    "    result = 10 / 0\n",
    "except ZeroDivisionError:\n",
    "    print(\"Error: Division by zero\")\n",
    "else:\n",
    "    print(result)\n",
    "finally:\n",
    "    print(\"Execution completed\")"
   ]
  },
  {
   "cell_type": "markdown",
   "id": "c4fb8ff1",
   "metadata": {},
   "source": [
    "Use `try`, `except`, `else`, and `finally` to control the flow when an exception occurs.\n",
    "\n",
    "This concludes the content for the sixth chapter. In the next section, we'll dive into the world of **NumPy** and data manipulation.\n",
    "\n",
    "\n",
    "## **Part 3: Advanced Python and Data Science Techniques**\n",
    "\n",
    "## Chapter 7: NumPy and Data Manipulation\n",
    "\n",
    "NumPy is a fundamental package for scientific computing with Python. It provides support for arrays, matrices, and various mathematical operations. This chapter will introduce you to the basics of NumPy and how to manipulate data effectively.\n",
    "\n",
    "### 7.1 Introduction to NumPy\n",
    "\n",
    "#### What is NumPy?\n",
    "\n",
    "NumPy stands for Numerical Python. It is an open-source library that provides support for large, multi-dimensional arrays and matrices, along with a wide range of mathematical functions to operate on these arrays.\n",
    "\n",
    "#### Installing NumPy\n",
    "\n",
    "You can install NumPy using the following command:\n",
    "\n",
    "```bash\n",
    "pip install numpy\n",
    "```"
   ]
  },
  {
   "cell_type": "markdown",
   "id": "83406415",
   "metadata": {},
   "source": [
    "#### Importing NumPy"
   ]
  },
  {
   "cell_type": "code",
   "execution_count": 45,
   "id": "ce05da0a",
   "metadata": {},
   "outputs": [],
   "source": [
    "import numpy as np"
   ]
  },
  {
   "cell_type": "markdown",
   "id": "11bae1d5",
   "metadata": {},
   "source": [
    "### 7.2 Array Creation and Manipulation\n",
    "\n",
    "#### Creating NumPy Arrays"
   ]
  },
  {
   "cell_type": "code",
   "execution_count": 46,
   "id": "d5e58a29",
   "metadata": {},
   "outputs": [],
   "source": [
    "import numpy as np\n",
    "\n",
    "# Create a 1D array\n",
    "arr_1d = np.array([1, 2, 3, 4, 5])\n",
    "\n",
    "# Create a 2D array\n",
    "arr_2d = np.array([[1, 2, 3], [4, 5, 6]])"
   ]
  },
  {
   "cell_type": "markdown",
   "id": "f6517a7f",
   "metadata": {},
   "source": [
    "#### Array Properties"
   ]
  },
  {
   "cell_type": "code",
   "execution_count": 47,
   "id": "eae0cc15",
   "metadata": {},
   "outputs": [],
   "source": [
    "shape = arr_2d.shape   # Shape of the array (rows, columns)\n",
    "dtype = arr_2d.dtype   # Data type of the elements"
   ]
  },
  {
   "cell_type": "markdown",
   "id": "b0dc0036",
   "metadata": {},
   "source": [
    "#### Mathematical Operations\n",
    "\n",
    "NumPy supports element-wise operations:"
   ]
  },
  {
   "cell_type": "code",
   "execution_count": 48,
   "id": "2758baf1",
   "metadata": {},
   "outputs": [],
   "source": [
    "result = arr_1d + 2       # Add 2 to each element\n",
    "squared = arr_2d ** 2     # Square each element"
   ]
  },
  {
   "cell_type": "markdown",
   "id": "9bf91b53",
   "metadata": {},
   "source": [
    "### 7.3 Array Indexing and Slicing\n",
    "\n",
    "#### Indexing"
   ]
  },
  {
   "cell_type": "code",
   "execution_count": 49,
   "id": "b8ddae9f",
   "metadata": {},
   "outputs": [],
   "source": [
    "element = arr_1d[2]       # Get the element at index 2\n",
    "element = arr_2d[1, 0]    # Get the element in the second row, first column"
   ]
  },
  {
   "cell_type": "markdown",
   "id": "c412c6e7",
   "metadata": {},
   "source": [
    "#### Slicing"
   ]
  },
  {
   "cell_type": "code",
   "execution_count": 50,
   "id": "1030a77d",
   "metadata": {},
   "outputs": [],
   "source": [
    "subarray = arr_1d[1:4]    # Get elements from index 1 to 3\n",
    "subarray = arr_2d[:, 1:]  # Get all rows, columns from index 1 onward"
   ]
  },
  {
   "cell_type": "markdown",
   "id": "889eea0b",
   "metadata": {},
   "source": [
    "#### Boolean Indexing"
   ]
  },
  {
   "cell_type": "code",
   "execution_count": 51,
   "id": "4b0cf944",
   "metadata": {},
   "outputs": [],
   "source": [
    "boolean_mask = arr_1d > 2   # Boolean mask of elements greater than 2\n",
    "filtered = arr_1d[boolean_mask]  # Filter elements using the mask"
   ]
  },
  {
   "cell_type": "markdown",
   "id": "94f16152",
   "metadata": {},
   "source": [
    "NumPy provides many more advanced features, such as broadcasting, aggregation, and more.\n",
    "\n",
    "This concludes the content for the seventh chapter. In the next section, we'll explore **Pandas** for data analysis.\n",
    "\n",
    "\n",
    "## Chapter 8: Pandas for Data Analysis\n",
    "\n",
    "Pandas is a powerful library for data analysis and manipulation. It provides data structures like Series and DataFrame, which allow you to work with structured data efficiently. This chapter will introduce you to Pandas and how to use it for various data analysis tasks.\n",
    "\n",
    "### 8.1 Introduction to Pandas\n",
    "\n",
    "#### What is Pandas?\n",
    "\n",
    "Pandas is an open-source library built on top of NumPy that provides fast, flexible, and expressive data structures designed to work with \"relational\" or \"labeled\" data. It's particularly useful for working with tabular data.\n",
    "\n",
    "#### Installing Pandas\n",
    "\n",
    "To install Pandas, you can use the following command:"
   ]
  },
  {
   "cell_type": "code",
   "execution_count": 52,
   "id": "940c6e95",
   "metadata": {},
   "outputs": [
    {
     "name": "stderr",
     "output_type": "stream",
     "text": [
      "\u001b[33mDEPRECATION: Loading egg at /Users/davidvanderbyl/anaconda3/envs/myenv/lib/python3.11/site-packages/code_to_text-0.2-py3.11.egg is deprecated. pip 23.3 will enforce this behaviour change. A possible replacement is to use pip for package installation..\u001b[0m\u001b[33m\n"
     ]
    },
    {
     "name": "stdout",
     "output_type": "stream",
     "text": [
      "Requirement already satisfied: pandas in /Users/davidvanderbyl/anaconda3/envs/myenv/lib/python3.11/site-packages (2.0.1)\n",
      "Requirement already satisfied: python-dateutil>=2.8.2 in /Users/davidvanderbyl/anaconda3/envs/myenv/lib/python3.11/site-packages (from pandas) (2.8.2)\n",
      "Requirement already satisfied: pytz>=2020.1 in /Users/davidvanderbyl/anaconda3/envs/myenv/lib/python3.11/site-packages (from pandas) (2023.3)\n",
      "Requirement already satisfied: tzdata>=2022.1 in /Users/davidvanderbyl/anaconda3/envs/myenv/lib/python3.11/site-packages (from pandas) (2023.3)\n",
      "Requirement already satisfied: numpy>=1.21.0 in /Users/davidvanderbyl/anaconda3/envs/myenv/lib/python3.11/site-packages (from pandas) (1.25.1)\n",
      "Requirement already satisfied: six>=1.5 in /Users/davidvanderbyl/anaconda3/envs/myenv/lib/python3.11/site-packages (from python-dateutil>=2.8.2->pandas) (1.16.0)\n"
     ]
    },
    {
     "name": "stderr",
     "output_type": "stream",
     "text": [
      "\u001b[0m\u001b[33mDEPRECATION: torchsde 0.2.5 has a non-standard dependency specifier numpy>=1.19.*; python_version >= \"3.7\". pip 23.3 will enforce this behaviour change. A possible replacement is to upgrade to a newer version of torchsde or contact the author to suggest that they release a version with a conforming dependency specifiers. Discussion can be found at https://github.com/pypa/pip/issues/12063\u001b[0m\u001b[33m\n",
      "\u001b[0m"
     ]
    }
   ],
   "source": [
    "%%bash\n",
    "pip install pandas"
   ]
  },
  {
   "cell_type": "markdown",
   "id": "c40aacd5",
   "metadata": {},
   "source": [
    "#### Importing Pandas"
   ]
  },
  {
   "cell_type": "code",
   "execution_count": 53,
   "id": "9cc1e8ee",
   "metadata": {},
   "outputs": [],
   "source": [
    "import pandas as pd"
   ]
  },
  {
   "cell_type": "markdown",
   "id": "406e47fb",
   "metadata": {},
   "source": [
    "### 8.2 DataFrame Manipulation\n",
    "\n",
    "#### Creating DataFrames\n",
    "\n",
    "DataFrames are 2-dimensional labeled data structures, akin to tables in a relational database or spreadsheets. You can create DataFrames using various methods:"
   ]
  },
  {
   "cell_type": "code",
   "execution_count": 54,
   "id": "5baa15d2",
   "metadata": {},
   "outputs": [],
   "source": [
    "import pandas as pd\n",
    "\n",
    "# Creating a DataFrame from a dictionary\n",
    "data = {\"Name\": [\"Alice\", \"Bob\", \"Charlie\"],\n",
    "        \"Age\": [25, 30, 22]}\n",
    "df = pd.DataFrame(data)"
   ]
  },
  {
   "cell_type": "markdown",
   "id": "fa943bc9",
   "metadata": {},
   "source": [
    "#### Exploring DataFrames"
   ]
  },
  {
   "cell_type": "code",
   "execution_count": 55,
   "id": "742df573",
   "metadata": {},
   "outputs": [
    {
     "name": "stdout",
     "output_type": "stream",
     "text": [
      "<class 'pandas.core.frame.DataFrame'>\n",
      "RangeIndex: 3 entries, 0 to 2\n",
      "Data columns (total 2 columns):\n",
      " #   Column  Non-Null Count  Dtype \n",
      "---  ------  --------------  ----- \n",
      " 0   Name    3 non-null      object\n",
      " 1   Age     3 non-null      int64 \n",
      "dtypes: int64(1), object(1)\n",
      "memory usage: 180.0+ bytes\n"
     ]
    }
   ],
   "source": [
    "shape = df.shape        # Shape of the DataFrame (rows, columns)\n",
    "columns = df.columns    # List of column names\n",
    "info = df.info()        # Information about the DataFrame"
   ]
  },
  {
   "cell_type": "markdown",
   "id": "65a42807",
   "metadata": {},
   "source": [
    "#### Accessing Data"
   ]
  },
  {
   "cell_type": "code",
   "execution_count": 56,
   "id": "624ce7f2",
   "metadata": {},
   "outputs": [],
   "source": [
    "name_column = df[\"Name\"]         # Accessing a single column\n",
    "subset = df[[\"Name\", \"Age\"]]     # Accessing multiple columns\n",
    "row = df.iloc[0]                # Accessing a row by index"
   ]
  },
  {
   "cell_type": "markdown",
   "id": "43baa700",
   "metadata": {},
   "source": [
    "### 8.3 Data Cleaning and Transformation\n",
    "\n",
    "#### Handling Missing Values"
   ]
  },
  {
   "cell_type": "code",
   "execution_count": 57,
   "id": "5dae05f7",
   "metadata": {},
   "outputs": [],
   "source": [
    "cleaned_df = df.dropna()   # Remove rows with missing values\n",
    "filled_df = df.fillna(0)   # Fill missing values with 0"
   ]
  },
  {
   "cell_type": "markdown",
   "id": "b628e493",
   "metadata": {},
   "source": [
    "#### Applying Functions\n",
    "\n",
    "You can apply functions to DataFrame columns using the `apply` method:"
   ]
  },
  {
   "cell_type": "code",
   "execution_count": 58,
   "id": "481b6ddc",
   "metadata": {},
   "outputs": [],
   "source": [
    "def double_age(age):\n",
    "    return age * 2\n",
    "\n",
    "df[\"Double Age\"] = df[\"Age\"].apply(double_age)"
   ]
  },
  {
   "cell_type": "markdown",
   "id": "7bd34f0d",
   "metadata": {},
   "source": [
    "#### Grouping and Aggregating"
   ]
  },
  {
   "cell_type": "code",
   "execution_count": 59,
   "id": "c831b29c",
   "metadata": {},
   "outputs": [],
   "source": [
    "grouped = df.groupby(\"Age\")   # Grouping by a column\n",
    "agg_result = grouped[\"Name\"].count()   # Aggregating data"
   ]
  },
  {
   "cell_type": "markdown",
   "id": "b54b1310",
   "metadata": {},
   "source": [
    "Pandas provides numerous functions for data manipulation, merging, and more.\n",
    "\n",
    "This concludes the content for the eighth chapter. In the next section, we'll delve into **Matplotlib** for data visualization.\n",
    "\n",
    "\n",
    "## Chapter 9: Data Visualization with Matplotlib and Seaborn\n",
    "\n",
    "Data visualization is a crucial aspect of data analysis. In this chapter, we'll explore how to use Matplotlib and Seaborn, two popular Python libraries, to create visually informative plots and graphs to better understand your data.\n",
    "\n",
    "### 9.1 Introduction to Data Visualization\n",
    "\n",
    "#### Why Data Visualization?\n",
    "\n",
    "Data visualization helps convey insights and trends from data that might not be apparent from raw numbers. It enhances understanding and aids in decision-making.\n",
    "\n",
    "### 9.2 Creating Plots with Matplotlib\n",
    "\n",
    "#### What is Matplotlib?\n",
    "\n",
    "Matplotlib is a widely-used Python plotting library that produces high-quality static, animated, and interactive visualizations.\n",
    "\n",
    "#### Installing Matplotlib\n",
    "\n",
    "To install Matplotlib, you can use the following command:"
   ]
  },
  {
   "cell_type": "code",
   "execution_count": 60,
   "id": "efab8af9",
   "metadata": {},
   "outputs": [
    {
     "name": "stderr",
     "output_type": "stream",
     "text": [
      "\u001b[33mDEPRECATION: Loading egg at /Users/davidvanderbyl/anaconda3/envs/myenv/lib/python3.11/site-packages/code_to_text-0.2-py3.11.egg is deprecated. pip 23.3 will enforce this behaviour change. A possible replacement is to use pip for package installation..\u001b[0m\u001b[33m\n"
     ]
    },
    {
     "name": "stdout",
     "output_type": "stream",
     "text": [
      "Requirement already satisfied: matplotlib in /Users/davidvanderbyl/anaconda3/envs/myenv/lib/python3.11/site-packages (3.7.1)\n",
      "Requirement already satisfied: contourpy>=1.0.1 in /Users/davidvanderbyl/anaconda3/envs/myenv/lib/python3.11/site-packages (from matplotlib) (1.0.7)\n",
      "Requirement already satisfied: cycler>=0.10 in /Users/davidvanderbyl/anaconda3/envs/myenv/lib/python3.11/site-packages (from matplotlib) (0.11.0)\n",
      "Requirement already satisfied: fonttools>=4.22.0 in /Users/davidvanderbyl/anaconda3/envs/myenv/lib/python3.11/site-packages (from matplotlib) (4.39.4)\n",
      "Requirement already satisfied: kiwisolver>=1.0.1 in /Users/davidvanderbyl/anaconda3/envs/myenv/lib/python3.11/site-packages (from matplotlib) (1.4.4)\n",
      "Requirement already satisfied: numpy>=1.20 in /Users/davidvanderbyl/anaconda3/envs/myenv/lib/python3.11/site-packages (from matplotlib) (1.25.1)\n",
      "Requirement already satisfied: packaging>=20.0 in /Users/davidvanderbyl/anaconda3/envs/myenv/lib/python3.11/site-packages (from matplotlib) (23.1)\n",
      "Requirement already satisfied: pillow>=6.2.0 in /Users/davidvanderbyl/anaconda3/envs/myenv/lib/python3.11/site-packages (from matplotlib) (9.5.0)\n",
      "Requirement already satisfied: pyparsing>=2.3.1 in /Users/davidvanderbyl/anaconda3/envs/myenv/lib/python3.11/site-packages (from matplotlib) (3.0.9)\n",
      "Requirement already satisfied: python-dateutil>=2.7 in /Users/davidvanderbyl/anaconda3/envs/myenv/lib/python3.11/site-packages (from matplotlib) (2.8.2)\n",
      "Requirement already satisfied: six>=1.5 in /Users/davidvanderbyl/anaconda3/envs/myenv/lib/python3.11/site-packages (from python-dateutil>=2.7->matplotlib) (1.16.0)\n"
     ]
    },
    {
     "name": "stderr",
     "output_type": "stream",
     "text": [
      "\u001b[0m\u001b[33mDEPRECATION: torchsde 0.2.5 has a non-standard dependency specifier numpy>=1.19.*; python_version >= \"3.7\". pip 23.3 will enforce this behaviour change. A possible replacement is to upgrade to a newer version of torchsde or contact the author to suggest that they release a version with a conforming dependency specifiers. Discussion can be found at https://github.com/pypa/pip/issues/12063\u001b[0m\u001b[33m\n",
      "\u001b[0m"
     ]
    }
   ],
   "source": [
    "%%bash\n",
    "pip install matplotlib"
   ]
  },
  {
   "cell_type": "markdown",
   "id": "24a2f742",
   "metadata": {},
   "source": [
    "#### Basic Line Plot"
   ]
  },
  {
   "cell_type": "code",
   "execution_count": 61,
   "id": "e5a4de23",
   "metadata": {},
   "outputs": [
    {
     "data": {
      "image/png": "[encoded data removed]",
      "text/plain": [
       "<Figure size 640x480 with 1 Axes>"
      ]
     },
     "metadata": {},
     "output_type": "display_data"
    }
   ],
   "source": [
    "import matplotlib.pyplot as plt\n",
    "\n",
    "x = [1, 2, 3, 4, 5]\n",
    "y = [2, 4, 6, 8, 10]\n",
    "\n",
    "plt.plot(x, y)\n",
    "plt.xlabel(\"X-axis\")\n",
    "plt.ylabel(\"Y-axis\")\n",
    "plt.title(\"Simple Line Plot\")\n",
    "plt.show()"
   ]
  },
  {
   "cell_type": "markdown",
   "id": "343230f0",
   "metadata": {},
   "source": [
    "#### Scatter Plot"
   ]
  },
  {
   "cell_type": "code",
   "execution_count": 62,
   "id": "62fe8160",
   "metadata": {},
   "outputs": [
    {
     "data": {
      "image/png": "[encoded data removed]",
      "text/plain": [
       "<Figure size 640x480 with 1 Axes>"
      ]
     },
     "metadata": {},
     "output_type": "display_data"
    }
   ],
   "source": [
    "plt.scatter(x, y, color='red', marker='o', label='Data Points')\n",
    "plt.legend()\n",
    "plt.show()"
   ]
  },
  {
   "cell_type": "markdown",
   "id": "76985683",
   "metadata": {},
   "source": [
    "### 9.3 Advanced Visualization with Seaborn\n",
    "\n",
    "#### What is Seaborn?\n",
    "\n",
    "Seaborn is built on top of Matplotlib and provides a higher-level interface for creating attractive and informative statistical graphics.\n",
    "\n",
    "#### Installing Seaborn\n",
    "\n",
    "To install Seaborn, you can use the following command:\n",
    "\n",
    "```bash\n",
    "pip install seaborn\n",
    "```"
   ]
  },
  {
   "cell_type": "markdown",
   "id": "050a2349",
   "metadata": {},
   "source": [
    "#### Bar Plot"
   ]
  },
  {
   "cell_type": "code",
   "execution_count": 64,
   "id": "266b3f1f",
   "metadata": {},
   "outputs": [
    {
     "data": {
      "image/png": "[encoded data removed]",
      "text/plain": [
       "<Figure size 640x480 with 1 Axes>"
      ]
     },
     "metadata": {},
     "output_type": "display_data"
    }
   ],
   "source": [
    "import seaborn as sns\n",
    "\n",
    "data = {\"Category\": [\"A\", \"B\", \"C\", \"D\"],\n",
    "        \"Values\": [10, 25, 15, 30]}\n",
    "df = pd.DataFrame(data)\n",
    "\n",
    "sns.barplot(x=\"Category\", y=\"Values\", data=df)\n",
    "plt.xlabel(\"Categories\")\n",
    "plt.ylabel(\"Values\")\n",
    "plt.title(\"Bar Plot with Seaborn\")\n",
    "plt.show()"
   ]
  },
  {
   "cell_type": "markdown",
   "id": "c1dac2b6",
   "metadata": {},
   "source": [
    "#### Histogram"
   ]
  },
  {
   "cell_type": "code",
   "execution_count": 65,
   "id": "e9d9764e",
   "metadata": {},
   "outputs": [
    {
     "data": {
      "image/png": "[encoded data removed]",
      "text/plain": [
       "<Figure size 640x480 with 1 Axes>"
      ]
     },
     "metadata": {},
     "output_type": "display_data"
    }
   ],
   "source": [
    "sns.histplot(data=df, x=\"Values\", bins=10, kde=True)\n",
    "plt.xlabel(\"Values\")\n",
    "plt.ylabel(\"Frequency\")\n",
    "plt.title(\"Histogram with Seaborn\")\n",
    "plt.show()"
   ]
  },
  {
   "cell_type": "markdown",
   "id": "cca6e810",
   "metadata": {},
   "source": [
    "## Chapter 10: Machine Learning Basics with Scikit-Learn\n",
    "\n",
    "Machine learning is a rapidly growing field that focuses on developing algorithms that allow computers to learn patterns from data. In this chapter, we'll explore the fundamentals of machine learning using the Scikit-Learn library.\n",
    "\n",
    "### 10.1 Introduction to Machine Learning\n",
    "\n",
    "#### What is Machine Learning?\n",
    "\n",
    "Machine learning is the process of enabling computers to learn from data and improve their performance on a specific task over time. Instead of relying on explicit programming, machine learning algorithms are designed to learn patterns and relationships from data, enabling them to make predictions or decisions on new, unseen data. Machine learning models become more accurate as they are exposed to more data and learn from it.\n",
    "\n",
    "Machine learning is utilized across various domains, including image and speech recognition, recommendation systems, medical diagnosis, financial analysis, and more. It empowers computers to perform tasks that were previously thought to require human intelligence.\n",
    "\n",
    "#### Types of Machine Learning\n",
    "\n",
    "Machine learning can be categorized into several types based on the learning process and the nature of the data:\n",
    "\n",
    "- **Supervised Learning**: In supervised learning, the model is trained using labeled data, which consists of input data paired with corresponding output labels. The goal is to learn a mapping from inputs to outputs, allowing the model to make predictions on new, unseen data. Common examples include classification (categorizing data into classes) and regression (predicting continuous values).\n",
    "\n",
    "- **Unsupervised Learning**: Unsupervised learning involves working with unlabeled data, where the goal is to discover patterns, relationships, or structures within the data. Clustering is a common unsupervised learning technique that groups similar data points together based on certain features. Dimensionality reduction techniques, such as Principal Component Analysis (PCA), aim to reduce the number of features while retaining essential information.\n",
    "\n",
    "- **Semi-Supervised Learning**: Semi-supervised learning combines elements of both supervised and unsupervised learning. It leverages a small amount of labeled data and a larger amount of unlabeled data to improve model performance. This approach is useful when obtaining labeled data is expensive or time-consuming.\n",
    "\n",
    "- **Reinforcement Learning**: Reinforcement learning involves training a model to make decisions through interaction with an environment. The model receives feedback in the form of rewards or penalties based on its actions. Over time, the model learns to take actions that maximize cumulative rewards. Reinforcement learning is commonly used in scenarios such as robotics, game playing, and autonomous systems.\n",
    "\n",
    "Each type of machine learning has its own set of algorithms and techniques, and the choice of which type to use depends on the problem you're trying to solve and the nature of your data.\n"
   ]
  },
  {
   "cell_type": "markdown",
   "id": "4476e4bc",
   "metadata": {},
   "source": [
    "### 10.2 Data Preprocessing for Machine Learning\n",
    "\n",
    "#### Why Data Preprocessing?\n",
    "\n",
    "Data preprocessing is a crucial step in the machine learning pipeline. Raw data often contains inconsistencies, missing values, and variations that can adversely affect the performance of machine learning algorithms. Preprocessing involves cleaning, transforming, and organizing raw data into a format suitable for machine learning algorithms.\n",
    "\n",
    "\n",
    "#### Handling Missing Data\n",
    "\n",
    "Missing data is a common challenge in real-world datasets. It's essential to address missing values before training a machine learning model. One common approach is to remove rows containing missing values. Here's an example using pandas:"
   ]
  },
  {
   "cell_type": "code",
   "execution_count": 75,
   "id": "7f91ff59",
   "metadata": {},
   "outputs": [
    {
     "data": {
      "text/markdown": [
       "**Original Data:**"
      ],
      "text/plain": [
       "<IPython.core.display.Markdown object>"
      ]
     },
     "metadata": {},
     "output_type": "display_data"
    },
    {
     "data": {
      "text/html": [
       "<div>\n",
       "<style scoped>\n",
       "    .dataframe tbody tr th:only-of-type {\n",
       "        vertical-align: middle;\n",
       "    }\n",
       "\n",
       "    .dataframe tbody tr th {\n",
       "        vertical-align: top;\n",
       "    }\n",
       "\n",
       "    .dataframe thead th {\n",
       "        text-align: right;\n",
       "    }\n",
       "</style>\n",
       "<table border=\"1\" class=\"dataframe\">\n",
       "  <thead>\n",
       "    <tr style=\"text-align: right;\">\n",
       "      <th></th>\n",
       "      <th>A</th>\n",
       "    </tr>\n",
       "  </thead>\n",
       "  <tbody>\n",
       "    <tr>\n",
       "      <th>0</th>\n",
       "      <td>1.0</td>\n",
       "    </tr>\n",
       "    <tr>\n",
       "      <th>1</th>\n",
       "      <td>2.0</td>\n",
       "    </tr>\n",
       "    <tr>\n",
       "      <th>2</th>\n",
       "      <td>NaN</td>\n",
       "    </tr>\n",
       "    <tr>\n",
       "      <th>3</th>\n",
       "      <td>4.0</td>\n",
       "    </tr>\n",
       "    <tr>\n",
       "      <th>4</th>\n",
       "      <td>5.0</td>\n",
       "    </tr>\n",
       "  </tbody>\n",
       "</table>\n",
       "</div>"
      ],
      "text/plain": [
       "     A\n",
       "0  1.0\n",
       "1  2.0\n",
       "2  NaN\n",
       "3  4.0\n",
       "4  5.0"
      ]
     },
     "metadata": {},
     "output_type": "display_data"
    },
    {
     "data": {
      "text/markdown": [
       "**Cleaned Data:**"
      ],
      "text/plain": [
       "<IPython.core.display.Markdown object>"
      ]
     },
     "metadata": {},
     "output_type": "display_data"
    },
    {
     "data": {
      "text/html": [
       "<div>\n",
       "<style scoped>\n",
       "    .dataframe tbody tr th:only-of-type {\n",
       "        vertical-align: middle;\n",
       "    }\n",
       "\n",
       "    .dataframe tbody tr th {\n",
       "        vertical-align: top;\n",
       "    }\n",
       "\n",
       "    .dataframe thead th {\n",
       "        text-align: right;\n",
       "    }\n",
       "</style>\n",
       "<table border=\"1\" class=\"dataframe\">\n",
       "  <thead>\n",
       "    <tr style=\"text-align: right;\">\n",
       "      <th></th>\n",
       "      <th>A</th>\n",
       "    </tr>\n",
       "  </thead>\n",
       "  <tbody>\n",
       "    <tr>\n",
       "      <th>0</th>\n",
       "      <td>1.0</td>\n",
       "    </tr>\n",
       "    <tr>\n",
       "      <th>1</th>\n",
       "      <td>2.0</td>\n",
       "    </tr>\n",
       "    <tr>\n",
       "      <th>3</th>\n",
       "      <td>4.0</td>\n",
       "    </tr>\n",
       "    <tr>\n",
       "      <th>4</th>\n",
       "      <td>5.0</td>\n",
       "    </tr>\n",
       "  </tbody>\n",
       "</table>\n",
       "</div>"
      ],
      "text/plain": [
       "     A\n",
       "0  1.0\n",
       "1  2.0\n",
       "3  4.0\n",
       "4  5.0"
      ]
     },
     "metadata": {},
     "output_type": "display_data"
    }
   ],
   "source": [
    "import pandas as pd\n",
    "from IPython.display import display, Markdown\n",
    "\n",
    "data = pd.DataFrame({\"A\": [1, 2, np.nan, 4, 5]})\n",
    "\n",
    "cleaned_data = data.dropna()   # Drop rows with missing values\n",
    "\n",
    "display(Markdown(\"**Original Data:**\"))\n",
    "display(data) \n",
    "\n",
    "\n",
    "display(Markdown(\"**Cleaned Data:**\"))\n",
    "display(cleaned_data) "
   ]
  },
  {
   "cell_type": "markdown",
   "id": "0b3b63f6",
   "metadata": {},
   "source": [
    "#### Feature Scaling\n",
    "\n",
    "Feature scaling is an important preprocessing step, especially when working with algorithms that are sensitive to the scale of input features. Scaling ensures that all features have similar magnitudes, preventing certain features from dominating others.\n",
    "\n",
    "One common scaling technique is standardization, where features are scaled to have zero mean and unit variance. Here's an example using scikit-learn's StandardScaler:"
   ]
  },
  {
   "cell_type": "code",
   "execution_count": 77,
   "id": "c5996460",
   "metadata": {},
   "outputs": [
    {
     "data": {
      "text/markdown": [
       "**Scaled Data (After Feature Scaling):**"
      ],
      "text/plain": [
       "<IPython.core.display.Markdown object>"
      ]
     },
     "metadata": {},
     "output_type": "display_data"
    },
    {
     "data": {
      "text/html": [
       "<div>\n",
       "<style scoped>\n",
       "    .dataframe tbody tr th:only-of-type {\n",
       "        vertical-align: middle;\n",
       "    }\n",
       "\n",
       "    .dataframe tbody tr th {\n",
       "        vertical-align: top;\n",
       "    }\n",
       "\n",
       "    .dataframe thead th {\n",
       "        text-align: right;\n",
       "    }\n",
       "</style>\n",
       "<table border=\"1\" class=\"dataframe\">\n",
       "  <thead>\n",
       "    <tr style=\"text-align: right;\">\n",
       "      <th></th>\n",
       "      <th>A</th>\n",
       "    </tr>\n",
       "  </thead>\n",
       "  <tbody>\n",
       "    <tr>\n",
       "      <th>0</th>\n",
       "      <td>-1.264911</td>\n",
       "    </tr>\n",
       "    <tr>\n",
       "      <th>1</th>\n",
       "      <td>-0.632456</td>\n",
       "    </tr>\n",
       "    <tr>\n",
       "      <th>2</th>\n",
       "      <td>0.632456</td>\n",
       "    </tr>\n",
       "    <tr>\n",
       "      <th>3</th>\n",
       "      <td>1.264911</td>\n",
       "    </tr>\n",
       "  </tbody>\n",
       "</table>\n",
       "</div>"
      ],
      "text/plain": [
       "          A\n",
       "0 -1.264911\n",
       "1 -0.632456\n",
       "2  0.632456\n",
       "3  1.264911"
      ]
     },
     "metadata": {},
     "output_type": "display_data"
    }
   ],
   "source": [
    "from sklearn.preprocessing import StandardScaler\n",
    "from IPython.display import display, Markdown\n",
    "\n",
    "scaler = StandardScaler()\n",
    "scaled_data = scaler.fit_transform(cleaned_data)\n",
    "\n",
    "display(Markdown(\"**Scaled Data (After Feature Scaling):**\"))\n",
    "display(pd.DataFrame(scaled_data, columns=cleaned_data.columns))\n"
   ]
  },
  {
   "cell_type": "markdown",
   "id": "78c77a83",
   "metadata": {},
   "source": [
    "In this example, the StandardScaler standardizes the data by subtracting the mean and dividing by the standard deviation. This ensures that the scaled data has zero mean and unit variance.\n",
    "\n",
    "Data preprocessing, including handling missing data and feature scaling, is essential for creating reliable and accurate machine learning models. Proper preprocessing enhances the model's ability to learn patterns and relationships from the data."
   ]
  },
  {
   "cell_type": "markdown",
   "id": "07ca7ec5",
   "metadata": {},
   "source": [
    "### 10.3 Regression and Classification\n",
    "\n",
    "#### Regression\n",
    "\n",
    "Regression is a powerful and widely used type of supervised learning that plays a crucial role in data analysis and prediction. It aims to predict continuous numerical values based on input features. This technique is commonly employed in various fields, including economics, finance, healthcare, and more. Let's dive deeper into regression and its significance:\n",
    "\n",
    "**Significance of Regression:**\n",
    "\n",
    "- **Predictive Analysis**: Regression models allow us to make predictions about outcomes based on input variables. For instance, we can predict stock prices, sales revenue, or temperature values using historical data.\n",
    "\n",
    "- **Understanding Relationships**: Regression helps us understand the relationships between variables. We can determine how changes in one variable affect another variable, quantifying their correlation.\n",
    "\n",
    "- **Feature Importance**: Regression can help identify which input features have the most significant impact on the target variable. This knowledge is valuable for decision-making and feature selection.\n",
    "\n",
    "**Linear Regression Example:**\n",
    "\n",
    "Linear regression is a fundamental technique in regression analysis. It assumes a linear relationship between the input features and the target variable. The goal is to find the best-fitting line that minimizes the difference between the predicted and actual values.\n",
    "\n",
    "Consider a scenario where you have historical data on the number of hours studied (input) and the corresponding exam scores (output). By applying linear regression, you can predict an exam score based on the number of hours a student studies.\n",
    "\n",
    "**Python Example:**\n",
    "\n",
    "Linear regression models the relationship between input features and a continuous target variable. Here's how to perform linear regression using scikit-learn's `LinearRegression`:\n",
    "\n",
    "- Create synthetic data with input features (`X`) and target values (`y`).\n",
    "- Initialize the `LinearRegression` model.\n",
    "- Fit the model to the data using the `fit` method.\n",
    "- Predict the output for new input using the `predict` method."
   ]
  },
  {
   "cell_type": "code",
   "execution_count": 80,
   "id": "dba68868",
   "metadata": {},
   "outputs": [
    {
     "data": {
      "image/png": "[encoded data removed]",
      "text/plain": [
       "<Figure size 640x480 with 1 Axes>"
      ]
     },
     "metadata": {},
     "output_type": "display_data"
    }
   ],
   "source": [
    "import numpy as np\n",
    "from sklearn.linear_model import LinearRegression\n",
    "from sklearn.datasets import make_regression\n",
    "import matplotlib.pyplot as plt\n",
    "\n",
    "# Generate synthetic regression dataset\n",
    "X, y = make_regression(n_samples=100, n_features=1, noise=10, random_state=42)\n",
    "\n",
    "# Initialize the Linear Regression model\n",
    "model = LinearRegression()\n",
    "model.fit(X, y)\n",
    "\n",
    "# Predict the output for a new input\n",
    "new_input = np.array([[2]])  # Use a new input value\n",
    "prediction = model.predict(new_input)\n",
    "\n",
    "# Visualize the data and regression line\n",
    "plt.scatter(X, y, label=\"Original Data\")\n",
    "plt.plot(X, model.predict(X), color='red', label=\"Regression Line\")\n",
    "plt.scatter(new_input, prediction, color='green', marker='x', label=\"Predicted Point\")\n",
    "plt.xlabel(\"Input\")\n",
    "plt.ylabel(\"Output\")\n",
    "plt.legend()\n",
    "plt.title(\"Linear Regression\")\n",
    "plt.show()\n"
   ]
  },
  {
   "cell_type": "markdown",
   "id": "5bf14779",
   "metadata": {},
   "source": [
    "#### Classification\n",
    "\n",
    "Classification is a fundamental task in supervised learning that involves assigning categorical labels or classes to input data. It has wide-ranging applications, from image recognition to disease diagnosis, spam filtering, and sentiment analysis. Understanding classification is pivotal in building models that can categorize data into meaningful classes:\n",
    "\n",
    "**Significance of Classification:**\n",
    "\n",
    "- **Pattern Recognition**: Classification models are designed to recognize patterns and features in data, allowing them to make informed decisions about the labels or categories.\n",
    "\n",
    "- **Decision Making**: Classification algorithms aid in decision-making by providing insights into which category a new instance belongs to, based on its features.\n",
    "\n",
    "- **Risk Assessment**: In fields like healthcare, classification models can help assess the risk of certain medical conditions based on patient data and historical trends.\n",
    "\n",
    "**K-Nearest Neighbors (KNN) Classification Example:**\n",
    "\n",
    "KNN is a straightforward classification algorithm that assigns a data point to the majority class of its k-nearest neighbors. For instance, in an image classification task, KNN identifies the class based on the most similar images in its proximity.\n",
    "\n",
    "Imagine you're working with the famous Iris dataset, which includes various features of different iris flower species. By applying KNN classification, you can predict the species of an iris flower based on its features and the features of its nearest neighbors.\n",
    "\n",
    "\n",
    "**Python Example:**\n",
    "\n",
    "KNN is a simple classification algorithm that assigns a new instance to the class most common among its k-nearest neighbors.\n",
    "\n",
    "- Load a dataset, such as the Iris dataset, which includes input features (`X`) and target labels (`y`).\n",
    "- Split the data into training and testing sets using `train_test_split`.\n",
    "- Initialize the `KNeighborsClassifier` with a specified number of neighbors (`n_neighbors`).\n",
    "- Train the classifier on the training data using the `fit` method.\n",
    "- Evaluate the model's accuracy on the test data using the `score` method.\n",
    "\n",
    "For this lets use the Iris dataset, which is a commonly used dataset in machine learning and consists of three classes of iris plants, each represented by four features (sepal length, sepal width, petal length, petal width). The goal is to predict the species of iris based on these features."
   ]
  },
  {
   "cell_type": "code",
   "execution_count": 114,
   "id": "50571123",
   "metadata": {},
   "outputs": [
    {
     "data": {
      "text/markdown": [
       "**Data:**"
      ],
      "text/plain": [
       "<IPython.core.display.Markdown object>"
      ]
     },
     "metadata": {},
     "output_type": "display_data"
    },
    {
     "data": {
      "text/html": [
       "<div>\n",
       "<style scoped>\n",
       "    .dataframe tbody tr th:only-of-type {\n",
       "        vertical-align: middle;\n",
       "    }\n",
       "\n",
       "    .dataframe tbody tr th {\n",
       "        vertical-align: top;\n",
       "    }\n",
       "\n",
       "    .dataframe thead th {\n",
       "        text-align: right;\n",
       "    }\n",
       "</style>\n",
       "<table border=\"1\" class=\"dataframe\">\n",
       "  <thead>\n",
       "    <tr style=\"text-align: right;\">\n",
       "      <th></th>\n",
       "      <th>sepal length (cm)</th>\n",
       "      <th>sepal width (cm)</th>\n",
       "      <th>petal length (cm)</th>\n",
       "      <th>petal width (cm)</th>\n",
       "      <th>target</th>\n",
       "    </tr>\n",
       "  </thead>\n",
       "  <tbody>\n",
       "    <tr>\n",
       "      <th>0</th>\n",
       "      <td>5.1</td>\n",
       "      <td>3.5</td>\n",
       "      <td>1.4</td>\n",
       "      <td>0.2</td>\n",
       "      <td>0</td>\n",
       "    </tr>\n",
       "    <tr>\n",
       "      <th>1</th>\n",
       "      <td>4.9</td>\n",
       "      <td>3.0</td>\n",
       "      <td>1.4</td>\n",
       "      <td>0.2</td>\n",
       "      <td>0</td>\n",
       "    </tr>\n",
       "    <tr>\n",
       "      <th>2</th>\n",
       "      <td>4.7</td>\n",
       "      <td>3.2</td>\n",
       "      <td>1.3</td>\n",
       "      <td>0.2</td>\n",
       "      <td>0</td>\n",
       "    </tr>\n",
       "    <tr>\n",
       "      <th>3</th>\n",
       "      <td>4.6</td>\n",
       "      <td>3.1</td>\n",
       "      <td>1.5</td>\n",
       "      <td>0.2</td>\n",
       "      <td>0</td>\n",
       "    </tr>\n",
       "    <tr>\n",
       "      <th>4</th>\n",
       "      <td>5.0</td>\n",
       "      <td>3.6</td>\n",
       "      <td>1.4</td>\n",
       "      <td>0.2</td>\n",
       "      <td>0</td>\n",
       "    </tr>\n",
       "  </tbody>\n",
       "</table>\n",
       "</div>"
      ],
      "text/plain": [
       "   sepal length (cm)  sepal width (cm)  petal length (cm)  petal width (cm)   \n",
       "0                5.1               3.5                1.4               0.2  \\\n",
       "1                4.9               3.0                1.4               0.2   \n",
       "2                4.7               3.2                1.3               0.2   \n",
       "3                4.6               3.1                1.5               0.2   \n",
       "4                5.0               3.6                1.4               0.2   \n",
       "\n",
       "   target  \n",
       "0       0  \n",
       "1       0  \n",
       "2       0  \n",
       "3       0  \n",
       "4       0  "
      ]
     },
     "metadata": {},
     "output_type": "display_data"
    },
    {
     "data": {
      "text/markdown": [
       "**Accuracy:**"
      ],
      "text/plain": [
       "<IPython.core.display.Markdown object>"
      ]
     },
     "metadata": {},
     "output_type": "display_data"
    },
    {
     "data": {
      "text/plain": [
       "96.66666666666667"
      ]
     },
     "metadata": {},
     "output_type": "display_data"
    },
    {
     "data": {
      "image/png": "[encoded data removed]",
      "text/plain": [
       "<Figure size 1000x800 with 1 Axes>"
      ]
     },
     "metadata": {},
     "output_type": "display_data"
    }
   ],
   "source": [
    "from sklearn.datasets import load_iris\n",
    "from sklearn.model_selection import train_test_split\n",
    "from sklearn.neighbors import KNeighborsClassifier\n",
    "import matplotlib.pyplot as plt\n",
    "import seaborn as sns\n",
    "import pandas as pd\n",
    "from IPython.display import display, Markdown\n",
    "\n",
    "# Load the Iris dataset\n",
    "iris = load_iris()\n",
    "X = iris.data\n",
    "y = iris.target\n",
    "\n",
    "# Create a pandas DataFrame from the dataset\n",
    "iris_df = pd.DataFrame(data=iris.data, columns=iris.feature_names)\n",
    "iris_df['target'] = iris.target\n",
    "\n",
    "display(Markdown('**Data:**'))\n",
    "display(iris_df.head())\n",
    "\n",
    "# Split the data into training and testing sets\n",
    "X_train, X_test, y_train, y_test = train_test_split(X, y, test_size=0.2)\n",
    "\n",
    "# Initialize the KNeighborsClassifier\n",
    "classifier = KNeighborsClassifier(n_neighbors=10)\n",
    "classifier.fit(X_train, y_train)\n",
    "\n",
    "# Evaluate the model's accuracy on the test data\n",
    "accuracy = classifier.score(X_test, y_test)\n",
    "display(Markdown('**Accuracy:**'))\n",
    "display(accuracy * 100)\n",
    "\n",
    "# Create a grid to plot decision boundaries\n",
    "x_min, x_max = X[:, 2].min() - 1, X[:, 2].max() + 1\n",
    "y_min, y_max = X[:, 3].min() - 1, X[:, 3].max() + 1\n",
    "xx, yy = np.meshgrid(np.arange(x_min, x_max, 0.01), np.arange(y_min, y_max, 0.01))\n",
    "\n",
    "# Get predicted class for each point in the grid\n",
    "Z = classifier.predict(np.c_[xx.ravel(), yy.ravel(), xx.ravel(), yy.ravel()])\n",
    "Z = Z.reshape(xx.shape)\n",
    "\n",
    "# Visualize the decision boundary\n",
    "plt.figure(figsize=(10, 8))\n",
    "\n",
    "# Contour plot for decision boundary\n",
    "plt.contourf(xx, yy, Z, alpha=0.8, cmap='Set2')\n",
    "\n",
    "# Scatter plot of the original data points, colored by target class\n",
    "sns.scatterplot(x=X[:, 2], y=X[:, 3], hue=iris.target_names[y], palette='Set2', edgecolor='k')\n",
    "\n",
    "sns.despine()\n",
    "plt.title(\"K-Nearest Neighbors Classification\")\n",
    "plt.xlabel(\"Petal Length (cm)\")\n",
    "plt.ylabel(\"Petal Width (cm)\")\n",
    "plt.legend(title=\"Iris Species\")\n",
    "plt.show()\n"
   ]
  },
  {
   "cell_type": "markdown",
   "id": "31e41e16",
   "metadata": {},
   "source": [
    "Understanding regression and classification techniques is essential for building predictive models that can make accurate predictions or assign appropriate labels to new data. These concepts serve as building blocks for more complex machine learning applications.\n",
    "\n",
    "Scikit-Learn provides a wide range of algorithms for various machine learning tasks.\n",
    "\n",
    "This concludes the content for the tenth chapter. In the final section, we'll wrap up the handbook with a **Conclusion**."
   ]
  },
  {
   "cell_type": "markdown",
   "id": "1b07d9c8",
   "metadata": {},
   "source": [
    "## Chapter 11: Advanced Data Science Topics\n",
    "\n",
    "In this final chapter, we'll explore some advanced topics in data science that build upon the foundational concepts covered earlier in this handbook.\n",
    "\n",
    "### 11.1 Dimensionality Reduction\n",
    "\n",
    "#### What is Dimensionality Reduction?\n",
    "\n",
    "Dimensionality reduction techniques aim to reduce the number of features in a dataset while preserving its important characteristics. This is particularly useful for high-dimensional data, where the presence of numerous features can lead to various challenges, including increased computational complexity and the risk of overfitting.\n",
    "\n",
    "Reducing dimensionality can have several benefits:\n",
    "\n",
    "- **Computational Efficiency:** High-dimensional data can be computationally intensive to work with. Dimensionality reduction can help speed up calculations and analysis.\n",
    "\n",
    "- **Visualization:** Visualizing high-dimensional data can be challenging. Reducing the data to two or three dimensions makes it easier to visualize and interpret.\n",
    "\n",
    "- **Noise Reduction:** Some features may contain noise or irrelevant information. Dimensionality reduction can help remove noise and improve the signal-to-noise ratio.\n",
    "\n",
    "#### Principal Component Analysis (PCA)\n",
    "\n",
    "Principal Component Analysis (PCA) is one of the most well-known dimensionality reduction techniques. It aims to transform the original features into a new coordinate system, where the first principal component captures the most variance in the data, the second principal component captures the second most, and so on.\n",
    "\n",
    "PCA works by identifying the directions (principal components) along which the variance of the data is maximized. These directions are orthogonal to each other, ensuring that the new features are uncorrelated. The transformation reduces the data's dimensionality while retaining as much information as possible."
   ]
  },
  {
   "cell_type": "code",
   "execution_count": 74,
   "id": "13117e5e",
   "metadata": {},
   "outputs": [
    {
     "data": {
      "text/markdown": [
       "**Original Data:**"
      ],
      "text/plain": [
       "<IPython.core.display.Markdown object>"
      ]
     },
     "metadata": {},
     "output_type": "display_data"
    },
    {
     "data": {
      "text/plain": [
       "array([[5.1, 3.5, 1.4, 0.2],\n",
       "       [4.9, 3. , 1.4, 0.2],\n",
       "       [4.7, 3.2, 1.3, 0.2],\n",
       "       [4.6, 3.1, 1.5, 0.2],\n",
       "       [5. , 3.6, 1.4, 0.2]])"
      ]
     },
     "metadata": {},
     "output_type": "display_data"
    },
    {
     "data": {
      "text/markdown": [
       "**Transformed Data (After PCA):**"
      ],
      "text/plain": [
       "<IPython.core.display.Markdown object>"
      ]
     },
     "metadata": {},
     "output_type": "display_data"
    },
    {
     "data": {
      "text/plain": [
       "array([[-2.68412563,  0.31939725],\n",
       "       [-2.71414169, -0.17700123],\n",
       "       [-2.88899057, -0.14494943],\n",
       "       [-2.74534286, -0.31829898],\n",
       "       [-2.72871654,  0.32675451]])"
      ]
     },
     "metadata": {},
     "output_type": "display_data"
    },
    {
     "data": {
      "image/png": "[encoded data removed]",
      "text/plain": [
       "<Figure size 1000x400 with 4 Axes>"
      ]
     },
     "metadata": {},
     "output_type": "display_data"
    }
   ],
   "source": [
    "import matplotlib.pyplot as plt\n",
    "from sklearn.decomposition import PCA\n",
    "from sklearn.datasets import load_iris\n",
    "from IPython.display import display, Markdown\n",
    "\n",
    "# Load the iris dataset\n",
    "iris = load_iris()\n",
    "X = iris.data\n",
    "y = iris.target\n",
    "\n",
    "# Display the original data\n",
    "display(Markdown(\"**Original Data:**\"))\n",
    "display(X[:5])  # Display the first 5 rows of the original data\n",
    "\n",
    "# Apply PCA\n",
    "pca = PCA(n_components=2)\n",
    "transformed_data = pca.fit_transform(X)\n",
    "\n",
    "# Display the transformed data\n",
    "display(Markdown(\"**Transformed Data (After PCA):**\"))\n",
    "display(transformed_data[:5])  # Display the first 5 rows of the transformed data\n",
    "\n",
    "# Plot the original data\n",
    "plt.figure(figsize=(10, 4))\n",
    "plt.subplot(1, 2, 1)\n",
    "plt.scatter(X[:, 0], X[:, 1], c=y, cmap='viridis')\n",
    "plt.title('Original Data')\n",
    "plt.xlabel('Feature 1')\n",
    "plt.ylabel('Feature 2')\n",
    "plt.colorbar(label='Target')\n",
    "\n",
    "# Plot the transformed data\n",
    "plt.subplot(1, 2, 2)\n",
    "plt.scatter(transformed_data[:, 0], transformed_data[:, 1], c=y, cmap='viridis')\n",
    "plt.title('Transformed Data (PCA)')\n",
    "plt.xlabel('Principal Component 1')\n",
    "plt.ylabel('Principal Component 2')\n",
    "plt.colorbar(label='Target')\n",
    "\n",
    "plt.tight_layout()\n",
    "plt.show()\n"
   ]
  },
  {
   "cell_type": "markdown",
   "id": "5d61b4f0",
   "metadata": {},
   "source": [
    "#### Using PCA in Python\n",
    "\n",
    "Here's an example of how to use PCA in Python with the iris dataset:\n",
    "\n",
    "\n",
    "In this example, the iris dataset is loaded from `sklearn.datasets`, PCA is applied to it, and the transformed data is visualized using a scatter plot. The colors in the plot represent different target classes, allowing you to see how PCA separates the data.\n",
    "\n",
    "#### Conclusion\n",
    "\n",
    "Dimensionality reduction techniques like PCA can be valuable tools for handling high-dimensional data. They can simplify data analysis, visualization, and modeling, while still retaining essential information. Understanding when and how to apply dimensionality reduction is crucial for effective data science and machine learning workflows.\n"
   ]
  },
  {
   "cell_type": "markdown",
   "id": "c025a63a",
   "metadata": {},
   "source": [
    "### 11.2 Clustering Techniques\n",
    "\n",
    "#### What is Clustering?\n",
    "\n",
    "Clustering is a fundamental unsupervised learning technique that involves grouping similar data points together. It's used to discover hidden patterns, structures, and relationships within the data. Clustering is particularly useful when you have unlabelled data and want to gain insights into its inherent structure.\n",
    "\n",
    "**K-Means Clustering**\n",
    "\n",
    "K-Means is a widely used and intuitive clustering algorithm. It aims to partition data into K clusters, where each cluster is represented by its centroid. Data points are assigned to the cluster whose centroid they are closest to."
   ]
  },
  {
   "cell_type": "code",
   "execution_count": 117,
   "id": "173dacff",
   "metadata": {},
   "outputs": [
    {
     "data": {
      "image/png": "[encoded data removed]",
      "text/plain": [
       "<Figure size 640x480 with 1 Axes>"
      ]
     },
     "metadata": {},
     "output_type": "display_data"
    }
   ],
   "source": [
    "from sklearn.cluster import KMeans\n",
    "from sklearn.datasets import make_blobs\n",
    "import matplotlib.pyplot as plt\n",
    "\n",
    "# Generate synthetic data with 4 clusters\n",
    "X, _ = make_blobs(n_samples=200, centers=4, random_state=42)\n",
    "\n",
    "# Initialize K-Means with the number of clusters (K)\n",
    "kmeans = KMeans(n_clusters=4, n_init=10)\n",
    "\n",
    "# Fit the model to the data and predict cluster labels\n",
    "cluster_labels = kmeans.fit_predict(X)\n",
    "\n",
    "# Visualize the clusters and centroids\n",
    "plt.scatter(X[:, 0], X[:, 1], c=cluster_labels, cmap='rainbow')\n",
    "plt.scatter(kmeans.cluster_centers_[:, 0], kmeans.cluster_centers_[:, 1], color='black', marker='x', label='Centroids')\n",
    "plt.xlabel('Feature 1')\n",
    "plt.ylabel('Feature 2')\n",
    "plt.title('K-Means Clustering')\n",
    "plt.legend()\n",
    "plt.show()\n"
   ]
  },
  {
   "cell_type": "markdown",
   "id": "40913edb",
   "metadata": {},
   "source": [
    "In this example, we create synthetic data with two distinct groups. We then use K-Means to cluster the data into two clusters. The plot showcases the original data points colored by their assigned cluster, along with the centroids of the clusters."
   ]
  },
  {
   "cell_type": "markdown",
   "id": "a3d673d6",
   "metadata": {},
   "source": [
    "### 11.3 Natural Language Processing\n",
    "\n",
    "#### What is Natural Language Processing (NLP)?\n",
    "\n",
    "Natural Language Processing (NLP) is an interdisciplinary field that combines linguistics, computer science, and artificial intelligence to enable computers to understand, process, and generate human language. NLP plays a pivotal role in various applications, from sentiment analysis to language translation and chatbots.\n",
    "\n",
    "**Text Preprocessing**\n",
    "\n",
    "Text preprocessing is a crucial step in NLP that involves cleaning and transforming raw text data to make it suitable for analysis. Common preprocessing steps include:\n",
    "\n",
    "- **Tokenization**: Breaking text into individual words or tokens.\n",
    "- **Lowercasing**: Converting all text to lowercase to ensure consistent comparisons.\n",
    "- **Removing Stop Words**: Discarding common words (e.g., \"the,\" \"and\") that do not carry significant meaning.\n",
    "- **Stemming or Lemmatization**: Reducing words to their base or root form.\n",
    "\n",
    "**Python example: removing stop words**\n",
    "\n",
    "But first a quick note on stop words: Stop words are common words that are often filtered out from text when processing natural language data. These words are usually considered to be of little value in the context of text analysis because they appear frequently and do not provide significant meaning or insight on their own."
   ]
  },
  {
   "cell_type": "code",
   "execution_count": 127,
   "id": "d6f93928",
   "metadata": {},
   "outputs": [
    {
     "data": {
      "text/markdown": [
       "**Filtered Words:** example, sentence"
      ],
      "text/plain": [
       "<IPython.core.display.Markdown object>"
      ]
     },
     "metadata": {},
     "output_type": "display_data"
    }
   ],
   "source": [
    "import nltk\n",
    "from nltk.corpus import stopwords\n",
    "from nltk.tokenize import word_tokenize\n",
    "from string import punctuation\n",
    "from IPython.display import display, Markdown\n",
    "\n",
    "# Download the NLTK stopwords and punkt tokenizer models\n",
    "nltk.download(\"stopwords\", quiet=True)\n",
    "nltk.download(\"punkt\", quiet=True)\n",
    "\n",
    "# Set up the list of stopwords including punctuation\n",
    "stop_words = set(stopwords.words(\"english\") + list(punctuation))\n",
    "\n",
    "# Define the input text\n",
    "text = \"This is an example sentence.\"\n",
    "\n",
    "# Tokenize the text into individual words\n",
    "words = word_tokenize(text)\n",
    "\n",
    "# Create an empty list to store filtered words\n",
    "filtered_words = []\n",
    "\n",
    "# Iterate through each word in the tokenized text\n",
    "for word in words:\n",
    "    # Convert the word to lowercase for case-insensitive comparison\n",
    "    lowercase_word = word.lower()\n",
    "    \n",
    "    # Check if the lowercase word is not in the set of stop words\n",
    "    if lowercase_word not in stop_words:\n",
    "        # If the word is not a stop word, add it to the filtered_words list\n",
    "        filtered_words.append(word)\n",
    "        \n",
    "#OR: use a list comprehension:\n",
    "\n",
    "filtered_words = [word for word in words if word.lower() not in stop_words]\n",
    "\n",
    "# Display the list of filtered words using Markdown aka not stop words\n",
    "display(Markdown(\"**Filtered Words:** \" + \", \".join(filtered_words)))\n"
   ]
  },
  {
   "cell_type": "markdown",
   "id": "5d8b0a95",
   "metadata": {},
   "source": [
    "Absolutely, I'll provide a more detailed explanation of text vectorization:\n",
    "\n",
    "**Text Vectorization**\n",
    "\n",
    "Text vectorization is a fundamental preprocessing step in natural language processing (NLP) that converts textual data into a numerical format suitable for machine learning algorithms. In other words, it transforms human-readable text into a format that computers can understand and process. The primary objective of text vectorization is to enable algorithms to analyze and derive insights from textual data, allowing us to apply various machine learning techniques to solve real-world problems.\n",
    "\n",
    "In NLP, words are the building blocks of language, and converting them into numerical representations enables computers to perform mathematical operations and statistical analyses on the data. One common and powerful approach to text vectorization is the \"bag-of-words\" model.\n",
    "\n",
    "**Bag-of-Words Model**\n",
    "\n",
    "The bag-of-words model treats each document as a \"bag\" containing a collection of words, disregarding the order and structure of sentences. It focuses solely on the frequency of words present in a document. This model operates under the assumption that the frequency of words can carry valuable information about the content and context of the document.\n",
    "\n",
    "Imagine having a collection of documents as our dataset. The bag-of-words model proceeds as follows:\n",
    "\n",
    "1. **Tokenization**: Break each document into individual words or tokens. These tokens represent the basic units of text that can be analyzed.\n",
    "\n",
    "2. **Vocabulary Creation**: Build a vocabulary by collecting all unique words across all documents. Each word becomes a feature in our vectorized representation.\n",
    "\n",
    "3. **Word Frequency Count**: For each document, count how many times each word from the vocabulary appears. This count becomes a numerical value in the vectorized representation.\n",
    "\n",
    "The resulting vectorized representation is a matrix where rows correspond to documents, columns correspond to unique words in the vocabulary, and each cell contains the count of how many times a word appears in a document. This matrix is commonly referred to as the \"document-term matrix.\"\n",
    "\n",
    "By converting text into a numerical form, the bag-of-words model allows us to apply a wide range of machine learning algorithms that require numerical input. These algorithms can learn patterns, relationships, and associations within the textual data, enabling tasks such as classification, clustering, and sentiment analysis.\n",
    "\n",
    "In the provided code example, the `CountVectorizer` from scikit-learn is a practical implementation of the bag-of-words model. It encapsulates the tokenization, vocabulary creation, and word frequency counting processes, making it easier for us to vectorize text data and prepare it for machine learning tasks.\n",
    "\n",
    "The ability to convert textual information into a format compatible with machine learning algorithms empowers us to extract insights and knowledge from the vast amount of text available in various domains, ranging from social media sentiment analysis to customer reviews and news articles."
   ]
  },
  {
   "cell_type": "code",
   "execution_count": 129,
   "id": "39bbf707",
   "metadata": {},
   "outputs": [
    {
     "data": {
      "image/png": "[encoded data removed]",
      "text/plain": [
       "<Figure size 1000x600 with 1 Axes>"
      ]
     },
     "metadata": {},
     "output_type": "display_data"
    },
    {
     "name": "stdout",
     "output_type": "stream",
     "text": [
      "Vocabulary (Unique Words): ['and' 'document' 'first' 'is' 'one' 'second' 'the' 'third' 'this']\n"
     ]
    }
   ],
   "source": [
    "from sklearn.feature_extraction.text import CountVectorizer\n",
    "import pandas as pd\n",
    "import seaborn as sns\n",
    "import matplotlib.pyplot as plt\n",
    "\n",
    "# Sample text corpus\n",
    "corpus = [\"This is the first document.\",\n",
    "          \"This document is the second document.\",\n",
    "          \"And this is the third one.\"]\n",
    "\n",
    "# Initialize the CountVectorizer\n",
    "vectorizer = CountVectorizer()\n",
    "\n",
    "# Fit and transform the corpus into a document-term matrix\n",
    "X = vectorizer.fit_transform(corpus)\n",
    "\n",
    "# Convert the document-term matrix into a DataFrame for visualization\n",
    "dtm_df = pd.DataFrame(X.toarray(), columns=vectorizer.get_feature_names_out())\n",
    "\n",
    "# Visualize the document-term matrix\n",
    "plt.figure(figsize=(10, 6))\n",
    "sns.heatmap(dtm_df, annot=True, cmap='Blues', cbar=False)\n",
    "plt.title('Document-Term Matrix')\n",
    "plt.xlabel('Words')\n",
    "plt.ylabel('Documents')\n",
    "plt.show()\n",
    "\n",
    "# Display the vocabulary (unique words in the corpus)\n",
    "print(\"Vocabulary (Unique Words):\", vectorizer.get_feature_names_out())\n"
   ]
  },
  {
   "cell_type": "markdown",
   "id": "a687e5e6",
   "metadata": {},
   "source": [
    "\n",
    "The `CountVectorizer` converts the collection of documents into a sparse matrix, where rows represent documents and columns represent unique words. Each cell in the matrix contains the frequency of a word in a document.\n"
   ]
  },
  {
   "cell_type": "markdown",
   "id": "4655037d",
   "metadata": {},
   "source": [
    "## Chapter 12: Conclusion and Further Learning\n",
    "\n",
    "### Conclusion\n",
    "\n",
    "Congratulations! You've completed the Python Tutorial Handbook for Data Science. We've covered a wide range of topics, from the fundamentals of Python programming to advanced data science techniques. Here's a quick recap of what we've learned:\n",
    "\n",
    "- **Introduction to Python Programming**: You've gained a strong foundation in Python, including variables, data types, control structures, and functions.\n",
    "\n",
    "- **Intermediate Python Concepts**: You explored more advanced Python concepts such as file handling, object-oriented programming, and error handling.\n",
    "\n",
    "- **Advanced Python and Data Science Techniques**: You delved into advanced topics like NumPy, Pandas, data visualization with Matplotlib and Seaborn, and machine learning with Scikit-Learn.\n",
    "\n",
    "- **Advanced Data Science Topics**: We touched on dimensionality reduction, clustering techniques, and natural language processing (NLP).\n",
    "\n",
    "### Further Learning\n",
    "\n",
    "Your journey in Python and data science is just beginning. Here are some avenues for further learning and growth:\n",
    "\n",
    "- **Deep Learning**: Dive into the exciting world of deep learning and neural networks with libraries like TensorFlow and PyTorch.\n",
    "\n",
    "- **Big Data Technologies**: Explore tools like Apache Spark and Hadoop for working with big data.\n",
    "\n",
    "- **Cloud Computing**: Familiarize yourself with cloud platforms like AWS, Azure, and Google Cloud for scalable data science solutions.\n",
    "\n",
    "- **Specialized Data Science Fields**: Consider specializing in areas such as computer vision, natural language processing, or reinforcement learning.\n",
    "\n",
    "- **Advanced Statistical Analysis**: Learn more about advanced statistical techniques like Bayesian inference and time series analysis.\n",
    "\n",
    "- **Data Science Projects**: Apply your knowledge to real-world projects to gain practical experience.\n",
    "\n",
    "- **Online Courses and Books**: Take online courses or read books on data science and machine learning.\n",
    "\n",
    "- **Data Science Communities**: Join data science communities and forums to connect with like-minded individuals and stay updated on the latest trends.\n",
    "\n",
    "\n",
    "Thank you for joining us on this educational journey. We wish you success in your endeavors in Python and data science!\n",
    "\n",
    "This concludes the content for the twelfth chapter and the Python Tutorial Handbook for Data Science."
   ]
  }
 ],
 "metadata": {
  "kernelspec": {
   "display_name": "myenv",
   "language": "python",
   "name": "python3"
  },
  "language_info": {
   "codemirror_mode": {
    "name": "ipython",
    "version": 3
   },
   "file_extension": ".py",
   "mimetype": "text/x-python",
   "name": "python",
   "nbconvert_exporter": "python",
   "pygments_lexer": "ipython3",
   "version": "3.11.3"
  }
 },
 "nbformat": 4,
 "nbformat_minor": 5
}
